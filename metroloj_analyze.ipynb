{
 "cells": [
  {
   "cell_type": "markdown",
   "id": "229984b0-103f-49b8-9e38-77ff70cdae5b",
   "metadata": {},
   "source": [
    "<img src=\"images/MetroloJA_logo_white.png\">"
   ]
  },
  {
   "cell_type": "code",
   "execution_count": 1,
   "id": "4545f268-7a4e-441f-b0f2-1bb09387b9f3",
   "metadata": {
    "tags": []
   },
   "outputs": [],
   "source": [
    "# Import\n",
    "from metroloja_lib import coreg_analyze as ca\n",
    "from metroloja_lib import psf_analyze as pa\n",
    "import tkinter as tk\n",
    "import os\n",
    "\n",
    "from IPython.display import display, Markdown, clear_output\n",
    "# widget packages\n",
    "import ipywidgets as widgets\n",
    "from IPython.display import display\n",
    "from ipyfilechooser import FileChooser"
   ]
  },
  {
   "cell_type": "code",
   "execution_count": null,
   "id": "53fe8fb6",
   "metadata": {},
   "outputs": [],
   "source": [
    "starting_directory = '.'\n",
    "chooser = FileChooser(starting_directory)\n",
    "display(chooser)"
   ]
  },
  {
   "cell_type": "code",
   "execution_count": null,
   "id": "55cd8514",
   "metadata": {},
   "outputs": [],
   "source": [
    "folder_name = os.path.splitext(chooser.selected_filename)[0]\n",
    "folder_path = chooser.selected_path\n",
    "\n",
    "import zipfile\n",
    "with zipfile.ZipFile(chooser.selected_filename, 'r') as zip_ref:\n",
    "    zip_ref.extractall('.')\n",
    "\n",
    "os.remove(chooser.selected_filename)"
   ]
  },
  {
   "cell_type": "code",
   "execution_count": 2,
   "id": "ea9b0617-73f8-46eb-b530-219b8b975e15",
   "metadata": {
    "tags": []
   },
   "outputs": [],
   "source": [
    "def start(b):\n",
    "    a = ['Resolution','Coregistration','Laser Power','Field Homogeneity']\n",
    "    N_buttons=4\n",
    "    buttons_analyze_type=[widgets.Button(description = i) for i in a]\n",
    "    outputs=widgets.HBox([items for items in buttons_analyze_type])\n",
    "    \n",
    "    global which_button_is_selected\n",
    "    which_button_is_selected = None\n",
    "    \n",
    "    def on_button_clicked(x):\n",
    "        index_button=x.description\n",
    "        #print(index_button)\n",
    "        which_button_is_selected = index_button\n",
    "\n",
    "    for i in range(N_buttons):\n",
    "        buttons_analyze_type[i].on_click(on_button_clicked)\n",
    "\n",
    "    display(outputs)\n",
    "    \n",
    "    \n",
    "    \n",
    "    \n",
    "    \n",
    "    button_measurement_choice = widgets.Button(description=\"Click Me!\")\n",
    "    output = widgets.Output()\n",
    "\n",
    "    display(button_measurement_choice, output)\n",
    "\n",
    "    def on_button_clicked(b):\n",
    "        with output:\n",
    "            print(\"Button clicked.\")\n",
    "\n",
    "            if which_button_is_selected  != None:\n",
    "                if which_button_is_selected == 'Resolution': # Résolution part\n",
    "                    print('OK PSF')\n",
    "\n",
    "                    Input_folder = pa.select_folder() # Select input folder\n",
    "                    print('\\n')\n",
    "                    Processed_folder = pa.processed_path(Input_folder[0], Input_folder[1]) # Find MetroloJ_QC Processed folder\n",
    "                    DF = pa.convert_to_df(Processed_folder, Input_folder[1], Input_folder[2], Input_folder[3], Input_folder[4], Input_folder[0]) # Creat dataframe containing all data\n",
    "                    # DF[0] => dataframe for XYZ data\n",
    "                    # DF[1] => dataframe for SBR data\n",
    "                    DF_XYZ_stat = pa.XYZ_stats(DF[0]) # Stat for XYZ data\n",
    "                    DF_SBR_stat = pa.SBR_stats(DF[1]) # Stat for SBR data\n",
    "                    print('\\n')\n",
    "                    param_selected = pa.select_param() # Select analyze parameters to plot\n",
    "                    print('\\n')\n",
    "                    pa.display_selected_plot(param_selected[1], param_selected[0], DF[0], DF[1], DF_XYZ_stat, DF_SBR_stat[0], Input_folder[0], DF_SBR_stat[1])\n",
    "\n",
    "\n",
    "\n",
    "\n",
    "                elif which_button_is_selected == 'Coregistration': # Coregistration part\n",
    "                    print('OK Coreg')\n",
    "\n",
    "                    Input_folder = ca.select_folder() # Select input folder\n",
    "                    print('\\n')\n",
    "                    Processed_folder = ca.processed_path(Input_folder[0], Input_folder[1]) # Find MetroloJ_QC Processed folder\n",
    "                    DF = ca.convert_to_df(Processed_folder, Input_folder[1], Input_folder[2], Input_folder[3], Input_folder[4], Input_folder[0]) # Creat dataframe containing all data\n",
    "                    DF_stat = ca.coreg_stats(DF[0], DF[1]) # Dataframe for all stat\n",
    "                    print('\\n')\n",
    "                    param_selected = ca.select_param() # Select analyze parameters to plot\n",
    "                    print('\\n')\n",
    "                    date_list = DF[1]['Date'].tolist()\n",
    "                    ca.display_selected_plot(param_selected[1], param_selected[0], DF[0], DF_stat[0], Input_folder[0], DF_stat[1], DF[2], date_list)\n",
    "            \n",
    "    button.on_click(on_button_clicked)\n"
   ]
  },
  {
   "cell_type": "code",
   "execution_count": 3,
   "id": "ab044e96",
   "metadata": {},
   "outputs": [
    {
     "data": {
      "application/vnd.jupyter.widget-view+json": {
       "model_id": "069b115831a640ad927253d18c61bbae",
       "version_major": 2,
       "version_minor": 0
      },
      "text/plain": [
       "HBox(children=(Button(description='Click to Start !', layout=Layout(height='80px', width='25%'), style=ButtonS…"
      ]
     },
     "metadata": {},
     "output_type": "display_data"
    },
    {
     "data": {
      "application/vnd.jupyter.widget-view+json": {
       "model_id": "f526201faae44a3fa9bf334d29422914",
       "version_major": 2,
       "version_minor": 0
      },
      "text/plain": [
       "Output()"
      ]
     },
     "metadata": {},
     "output_type": "display_data"
    }
   ],
   "source": [
    "button = widgets.Button(description=\"Click to Start !\", style=dict(font_weight='bold',\n",
    "                                                                  button_color = 'lightgreen'), \n",
    "                        layout = widgets.Layout(width = '25%', height = '80px'))\n",
    "output = widgets.Output()\n",
    "\n",
    "box_layout = widgets.Layout(display='flex', flex_flow='column',\n",
    "                            align_items='center')\n",
    "box = widgets.HBox(children=[button],layout=box_layout)\n",
    "\n",
    "display(box, output)\n",
    "\n",
    "button.on_click(start)"
   ]
  },
  {
   "cell_type": "code",
   "execution_count": null,
   "id": "a36092e9-b128-4585-acc6-7a5fd837ec92",
   "metadata": {},
   "outputs": [],
   "source": []
  }
 ],
 "metadata": {
  "kernelspec": {
   "display_name": "Python 3 (ipykernel)",
   "language": "python",
   "name": "python3"
  },
  "language_info": {
   "codemirror_mode": {
    "name": "ipython",
    "version": 3
   },
   "file_extension": ".py",
   "mimetype": "text/x-python",
   "name": "python",
   "nbconvert_exporter": "python",
   "pygments_lexer": "ipython3",
   "version": "3.9.7"
  }
 },
 "nbformat": 4,
 "nbformat_minor": 5
}
