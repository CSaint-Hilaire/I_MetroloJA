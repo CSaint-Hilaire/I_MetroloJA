{
 "cells": [
  {
   "cell_type": "markdown",
   "id": "229984b0-103f-49b8-9e38-77ff70cdae5b",
   "metadata": {},
   "source": [
    "<img src=\"images/MetroloJA_logo_white.png\">"
   ]
  },
  {
   "cell_type": "code",
   "execution_count": 1,
   "id": "4545f268-7a4e-441f-b0f2-1bb09387b9f3",
   "metadata": {
    "tags": []
   },
   "outputs": [],
   "source": [
    "# Import\n",
    "from metroloja_lib import coreg_analyze as ca\n",
    "from metroloja_lib import psf_analyze as pa\n",
    "import tkinter as tk\n",
    "import os\n",
    "import zipfile\n",
    "from pathlib import Path\n",
    "\n",
    "from IPython.display import display, Markdown, clear_output\n",
    "# widget packages\n",
    "import ipywidgets as widgets\n",
    "from IPython.display import display\n",
    "from ipyfilechooser import FileChooser"
   ]
  },
  {
   "cell_type": "code",
   "execution_count": 2,
   "id": "541537f3",
   "metadata": {},
   "outputs": [
    {
     "data": {
      "application/vnd.jupyter.widget-view+json": {
       "model_id": "47af0cb2edad4f21a396452b65db33d5",
       "version_major": 2,
       "version_minor": 0
      },
      "text/plain": [
       "FileChooser(path='/home/jovyan', filename='', title='<b>Select your input file</b>', show_hidden=False, select…"
      ]
     },
     "metadata": {},
     "output_type": "display_data"
    }
   ],
   "source": [
    "starting_directory = '.'\n",
    "chooser = FileChooser(starting_directory)\n",
    "chooser.title = '<b>Select your input file</b>'\n",
    "display(chooser)"
   ]
  },
  {
   "cell_type": "code",
   "execution_count": 4,
   "id": "c017016d",
   "metadata": {},
   "outputs": [],
   "source": [
    "global folder_path\n",
    "folder_path = os.path.splitext(chooser.selected)[0]\n",
    "\n",
    "my_file = Path(chooser.selected_filename)\n",
    "if my_file.is_file():\n",
    "    with zipfile.ZipFile(chooser.selected_filename, 'r') as zip_ref:\n",
    "        zip_ref.extractall('.')\n",
    "\n",
    "    os.remove(chooser.selected_filename)"
   ]
  },
  {
   "cell_type": "code",
   "execution_count": 5,
   "id": "17452aac",
   "metadata": {},
   "outputs": [],
   "source": [
    "def start(b):\n",
    "    a = ['Resolution','Coregistration','Laser Power','Field Homogeneity']\n",
    "    N_buttons=4\n",
    "    buttons_analyze_type=[widgets.Button(description = i) for i in a]\n",
    "    outputs=widgets.HBox([items for items in buttons_analyze_type])\n",
    "    display(outputs)\n",
    "    \n",
    "    \n",
    "    button_measurement_choice = widgets.Button(description=\"OK!\")\n",
    "    output = widgets.Output()\n",
    "    display(button_measurement_choice, output)\n",
    "    \n",
    "    button_measurement_choice.disabled = True\n",
    "    \n",
    "    \n",
    "    \n",
    "    def on_button_clicked1(x):\n",
    "        global which_button_is_selected\n",
    "        which_button_is_selected = x.description\n",
    "        button_measurement_choice.disabled = False\n",
    "        #print(which_button_is_selected)\n",
    "    \n",
    "    \n",
    "    \n",
    "    \n",
    "    def on_button_clicked2(b):\n",
    "        with output:\n",
    "            print(f\"Analyze type : {which_button_is_selected}\")\n",
    "\n",
    "            if which_button_is_selected  != None:\n",
    "                if which_button_is_selected == 'Resolution': # Résolution part\n",
    "                    print('OK PSF')\n",
    "\n",
    "                    Input_folder = pa.select_folder(folder_path) # Select input folder\n",
    "                    print('\\n')\n",
    "                    Processed_folder = pa.processed_path(Input_folder[0], Input_folder[1]) # Find MetroloJ_QC Processed folder\n",
    "                    DF = pa.convert_to_df(Processed_folder, Input_folder[1], Input_folder[2], Input_folder[3], Input_folder[4], Input_folder[0]) # Creat dataframe containing all data\n",
    "                    # DF[0] => dataframe for XYZ data\n",
    "                    # DF[1] => dataframe for SBR data\n",
    "                    DF_XYZ_stat = pa.XYZ_stats(DF[0]) # Stat for XYZ data\n",
    "                    DF_SBR_stat = pa.SBR_stats(DF[1]) # Stat for SBR data\n",
    "\n",
    "                    #########################################\n",
    "                    # \n",
    "                    \n",
    "                    \n",
    "                    button_boxplot = widgets.Button(description=\"Show Boxplot!\")\n",
    "                    output2 = widgets.Output()\n",
    "                    button_boxplot.layout.visibility = 'hidden'\n",
    "\n",
    "                    param_selected = pa.select_param(button_boxplot)\n",
    "                    \n",
    "                    def on_button_clicked3(x):\n",
    "                        pa.display_selected_plot(param_selected, folder_path, DF[0], DF[1], DF_XYZ_stat, DF_SBR_stat[0], DF_SBR_stat[1])\n",
    "\n",
    "                    \n",
    "                    button_boxplot.on_click(on_button_clicked3)\n",
    "                    display(button_boxplot, output2)\n",
    "\n",
    "\n",
    "\n",
    "                elif which_button_is_selected == 'Coregistration': # Coregistration part\n",
    "                    print('OK Coreg')\n",
    "\n",
    "                    Input_folder = ca.select_folder() # Select input folder\n",
    "                    print('\\n')\n",
    "                    Processed_folder = ca.processed_path(Input_folder[0], Input_folder[1]) # Find MetroloJ_QC Processed folder\n",
    "                    DF = ca.convert_to_df(Processed_folder, Input_folder[1], Input_folder[2], Input_folder[3], Input_folder[4], Input_folder[0]) # Creat dataframe containing all data\n",
    "                    DF_stat = ca.coreg_stats(DF[0], DF[1]) # Dataframe for all stat\n",
    "                    print('\\n')\n",
    "                    param_selected = ca.select_param() # Select analyze parameters to plot\n",
    "                    print('\\n')\n",
    "                    date_list = DF[1]['Date'].tolist()\n",
    "                    ca.display_selected_plot(param_selected[1], param_selected[0], DF[0], DF_stat[0], Input_folder[0], DF_stat[1], DF[2], date_list)\n",
    "\n",
    "    \n",
    "\n",
    "    for i in range(N_buttons):\n",
    "        buttons_analyze_type[i].on_click(on_button_clicked1)\n",
    "\n",
    "\n",
    "    button_measurement_choice.on_click(on_button_clicked2)\n"
   ]
  },
  {
   "cell_type": "code",
   "execution_count": 6,
   "id": "ab044e96",
   "metadata": {},
   "outputs": [
    {
     "data": {
      "application/vnd.jupyter.widget-view+json": {
       "model_id": "d7bf4cf65a3a446797e15ab0fc4f067e",
       "version_major": 2,
       "version_minor": 0
      },
      "text/plain": [
       "HBox(children=(Button(description='Click to Start !', layout=Layout(height='80px', width='25%'), style=ButtonS…"
      ]
     },
     "metadata": {},
     "output_type": "display_data"
    },
    {
     "data": {
      "application/vnd.jupyter.widget-view+json": {
       "model_id": "9af9197ad6054379a132573ef7821a3b",
       "version_major": 2,
       "version_minor": 0
      },
      "text/plain": [
       "Output()"
      ]
     },
     "metadata": {},
     "output_type": "display_data"
    },
    {
     "data": {
      "application/vnd.jupyter.widget-view+json": {
       "model_id": "5ca8f0c174874706b1455f5b0395c8c4",
       "version_major": 2,
       "version_minor": 0
      },
      "text/plain": [
       "HBox(children=(Button(description='Resolution', style=ButtonStyle()), Button(description='Coregistration', sty…"
      ]
     },
     "metadata": {},
     "output_type": "display_data"
    },
    {
     "data": {
      "application/vnd.jupyter.widget-view+json": {
       "model_id": "3e8c3caf9fa64b37a92a7a96dc79c42e",
       "version_major": 2,
       "version_minor": 0
      },
      "text/plain": [
       "Button(description='OK!', style=ButtonStyle())"
      ]
     },
     "metadata": {},
     "output_type": "display_data"
    },
    {
     "data": {
      "application/vnd.jupyter.widget-view+json": {
       "model_id": "e3703b938da1481fa8f6c3ef2e01182c",
       "version_major": 2,
       "version_minor": 0
      },
      "text/plain": [
       "Output()"
      ]
     },
     "metadata": {},
     "output_type": "display_data"
    }
   ],
   "source": [
    "button = widgets.Button(description=\"Click to Start !\", style=dict(font_weight='bold',\n",
    "                                                                  button_color = 'lightgreen'), \n",
    "                        layout = widgets.Layout(width = '25%', height = '80px'))\n",
    "output = widgets.Output()\n",
    "\n",
    "box_layout = widgets.Layout(display='flex', flex_flow='column',\n",
    "                            align_items='center')\n",
    "box = widgets.HBox(children=[button],layout=box_layout)\n",
    "\n",
    "display(box, output)\n",
    "\n",
    "button.on_click(start)"
   ]
  },
  {
   "cell_type": "code",
   "execution_count": null,
   "id": "a36092e9-b128-4585-acc6-7a5fd837ec92",
   "metadata": {},
   "outputs": [],
   "source": []
  }
 ],
 "metadata": {
  "kernelspec": {
   "display_name": "Python 3 (ipykernel)",
   "language": "python",
   "name": "python3"
  },
  "language_info": {
   "codemirror_mode": {
    "name": "ipython",
    "version": 3
   },
   "file_extension": ".py",
   "mimetype": "text/x-python",
   "name": "python",
   "nbconvert_exporter": "python",
   "pygments_lexer": "ipython3",
   "version": "3.7.12"
  }
 },
 "nbformat": 4,
 "nbformat_minor": 5
}
