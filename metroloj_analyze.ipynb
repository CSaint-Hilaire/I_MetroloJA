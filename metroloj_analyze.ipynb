{
 "cells": [
  {
   "cell_type": "markdown",
   "id": "ebb776c2-a28d-4754-bc20-1333a4d62f50",
   "metadata": {},
   "source": [
    "## Import"
   ]
  },
  {
   "cell_type": "code",
   "execution_count": 1,
   "id": "4545f268-7a4e-441f-b0f2-1bb09387b9f3",
   "metadata": {
    "tags": []
   },
   "outputs": [],
   "source": [
    "from metroloja_lib import coreg_analyze as ca\n",
    "from metroloja_lib import psf_analyze as pa\n",
    "import tkinter as tk"
   ]
  },
  {
   "cell_type": "markdown",
   "id": "de54df61-b1eb-4318-a83a-050aa1c70077",
   "metadata": {
    "tags": []
   },
   "source": [
    "## Set Up"
   ]
  },
  {
   "cell_type": "markdown",
   "id": "0e5c3ab3-e2a6-4c0b-905d-79fe9ffe64e2",
   "metadata": {
    "tags": []
   },
   "source": [
    "### *Select data*"
   ]
  },
  {
   "cell_type": "code",
   "execution_count": 4,
   "id": "d7fbbd81-d875-4b86-b572-e85e81f3d128",
   "metadata": {},
   "outputs": [
    {
     "name": "stdout",
     "output_type": "stream",
     "text": [
      "OK Coreg\n",
      "Images name :\n",
      "Date 1\n",
      "   20210615_1518_Tetra1um_Quarep_ApoWF_Objx63NA14oil_001\n",
      "   20210615_1518_Tetra1um_Quarep_ApoWF_Objx63NA14oil_002\n",
      "   20210615_1518_Tetra1um_Quarep_ApoWF_Objx63NA14oil_004\n",
      "   20210615_1518_Tetra1um_Quarep_ApoWF_Objx63NA14oil_003\n",
      "Date 2\n",
      "   20210615_1518_Tetra1um_Quarep_ApoWF_Objx63NA14oil_001\n",
      "   20210615_1518_Tetra1um_Quarep_ApoWF_Objx63NA14oil_002\n",
      "   20210615_1518_Tetra1um_Quarep_ApoWF_Objx63NA14oil_004\n",
      "   20210615_1518_Tetra1um_Quarep_ApoWF_Objx63NA14oil_003\n",
      "Date 3\n",
      "   20210615_1518_Tetra1um_Quarep_ApoWF_Objx63NA14oil_001\n",
      "   20210615_1518_Tetra1um_Quarep_ApoWF_Objx63NA14oil_002\n",
      "   20210615_1518_Tetra1um_Quarep_ApoWF_Objx63NA14oil_004\n",
      "   20210615_1518_Tetra1um_Quarep_ApoWF_Objx63NA14oil_003\n",
      "Date 4\n",
      "   20210615_1518_Tetra1um_Quarep_ApoWF_Objx63NA14oil_001\n",
      "   20210615_1518_Tetra1um_Quarep_ApoWF_Objx63NA14oil_002\n",
      "   20210615_1518_Tetra1um_Quarep_ApoWF_Objx63NA14oil_004\n",
      "   20210615_1518_Tetra1um_Quarep_ApoWF_Objx63NA14oil_003\n",
      "Date 5\n",
      "   20210615_1518_Tetra1um_Quarep_ApoWF_Objx63NA14oil_001\n",
      "   20210615_1518_Tetra1um_Quarep_ApoWF_Objx63NA14oil_002\n",
      "   20210615_1518_Tetra1um_Quarep_ApoWF_Objx63NA14oil_004\n",
      "   20210615_1518_Tetra1um_Quarep_ApoWF_Objx63NA14oil_003\n",
      "\n",
      "\n",
      "Path of processed folder : \n",
      "\n",
      "/home/pictbdd/metroloj_analysis/data_test/coregistration/WildField/Apotome_x63/20211015/Processed/metroloj_qc_test2\n",
      "/home/pictbdd/metroloj_analysis/data_test/coregistration/WildField/Apotome_x63/20210615/Processed/metroloj_qc_test1\n",
      "/home/pictbdd/metroloj_analysis/data_test/coregistration/WildField/Apotome_x63/20220316/Processed/metroloj_qc_test2\n",
      "/home/pictbdd/metroloj_analysis/data_test/coregistration/WildField/Apotome_x63/20220701/Processed/metroloj_qc_test3\n",
      "/home/pictbdd/metroloj_analysis/data_test/coregistration/WildField/Apotome_x63/20220615/Processed/metroloj_qc_test3\n",
      "\n",
      "\n",
      "Selection :\n",
      "  * Distances (µm)\n",
      "  * Ratios\n"
     ]
    },
    {
     "data": {
      "application/vnd.plotly.v1+json": {
       "config": {
        "plotlyServerURL": "https://plot.ly"
       },
       "data": [
        {
         "alignmentgroup": "True",
         "boxpoints": "outliers",
         "hovertemplate": "Date=%{x}<br>Combination=Channel 0 vs channel1<br>Distances (µm)=%{y}<extra></extra>",
         "legendgroup": "2021-06-15 (n = 4)",
         "marker": {
          "color": "#636efa"
         },
         "name": "2021-06-15 (n = 4)",
         "notched": false,
         "offsetgroup": "2021-06-15",
         "orientation": "v",
         "showlegend": true,
         "type": "box",
         "x": [
          "2021-06-15",
          "2021-06-15",
          "2021-06-15",
          "2021-06-15"
         ],
         "x0": " ",
         "xaxis": "x6",
         "y": [
          0.11446539464634543,
          0.15199449520144998,
          0.11446539464634543,
          0.07239427207049907
         ],
         "y0": " ",
         "yaxis": "y6"
        },
        {
         "alignmentgroup": "True",
         "boxpoints": "outliers",
         "hovertemplate": "Date=%{x}<br>Combination=Channel 0 vs channel2<br>Distances (µm)=%{y}<extra></extra>",
         "legendgroup": "2021-06-15 (n = 4)",
         "marker": {
          "color": "#636efa"
         },
         "name": "2021-06-15 (n = 4)",
         "notched": false,
         "offsetgroup": "2021-06-15",
         "orientation": "v",
         "showlegend": false,
         "type": "box",
         "x": [
          "2021-06-15",
          "2021-06-15",
          "2021-06-15",
          "2021-06-15"
         ],
         "x0": " ",
         "xaxis": "x5",
         "y": [
          0.051190480700113776,
          1.1999999999999995,
          0.051190480700113776,
          0.051190480700113776
         ],
         "y0": " ",
         "yaxis": "y5"
        },
        {
         "alignmentgroup": "True",
         "boxpoints": "outliers",
         "hovertemplate": "Date=%{x}<br>Combination=Channel 0 vs channel3<br>Distances (µm)=%{y}<extra></extra>",
         "legendgroup": "2021-06-15 (n = 4)",
         "marker": {
          "color": "#636efa"
         },
         "name": "2021-06-15 (n = 4)",
         "notched": false,
         "offsetgroup": "2021-06-15",
         "orientation": "v",
         "showlegend": false,
         "type": "box",
         "x": [
          "2021-06-15",
          "2021-06-15",
          "2021-06-15",
          "2021-06-15"
         ],
         "x0": " ",
         "xaxis": "x4",
         "y": [
          0.10238096140022755,
          1.2108693790591478,
          0.11446539464634543,
          0.10238096140022755
         ],
         "y0": " ",
         "yaxis": "y4"
        },
        {
         "alignmentgroup": "True",
         "boxpoints": "outliers",
         "hovertemplate": "Date=%{x}<br>Combination=Channel 1 vs channel2<br>Distances (µm)=%{y}<extra></extra>",
         "legendgroup": "2021-06-15 (n = 4)",
         "marker": {
          "color": "#636efa"
         },
         "name": "2021-06-15 (n = 4)",
         "notched": false,
         "offsetgroup": "2021-06-15",
         "orientation": "v",
         "showlegend": false,
         "type": "box",
         "x": [
          "2021-06-15",
          "2021-06-15",
          "2021-06-15",
          "2021-06-15"
         ],
         "x0": " ",
         "xaxis": "x3",
         "y": [
          0.07239427207049907,
          1.1059395673234331,
          0.10238096140022755,
          0.051190480700113776
         ],
         "y0": " ",
         "yaxis": "y3"
        },
        {
         "alignmentgroup": "True",
         "boxpoints": "outliers",
         "hovertemplate": "Date=%{x}<br>Combination=Channel 1 vs channel3<br>Distances (µm)=%{y}<extra></extra>",
         "legendgroup": "2021-06-15 (n = 4)",
         "marker": {
          "color": "#636efa"
         },
         "name": "2021-06-15 (n = 4)",
         "notched": false,
         "offsetgroup": "2021-06-15",
         "orientation": "v",
         "showlegend": false,
         "type": "box",
         "x": [
          "2021-06-15",
          "2021-06-15",
          "2021-06-15",
          "2021-06-15"
         ],
         "x0": " ",
         "xaxis": "x2",
         "y": [
          0.2110637589527114,
          1.1200660294568563,
          0.16187851353125038,
          0.16187851353125038
         ],
         "y0": " ",
         "yaxis": "y2"
        },
        {
         "alignmentgroup": "True",
         "boxpoints": "outliers",
         "hovertemplate": "Date=%{x}<br>Combination=Channel 2 vs channel3<br>Distances (µm)=%{y}<extra></extra>",
         "legendgroup": "2021-06-15 (n = 4)",
         "marker": {
          "color": "#636efa"
         },
         "name": "2021-06-15 (n = 4)",
         "notched": false,
         "offsetgroup": "2021-06-15",
         "orientation": "v",
         "showlegend": false,
         "type": "box",
         "x": [
          "2021-06-15",
          "2021-06-15",
          "2021-06-15",
          "2021-06-15"
         ],
         "x0": " ",
         "xaxis": "x",
         "y": [
          0.15357144210034132,
          0.16187851353125038,
          0.16187851353125038,
          0.15357144210034132
         ],
         "y0": " ",
         "yaxis": "y"
        },
        {
         "alignmentgroup": "True",
         "boxpoints": "outliers",
         "hovertemplate": "Date=%{x}<br>Combination=Channel 0 vs channel1<br>Distances (µm)=%{y}<extra></extra>",
         "legendgroup": "2021-10-15 (n = 4)",
         "marker": {
          "color": "#EF553B"
         },
         "name": "2021-10-15 (n = 4)",
         "notched": false,
         "offsetgroup": "2021-10-15",
         "orientation": "v",
         "showlegend": true,
         "type": "box",
         "x": [
          "2021-10-15",
          "2021-10-15",
          "2021-10-15",
          "2021-10-15"
         ],
         "x0": " ",
         "xaxis": "x6",
         "y": [
          0.11446539464634543,
          0.15199449520144998,
          0.11446539464634543,
          0.07239427207049907
         ],
         "y0": " ",
         "yaxis": "y6"
        },
        {
         "alignmentgroup": "True",
         "boxpoints": "outliers",
         "hovertemplate": "Date=%{x}<br>Combination=Channel 0 vs channel2<br>Distances (µm)=%{y}<extra></extra>",
         "legendgroup": "2021-10-15 (n = 4)",
         "marker": {
          "color": "#EF553B"
         },
         "name": "2021-10-15 (n = 4)",
         "notched": false,
         "offsetgroup": "2021-10-15",
         "orientation": "v",
         "showlegend": false,
         "type": "box",
         "x": [
          "2021-10-15",
          "2021-10-15",
          "2021-10-15",
          "2021-10-15"
         ],
         "x0": " ",
         "xaxis": "x5",
         "y": [
          0.051190480700113776,
          1.1999999999999995,
          0.051190480700113776,
          0.051190480700113776
         ],
         "y0": " ",
         "yaxis": "y5"
        },
        {
         "alignmentgroup": "True",
         "boxpoints": "outliers",
         "hovertemplate": "Date=%{x}<br>Combination=Channel 0 vs channel3<br>Distances (µm)=%{y}<extra></extra>",
         "legendgroup": "2021-10-15 (n = 4)",
         "marker": {
          "color": "#EF553B"
         },
         "name": "2021-10-15 (n = 4)",
         "notched": false,
         "offsetgroup": "2021-10-15",
         "orientation": "v",
         "showlegend": false,
         "type": "box",
         "x": [
          "2021-10-15",
          "2021-10-15",
          "2021-10-15",
          "2021-10-15"
         ],
         "x0": " ",
         "xaxis": "x4",
         "y": [
          0.10238096140022755,
          1.2108693790591478,
          0.11446539464634543,
          0.10238096140022755
         ],
         "y0": " ",
         "yaxis": "y4"
        },
        {
         "alignmentgroup": "True",
         "boxpoints": "outliers",
         "hovertemplate": "Date=%{x}<br>Combination=Channel 1 vs channel2<br>Distances (µm)=%{y}<extra></extra>",
         "legendgroup": "2021-10-15 (n = 4)",
         "marker": {
          "color": "#EF553B"
         },
         "name": "2021-10-15 (n = 4)",
         "notched": false,
         "offsetgroup": "2021-10-15",
         "orientation": "v",
         "showlegend": false,
         "type": "box",
         "x": [
          "2021-10-15",
          "2021-10-15",
          "2021-10-15",
          "2021-10-15"
         ],
         "x0": " ",
         "xaxis": "x3",
         "y": [
          0.07239427207049907,
          1.1059395673234331,
          0.10238096140022755,
          0.051190480700113776
         ],
         "y0": " ",
         "yaxis": "y3"
        },
        {
         "alignmentgroup": "True",
         "boxpoints": "outliers",
         "hovertemplate": "Date=%{x}<br>Combination=Channel 1 vs channel3<br>Distances (µm)=%{y}<extra></extra>",
         "legendgroup": "2021-10-15 (n = 4)",
         "marker": {
          "color": "#EF553B"
         },
         "name": "2021-10-15 (n = 4)",
         "notched": false,
         "offsetgroup": "2021-10-15",
         "orientation": "v",
         "showlegend": false,
         "type": "box",
         "x": [
          "2021-10-15",
          "2021-10-15",
          "2021-10-15",
          "2021-10-15"
         ],
         "x0": " ",
         "xaxis": "x2",
         "y": [
          0.2110637589527114,
          1.1200660294568563,
          0.16187851353125038,
          0.16187851353125038
         ],
         "y0": " ",
         "yaxis": "y2"
        },
        {
         "alignmentgroup": "True",
         "boxpoints": "outliers",
         "hovertemplate": "Date=%{x}<br>Combination=Channel 2 vs channel3<br>Distances (µm)=%{y}<extra></extra>",
         "legendgroup": "2021-10-15 (n = 4)",
         "marker": {
          "color": "#EF553B"
         },
         "name": "2021-10-15 (n = 4)",
         "notched": false,
         "offsetgroup": "2021-10-15",
         "orientation": "v",
         "showlegend": false,
         "type": "box",
         "x": [
          "2021-10-15",
          "2021-10-15",
          "2021-10-15",
          "2021-10-15"
         ],
         "x0": " ",
         "xaxis": "x",
         "y": [
          0.15357144210034132,
          0.16187851353125038,
          0.16187851353125038,
          0.15357144210034132
         ],
         "y0": " ",
         "yaxis": "y"
        },
        {
         "alignmentgroup": "True",
         "boxpoints": "outliers",
         "hovertemplate": "Date=%{x}<br>Combination=Channel 0 vs channel1<br>Distances (µm)=%{y}<extra></extra>",
         "legendgroup": "2022-03-16 (n = 4)",
         "marker": {
          "color": "#00cc96"
         },
         "name": "2022-03-16 (n = 4)",
         "notched": false,
         "offsetgroup": "2022-03-16",
         "orientation": "v",
         "showlegend": true,
         "type": "box",
         "x": [
          "2022-03-16",
          "2022-03-16",
          "2022-03-16",
          "2022-03-16"
         ],
         "x0": " ",
         "xaxis": "x6",
         "y": [
          0.11446539464634543,
          0.15199449520144998,
          0.11446539464634543,
          0.07239427207049907
         ],
         "y0": " ",
         "yaxis": "y6"
        },
        {
         "alignmentgroup": "True",
         "boxpoints": "outliers",
         "hovertemplate": "Date=%{x}<br>Combination=Channel 0 vs channel2<br>Distances (µm)=%{y}<extra></extra>",
         "legendgroup": "2022-03-16 (n = 4)",
         "marker": {
          "color": "#00cc96"
         },
         "name": "2022-03-16 (n = 4)",
         "notched": false,
         "offsetgroup": "2022-03-16",
         "orientation": "v",
         "showlegend": false,
         "type": "box",
         "x": [
          "2022-03-16",
          "2022-03-16",
          "2022-03-16",
          "2022-03-16"
         ],
         "x0": " ",
         "xaxis": "x5",
         "y": [
          0.051190480700113776,
          1.1999999999999995,
          0.051190480700113776,
          0.051190480700113776
         ],
         "y0": " ",
         "yaxis": "y5"
        },
        {
         "alignmentgroup": "True",
         "boxpoints": "outliers",
         "hovertemplate": "Date=%{x}<br>Combination=Channel 0 vs channel3<br>Distances (µm)=%{y}<extra></extra>",
         "legendgroup": "2022-03-16 (n = 4)",
         "marker": {
          "color": "#00cc96"
         },
         "name": "2022-03-16 (n = 4)",
         "notched": false,
         "offsetgroup": "2022-03-16",
         "orientation": "v",
         "showlegend": false,
         "type": "box",
         "x": [
          "2022-03-16",
          "2022-03-16",
          "2022-03-16",
          "2022-03-16"
         ],
         "x0": " ",
         "xaxis": "x4",
         "y": [
          0.10238096140022755,
          1.2108693790591478,
          0.11446539464634543,
          0.10238096140022755
         ],
         "y0": " ",
         "yaxis": "y4"
        },
        {
         "alignmentgroup": "True",
         "boxpoints": "outliers",
         "hovertemplate": "Date=%{x}<br>Combination=Channel 1 vs channel2<br>Distances (µm)=%{y}<extra></extra>",
         "legendgroup": "2022-03-16 (n = 4)",
         "marker": {
          "color": "#00cc96"
         },
         "name": "2022-03-16 (n = 4)",
         "notched": false,
         "offsetgroup": "2022-03-16",
         "orientation": "v",
         "showlegend": false,
         "type": "box",
         "x": [
          "2022-03-16",
          "2022-03-16",
          "2022-03-16",
          "2022-03-16"
         ],
         "x0": " ",
         "xaxis": "x3",
         "y": [
          0.07239427207049907,
          1.1059395673234331,
          0.10238096140022755,
          0.051190480700113776
         ],
         "y0": " ",
         "yaxis": "y3"
        },
        {
         "alignmentgroup": "True",
         "boxpoints": "outliers",
         "hovertemplate": "Date=%{x}<br>Combination=Channel 1 vs channel3<br>Distances (µm)=%{y}<extra></extra>",
         "legendgroup": "2022-03-16 (n = 4)",
         "marker": {
          "color": "#00cc96"
         },
         "name": "2022-03-16 (n = 4)",
         "notched": false,
         "offsetgroup": "2022-03-16",
         "orientation": "v",
         "showlegend": false,
         "type": "box",
         "x": [
          "2022-03-16",
          "2022-03-16",
          "2022-03-16",
          "2022-03-16"
         ],
         "x0": " ",
         "xaxis": "x2",
         "y": [
          0.2110637589527114,
          1.1200660294568563,
          0.16187851353125038,
          0.16187851353125038
         ],
         "y0": " ",
         "yaxis": "y2"
        },
        {
         "alignmentgroup": "True",
         "boxpoints": "outliers",
         "hovertemplate": "Date=%{x}<br>Combination=Channel 2 vs channel3<br>Distances (µm)=%{y}<extra></extra>",
         "legendgroup": "2022-03-16 (n = 4)",
         "marker": {
          "color": "#00cc96"
         },
         "name": "2022-03-16 (n = 4)",
         "notched": false,
         "offsetgroup": "2022-03-16",
         "orientation": "v",
         "showlegend": false,
         "type": "box",
         "x": [
          "2022-03-16",
          "2022-03-16",
          "2022-03-16",
          "2022-03-16"
         ],
         "x0": " ",
         "xaxis": "x",
         "y": [
          0.15357144210034132,
          0.16187851353125038,
          0.16187851353125038,
          0.15357144210034132
         ],
         "y0": " ",
         "yaxis": "y"
        },
        {
         "alignmentgroup": "True",
         "boxpoints": "outliers",
         "hovertemplate": "Date=%{x}<br>Combination=Channel 0 vs channel1<br>Distances (µm)=%{y}<extra></extra>",
         "legendgroup": "2022-06-15 (n = 4)",
         "marker": {
          "color": "#ab63fa"
         },
         "name": "2022-06-15 (n = 4)",
         "notched": false,
         "offsetgroup": "2022-06-15",
         "orientation": "v",
         "showlegend": true,
         "type": "box",
         "x": [
          "2022-06-15",
          "2022-06-15",
          "2022-06-15",
          "2022-06-15"
         ],
         "x0": " ",
         "xaxis": "x6",
         "y": [
          0.11446539464634543,
          0.15199449520144998,
          0.11446539464634543,
          0.07239427207049907
         ],
         "y0": " ",
         "yaxis": "y6"
        },
        {
         "alignmentgroup": "True",
         "boxpoints": "outliers",
         "hovertemplate": "Date=%{x}<br>Combination=Channel 0 vs channel2<br>Distances (µm)=%{y}<extra></extra>",
         "legendgroup": "2022-06-15 (n = 4)",
         "marker": {
          "color": "#ab63fa"
         },
         "name": "2022-06-15 (n = 4)",
         "notched": false,
         "offsetgroup": "2022-06-15",
         "orientation": "v",
         "showlegend": false,
         "type": "box",
         "x": [
          "2022-06-15",
          "2022-06-15",
          "2022-06-15",
          "2022-06-15"
         ],
         "x0": " ",
         "xaxis": "x5",
         "y": [
          0.051190480700113776,
          1.1999999999999995,
          0.051190480700113776,
          0.051190480700113776
         ],
         "y0": " ",
         "yaxis": "y5"
        },
        {
         "alignmentgroup": "True",
         "boxpoints": "outliers",
         "hovertemplate": "Date=%{x}<br>Combination=Channel 0 vs channel3<br>Distances (µm)=%{y}<extra></extra>",
         "legendgroup": "2022-06-15 (n = 4)",
         "marker": {
          "color": "#ab63fa"
         },
         "name": "2022-06-15 (n = 4)",
         "notched": false,
         "offsetgroup": "2022-06-15",
         "orientation": "v",
         "showlegend": false,
         "type": "box",
         "x": [
          "2022-06-15",
          "2022-06-15",
          "2022-06-15",
          "2022-06-15"
         ],
         "x0": " ",
         "xaxis": "x4",
         "y": [
          0.10238096140022755,
          1.2108693790591478,
          0.11446539464634543,
          0.10238096140022755
         ],
         "y0": " ",
         "yaxis": "y4"
        },
        {
         "alignmentgroup": "True",
         "boxpoints": "outliers",
         "hovertemplate": "Date=%{x}<br>Combination=Channel 1 vs channel2<br>Distances (µm)=%{y}<extra></extra>",
         "legendgroup": "2022-06-15 (n = 4)",
         "marker": {
          "color": "#ab63fa"
         },
         "name": "2022-06-15 (n = 4)",
         "notched": false,
         "offsetgroup": "2022-06-15",
         "orientation": "v",
         "showlegend": false,
         "type": "box",
         "x": [
          "2022-06-15",
          "2022-06-15",
          "2022-06-15",
          "2022-06-15"
         ],
         "x0": " ",
         "xaxis": "x3",
         "y": [
          0.07239427207049907,
          1.1059395673234331,
          0.10238096140022755,
          0.051190480700113776
         ],
         "y0": " ",
         "yaxis": "y3"
        },
        {
         "alignmentgroup": "True",
         "boxpoints": "outliers",
         "hovertemplate": "Date=%{x}<br>Combination=Channel 1 vs channel3<br>Distances (µm)=%{y}<extra></extra>",
         "legendgroup": "2022-06-15 (n = 4)",
         "marker": {
          "color": "#ab63fa"
         },
         "name": "2022-06-15 (n = 4)",
         "notched": false,
         "offsetgroup": "2022-06-15",
         "orientation": "v",
         "showlegend": false,
         "type": "box",
         "x": [
          "2022-06-15",
          "2022-06-15",
          "2022-06-15",
          "2022-06-15"
         ],
         "x0": " ",
         "xaxis": "x2",
         "y": [
          0.2110637589527114,
          1.1200660294568563,
          0.16187851353125038,
          0.16187851353125038
         ],
         "y0": " ",
         "yaxis": "y2"
        },
        {
         "alignmentgroup": "True",
         "boxpoints": "outliers",
         "hovertemplate": "Date=%{x}<br>Combination=Channel 2 vs channel3<br>Distances (µm)=%{y}<extra></extra>",
         "legendgroup": "2022-06-15 (n = 4)",
         "marker": {
          "color": "#ab63fa"
         },
         "name": "2022-06-15 (n = 4)",
         "notched": false,
         "offsetgroup": "2022-06-15",
         "orientation": "v",
         "showlegend": false,
         "type": "box",
         "x": [
          "2022-06-15",
          "2022-06-15",
          "2022-06-15",
          "2022-06-15"
         ],
         "x0": " ",
         "xaxis": "x",
         "y": [
          0.15357144210034132,
          0.16187851353125038,
          0.16187851353125038,
          0.15357144210034132
         ],
         "y0": " ",
         "yaxis": "y"
        },
        {
         "alignmentgroup": "True",
         "boxpoints": "outliers",
         "hovertemplate": "Date=%{x}<br>Combination=Channel 0 vs channel1<br>Distances (µm)=%{y}<extra></extra>",
         "legendgroup": "2022-07-01 (n = 4)",
         "marker": {
          "color": "#FFA15A"
         },
         "name": "2022-07-01 (n = 4)",
         "notched": false,
         "offsetgroup": "2022-07-01",
         "orientation": "v",
         "showlegend": true,
         "type": "box",
         "x": [
          "2022-07-01",
          "2022-07-01",
          "2022-07-01",
          "2022-07-01"
         ],
         "x0": " ",
         "xaxis": "x6",
         "y": [
          0.11446539464634543,
          0.15199449520144998,
          0.11446539464634543,
          0.07239427207049907
         ],
         "y0": " ",
         "yaxis": "y6"
        },
        {
         "alignmentgroup": "True",
         "boxpoints": "outliers",
         "hovertemplate": "Date=%{x}<br>Combination=Channel 0 vs channel2<br>Distances (µm)=%{y}<extra></extra>",
         "legendgroup": "2022-07-01 (n = 4)",
         "marker": {
          "color": "#FFA15A"
         },
         "name": "2022-07-01 (n = 4)",
         "notched": false,
         "offsetgroup": "2022-07-01",
         "orientation": "v",
         "showlegend": false,
         "type": "box",
         "x": [
          "2022-07-01",
          "2022-07-01",
          "2022-07-01",
          "2022-07-01"
         ],
         "x0": " ",
         "xaxis": "x5",
         "y": [
          0.051190480700113776,
          1.1999999999999995,
          0.051190480700113776,
          0.051190480700113776
         ],
         "y0": " ",
         "yaxis": "y5"
        },
        {
         "alignmentgroup": "True",
         "boxpoints": "outliers",
         "hovertemplate": "Date=%{x}<br>Combination=Channel 0 vs channel3<br>Distances (µm)=%{y}<extra></extra>",
         "legendgroup": "2022-07-01 (n = 4)",
         "marker": {
          "color": "#FFA15A"
         },
         "name": "2022-07-01 (n = 4)",
         "notched": false,
         "offsetgroup": "2022-07-01",
         "orientation": "v",
         "showlegend": false,
         "type": "box",
         "x": [
          "2022-07-01",
          "2022-07-01",
          "2022-07-01",
          "2022-07-01"
         ],
         "x0": " ",
         "xaxis": "x4",
         "y": [
          0.10238096140022755,
          1.2108693790591478,
          0.11446539464634543,
          0.10238096140022755
         ],
         "y0": " ",
         "yaxis": "y4"
        },
        {
         "alignmentgroup": "True",
         "boxpoints": "outliers",
         "hovertemplate": "Date=%{x}<br>Combination=Channel 1 vs channel2<br>Distances (µm)=%{y}<extra></extra>",
         "legendgroup": "2022-07-01 (n = 4)",
         "marker": {
          "color": "#FFA15A"
         },
         "name": "2022-07-01 (n = 4)",
         "notched": false,
         "offsetgroup": "2022-07-01",
         "orientation": "v",
         "showlegend": false,
         "type": "box",
         "x": [
          "2022-07-01",
          "2022-07-01",
          "2022-07-01",
          "2022-07-01"
         ],
         "x0": " ",
         "xaxis": "x3",
         "y": [
          0.07239427207049907,
          1.1059395673234331,
          0.10238096140022755,
          0.051190480700113776
         ],
         "y0": " ",
         "yaxis": "y3"
        },
        {
         "alignmentgroup": "True",
         "boxpoints": "outliers",
         "hovertemplate": "Date=%{x}<br>Combination=Channel 1 vs channel3<br>Distances (µm)=%{y}<extra></extra>",
         "legendgroup": "2022-07-01 (n = 4)",
         "marker": {
          "color": "#FFA15A"
         },
         "name": "2022-07-01 (n = 4)",
         "notched": false,
         "offsetgroup": "2022-07-01",
         "orientation": "v",
         "showlegend": false,
         "type": "box",
         "x": [
          "2022-07-01",
          "2022-07-01",
          "2022-07-01",
          "2022-07-01"
         ],
         "x0": " ",
         "xaxis": "x2",
         "y": [
          0.2110637589527114,
          1.1200660294568563,
          0.16187851353125038,
          0.16187851353125038
         ],
         "y0": " ",
         "yaxis": "y2"
        },
        {
         "alignmentgroup": "True",
         "boxpoints": "outliers",
         "hovertemplate": "Date=%{x}<br>Combination=Channel 2 vs channel3<br>Distances (µm)=%{y}<extra></extra>",
         "legendgroup": "2022-07-01 (n = 4)",
         "marker": {
          "color": "#FFA15A"
         },
         "name": "2022-07-01 (n = 4)",
         "notched": false,
         "offsetgroup": "2022-07-01",
         "orientation": "v",
         "showlegend": false,
         "type": "box",
         "x": [
          "2022-07-01",
          "2022-07-01",
          "2022-07-01",
          "2022-07-01"
         ],
         "x0": " ",
         "xaxis": "x",
         "y": [
          0.15357144210034132,
          0.16187851353125038,
          0.16187851353125038,
          0.15357144210034132
         ],
         "y0": " ",
         "yaxis": "y"
        },
        {
         "line": {
          "color": "#000000"
         },
         "mode": "lines+markers",
         "showlegend": false,
         "type": "scatter",
         "x": [
          "2021-06-15",
          "2021-10-15",
          "2022-03-16",
          "2022-06-15",
          "2022-07-01"
         ],
         "xaxis": "x6",
         "y": [
          0.11446539464634543,
          0.11446539464634543,
          0.11446539464634543,
          0.11446539464634543,
          0.11446539464634543
         ],
         "yaxis": "y6"
        },
        {
         "line": {
          "color": "#000000"
         },
         "mode": "lines+markers",
         "showlegend": false,
         "type": "scatter",
         "x": [
          "2021-06-15",
          "2021-10-15",
          "2022-03-16",
          "2022-06-15",
          "2022-07-01"
         ],
         "xaxis": "x5",
         "y": [
          0.051190480700113776,
          0.051190480700113776,
          0.051190480700113776,
          0.051190480700113776,
          0.051190480700113776
         ],
         "yaxis": "y5"
        },
        {
         "line": {
          "color": "#000000"
         },
         "mode": "lines+markers",
         "showlegend": false,
         "type": "scatter",
         "x": [
          "2021-06-15",
          "2021-10-15",
          "2022-03-16",
          "2022-06-15",
          "2022-07-01"
         ],
         "xaxis": "x4",
         "y": [
          0.10842317802328649,
          0.10842317802328649,
          0.10842317802328649,
          0.10842317802328649,
          0.10842317802328649
         ],
         "yaxis": "y4"
        },
        {
         "line": {
          "color": "#000000"
         },
         "mode": "lines+markers",
         "showlegend": false,
         "type": "scatter",
         "x": [
          "2021-06-15",
          "2021-10-15",
          "2022-03-16",
          "2022-06-15",
          "2022-07-01"
         ],
         "xaxis": "x3",
         "y": [
          0.08738761673536331,
          0.08738761673536331,
          0.08738761673536331,
          0.08738761673536331,
          0.08738761673536331
         ],
         "yaxis": "y3"
        },
        {
         "line": {
          "color": "#000000"
         },
         "mode": "lines+markers",
         "showlegend": false,
         "type": "scatter",
         "x": [
          "2021-06-15",
          "2021-10-15",
          "2022-03-16",
          "2022-06-15",
          "2022-07-01"
         ],
         "xaxis": "x2",
         "y": [
          0.1864711362419809,
          0.1864711362419809,
          0.1864711362419809,
          0.1864711362419809,
          0.1864711362419809
         ],
         "yaxis": "y2"
        },
        {
         "line": {
          "color": "#000000"
         },
         "mode": "lines+markers",
         "showlegend": false,
         "type": "scatter",
         "x": [
          "2021-06-15",
          "2021-10-15",
          "2022-03-16",
          "2022-06-15",
          "2022-07-01"
         ],
         "xaxis": "x",
         "y": [
          0.15772497781579586,
          0.15772497781579586,
          0.15772497781579586,
          0.15772497781579586,
          0.15772497781579586
         ],
         "yaxis": "y"
        }
       ],
       "layout": {
        "annotations": [
         {
          "showarrow": false,
          "text": "Combination=Channel 2 vs channel3",
          "textangle": 90,
          "x": 0.98,
          "xanchor": "left",
          "xref": "paper",
          "y": 0.07083333333333333,
          "yanchor": "middle",
          "yref": "paper"
         },
         {
          "showarrow": false,
          "text": "Combination=Channel 1 vs channel3",
          "textangle": 90,
          "x": 0.98,
          "xanchor": "left",
          "xref": "paper",
          "y": 0.2425,
          "yanchor": "middle",
          "yref": "paper"
         },
         {
          "showarrow": false,
          "text": "Combination=Channel 1 vs channel2",
          "textangle": 90,
          "x": 0.98,
          "xanchor": "left",
          "xref": "paper",
          "y": 0.4141666666666667,
          "yanchor": "middle",
          "yref": "paper"
         },
         {
          "showarrow": false,
          "text": "Combination=Channel 0 vs channel3",
          "textangle": 90,
          "x": 0.98,
          "xanchor": "left",
          "xref": "paper",
          "y": 0.5858333333333334,
          "yanchor": "middle",
          "yref": "paper"
         },
         {
          "showarrow": false,
          "text": "Combination=Channel 0 vs channel2",
          "textangle": 90,
          "x": 0.98,
          "xanchor": "left",
          "xref": "paper",
          "y": 0.7575000000000001,
          "yanchor": "middle",
          "yref": "paper"
         },
         {
          "showarrow": false,
          "text": "Combination=Channel 0 vs channel1",
          "textangle": 90,
          "x": 0.98,
          "xanchor": "left",
          "xref": "paper",
          "y": 0.9291666666666667,
          "yanchor": "middle",
          "yref": "paper"
         },
         {
          "arrowhead": 1,
          "font": {
           "size": 30
          },
          "showarrow": false,
          "text": "<sup><sup><b>ns</b></sup></sup>",
          "x": "2021-10-15",
          "xref": "x",
          "y": 0.15199449520144998,
          "yref": "y6"
         },
         {
          "arrowhead": 1,
          "font": {
           "size": 30
          },
          "showarrow": false,
          "text": "<sup><sup><b>ns</b></sup></sup>",
          "x": "2022-03-16",
          "xref": "x",
          "y": 0.15199449520144998,
          "yref": "y6"
         },
         {
          "arrowhead": 1,
          "font": {
           "size": 30
          },
          "showarrow": false,
          "text": "<sup><sup><b>ns</b></sup></sup>",
          "x": "2022-06-15",
          "xref": "x",
          "y": 0.15199449520144998,
          "yref": "y6"
         },
         {
          "arrowhead": 1,
          "font": {
           "size": 30
          },
          "showarrow": false,
          "text": "<sup><sup><b>ns</b></sup></sup>",
          "x": "2022-07-01",
          "xref": "x",
          "y": 0.15199449520144998,
          "yref": "y6"
         },
         {
          "arrowhead": 1,
          "font": {
           "size": 30
          },
          "showarrow": false,
          "text": "<sup><sup><b>ns</b></sup></sup>",
          "x": "2021-10-15",
          "xref": "x",
          "y": 1.1999999999999995,
          "yref": "y5"
         },
         {
          "arrowhead": 1,
          "font": {
           "size": 30
          },
          "showarrow": false,
          "text": "<sup><sup><b>ns</b></sup></sup>",
          "x": "2022-03-16",
          "xref": "x",
          "y": 1.1999999999999995,
          "yref": "y5"
         },
         {
          "arrowhead": 1,
          "font": {
           "size": 30
          },
          "showarrow": false,
          "text": "<sup><sup><b>ns</b></sup></sup>",
          "x": "2022-06-15",
          "xref": "x",
          "y": 1.1999999999999995,
          "yref": "y5"
         },
         {
          "arrowhead": 1,
          "font": {
           "size": 30
          },
          "showarrow": false,
          "text": "<sup><sup><b>ns</b></sup></sup>",
          "x": "2022-07-01",
          "xref": "x",
          "y": 1.1999999999999995,
          "yref": "y5"
         },
         {
          "arrowhead": 1,
          "font": {
           "size": 30
          },
          "showarrow": false,
          "text": "<sup><sup><b>ns</b></sup></sup>",
          "x": "2021-10-15",
          "xref": "x",
          "y": 1.2108693790591478,
          "yref": "y4"
         },
         {
          "arrowhead": 1,
          "font": {
           "size": 30
          },
          "showarrow": false,
          "text": "<sup><sup><b>ns</b></sup></sup>",
          "x": "2022-03-16",
          "xref": "x",
          "y": 1.2108693790591478,
          "yref": "y4"
         },
         {
          "arrowhead": 1,
          "font": {
           "size": 30
          },
          "showarrow": false,
          "text": "<sup><sup><b>ns</b></sup></sup>",
          "x": "2022-06-15",
          "xref": "x",
          "y": 1.2108693790591478,
          "yref": "y4"
         },
         {
          "arrowhead": 1,
          "font": {
           "size": 30
          },
          "showarrow": false,
          "text": "<sup><sup><b>ns</b></sup></sup>",
          "x": "2022-07-01",
          "xref": "x",
          "y": 1.2108693790591478,
          "yref": "y4"
         },
         {
          "arrowhead": 1,
          "font": {
           "size": 30
          },
          "showarrow": false,
          "text": "<sup><sup><b>ns</b></sup></sup>",
          "x": "2021-10-15",
          "xref": "x",
          "y": 1.1059395673234331,
          "yref": "y3"
         },
         {
          "arrowhead": 1,
          "font": {
           "size": 30
          },
          "showarrow": false,
          "text": "<sup><sup><b>ns</b></sup></sup>",
          "x": "2022-03-16",
          "xref": "x",
          "y": 1.1059395673234331,
          "yref": "y3"
         },
         {
          "arrowhead": 1,
          "font": {
           "size": 30
          },
          "showarrow": false,
          "text": "<sup><sup><b>ns</b></sup></sup>",
          "x": "2022-06-15",
          "xref": "x",
          "y": 1.1059395673234331,
          "yref": "y3"
         },
         {
          "arrowhead": 1,
          "font": {
           "size": 30
          },
          "showarrow": false,
          "text": "<sup><sup><b>ns</b></sup></sup>",
          "x": "2022-07-01",
          "xref": "x",
          "y": 1.1059395673234331,
          "yref": "y3"
         },
         {
          "arrowhead": 1,
          "font": {
           "size": 30
          },
          "showarrow": false,
          "text": "<sup><sup><b>ns</b></sup></sup>",
          "x": "2021-10-15",
          "xref": "x",
          "y": 1.1200660294568563,
          "yref": "y2"
         },
         {
          "arrowhead": 1,
          "font": {
           "size": 30
          },
          "showarrow": false,
          "text": "<sup><sup><b>ns</b></sup></sup>",
          "x": "2022-03-16",
          "xref": "x",
          "y": 1.1200660294568563,
          "yref": "y2"
         },
         {
          "arrowhead": 1,
          "font": {
           "size": 30
          },
          "showarrow": false,
          "text": "<sup><sup><b>ns</b></sup></sup>",
          "x": "2022-06-15",
          "xref": "x",
          "y": 1.1200660294568563,
          "yref": "y2"
         },
         {
          "arrowhead": 1,
          "font": {
           "size": 30
          },
          "showarrow": false,
          "text": "<sup><sup><b>ns</b></sup></sup>",
          "x": "2022-07-01",
          "xref": "x",
          "y": 1.1200660294568563,
          "yref": "y2"
         },
         {
          "arrowhead": 1,
          "font": {
           "size": 30
          },
          "showarrow": false,
          "text": "<sup><sup><b>ns</b></sup></sup>",
          "x": "2021-10-15",
          "xref": "x",
          "y": 0.16187851353125038,
          "yref": "y"
         },
         {
          "arrowhead": 1,
          "font": {
           "size": 30
          },
          "showarrow": false,
          "text": "<sup><sup><b>ns</b></sup></sup>",
          "x": "2022-03-16",
          "xref": "x",
          "y": 0.16187851353125038,
          "yref": "y"
         },
         {
          "arrowhead": 1,
          "font": {
           "size": 30
          },
          "showarrow": false,
          "text": "<sup><sup><b>ns</b></sup></sup>",
          "x": "2022-06-15",
          "xref": "x",
          "y": 0.16187851353125038,
          "yref": "y"
         },
         {
          "arrowhead": 1,
          "font": {
           "size": 30
          },
          "showarrow": false,
          "text": "<sup><sup><b>ns</b></sup></sup>",
          "x": "2022-07-01",
          "xref": "x",
          "y": 0.16187851353125038,
          "yref": "y"
         }
        ],
        "boxmode": "overlay",
        "height": 2000,
        "legend": {
         "title": {
          "text": "Date"
         },
         "tracegroupgap": 0
        },
        "showlegend": true,
        "template": {
         "data": {
          "bar": [
           {
            "error_x": {
             "color": "#2a3f5f"
            },
            "error_y": {
             "color": "#2a3f5f"
            },
            "marker": {
             "line": {
              "color": "#E5ECF6",
              "width": 0.5
             },
             "pattern": {
              "fillmode": "overlay",
              "size": 10,
              "solidity": 0.2
             }
            },
            "type": "bar"
           }
          ],
          "barpolar": [
           {
            "marker": {
             "line": {
              "color": "#E5ECF6",
              "width": 0.5
             },
             "pattern": {
              "fillmode": "overlay",
              "size": 10,
              "solidity": 0.2
             }
            },
            "type": "barpolar"
           }
          ],
          "carpet": [
           {
            "aaxis": {
             "endlinecolor": "#2a3f5f",
             "gridcolor": "white",
             "linecolor": "white",
             "minorgridcolor": "white",
             "startlinecolor": "#2a3f5f"
            },
            "baxis": {
             "endlinecolor": "#2a3f5f",
             "gridcolor": "white",
             "linecolor": "white",
             "minorgridcolor": "white",
             "startlinecolor": "#2a3f5f"
            },
            "type": "carpet"
           }
          ],
          "choropleth": [
           {
            "colorbar": {
             "outlinewidth": 0,
             "ticks": ""
            },
            "type": "choropleth"
           }
          ],
          "contour": [
           {
            "colorbar": {
             "outlinewidth": 0,
             "ticks": ""
            },
            "colorscale": [
             [
              0,
              "#0d0887"
             ],
             [
              0.1111111111111111,
              "#46039f"
             ],
             [
              0.2222222222222222,
              "#7201a8"
             ],
             [
              0.3333333333333333,
              "#9c179e"
             ],
             [
              0.4444444444444444,
              "#bd3786"
             ],
             [
              0.5555555555555556,
              "#d8576b"
             ],
             [
              0.6666666666666666,
              "#ed7953"
             ],
             [
              0.7777777777777778,
              "#fb9f3a"
             ],
             [
              0.8888888888888888,
              "#fdca26"
             ],
             [
              1,
              "#f0f921"
             ]
            ],
            "type": "contour"
           }
          ],
          "contourcarpet": [
           {
            "colorbar": {
             "outlinewidth": 0,
             "ticks": ""
            },
            "type": "contourcarpet"
           }
          ],
          "heatmap": [
           {
            "colorbar": {
             "outlinewidth": 0,
             "ticks": ""
            },
            "colorscale": [
             [
              0,
              "#0d0887"
             ],
             [
              0.1111111111111111,
              "#46039f"
             ],
             [
              0.2222222222222222,
              "#7201a8"
             ],
             [
              0.3333333333333333,
              "#9c179e"
             ],
             [
              0.4444444444444444,
              "#bd3786"
             ],
             [
              0.5555555555555556,
              "#d8576b"
             ],
             [
              0.6666666666666666,
              "#ed7953"
             ],
             [
              0.7777777777777778,
              "#fb9f3a"
             ],
             [
              0.8888888888888888,
              "#fdca26"
             ],
             [
              1,
              "#f0f921"
             ]
            ],
            "type": "heatmap"
           }
          ],
          "heatmapgl": [
           {
            "colorbar": {
             "outlinewidth": 0,
             "ticks": ""
            },
            "colorscale": [
             [
              0,
              "#0d0887"
             ],
             [
              0.1111111111111111,
              "#46039f"
             ],
             [
              0.2222222222222222,
              "#7201a8"
             ],
             [
              0.3333333333333333,
              "#9c179e"
             ],
             [
              0.4444444444444444,
              "#bd3786"
             ],
             [
              0.5555555555555556,
              "#d8576b"
             ],
             [
              0.6666666666666666,
              "#ed7953"
             ],
             [
              0.7777777777777778,
              "#fb9f3a"
             ],
             [
              0.8888888888888888,
              "#fdca26"
             ],
             [
              1,
              "#f0f921"
             ]
            ],
            "type": "heatmapgl"
           }
          ],
          "histogram": [
           {
            "marker": {
             "pattern": {
              "fillmode": "overlay",
              "size": 10,
              "solidity": 0.2
             }
            },
            "type": "histogram"
           }
          ],
          "histogram2d": [
           {
            "colorbar": {
             "outlinewidth": 0,
             "ticks": ""
            },
            "colorscale": [
             [
              0,
              "#0d0887"
             ],
             [
              0.1111111111111111,
              "#46039f"
             ],
             [
              0.2222222222222222,
              "#7201a8"
             ],
             [
              0.3333333333333333,
              "#9c179e"
             ],
             [
              0.4444444444444444,
              "#bd3786"
             ],
             [
              0.5555555555555556,
              "#d8576b"
             ],
             [
              0.6666666666666666,
              "#ed7953"
             ],
             [
              0.7777777777777778,
              "#fb9f3a"
             ],
             [
              0.8888888888888888,
              "#fdca26"
             ],
             [
              1,
              "#f0f921"
             ]
            ],
            "type": "histogram2d"
           }
          ],
          "histogram2dcontour": [
           {
            "colorbar": {
             "outlinewidth": 0,
             "ticks": ""
            },
            "colorscale": [
             [
              0,
              "#0d0887"
             ],
             [
              0.1111111111111111,
              "#46039f"
             ],
             [
              0.2222222222222222,
              "#7201a8"
             ],
             [
              0.3333333333333333,
              "#9c179e"
             ],
             [
              0.4444444444444444,
              "#bd3786"
             ],
             [
              0.5555555555555556,
              "#d8576b"
             ],
             [
              0.6666666666666666,
              "#ed7953"
             ],
             [
              0.7777777777777778,
              "#fb9f3a"
             ],
             [
              0.8888888888888888,
              "#fdca26"
             ],
             [
              1,
              "#f0f921"
             ]
            ],
            "type": "histogram2dcontour"
           }
          ],
          "mesh3d": [
           {
            "colorbar": {
             "outlinewidth": 0,
             "ticks": ""
            },
            "type": "mesh3d"
           }
          ],
          "parcoords": [
           {
            "line": {
             "colorbar": {
              "outlinewidth": 0,
              "ticks": ""
             }
            },
            "type": "parcoords"
           }
          ],
          "pie": [
           {
            "automargin": true,
            "type": "pie"
           }
          ],
          "scatter": [
           {
            "marker": {
             "colorbar": {
              "outlinewidth": 0,
              "ticks": ""
             }
            },
            "type": "scatter"
           }
          ],
          "scatter3d": [
           {
            "line": {
             "colorbar": {
              "outlinewidth": 0,
              "ticks": ""
             }
            },
            "marker": {
             "colorbar": {
              "outlinewidth": 0,
              "ticks": ""
             }
            },
            "type": "scatter3d"
           }
          ],
          "scattercarpet": [
           {
            "marker": {
             "colorbar": {
              "outlinewidth": 0,
              "ticks": ""
             }
            },
            "type": "scattercarpet"
           }
          ],
          "scattergeo": [
           {
            "marker": {
             "colorbar": {
              "outlinewidth": 0,
              "ticks": ""
             }
            },
            "type": "scattergeo"
           }
          ],
          "scattergl": [
           {
            "marker": {
             "colorbar": {
              "outlinewidth": 0,
              "ticks": ""
             }
            },
            "type": "scattergl"
           }
          ],
          "scattermapbox": [
           {
            "marker": {
             "colorbar": {
              "outlinewidth": 0,
              "ticks": ""
             }
            },
            "type": "scattermapbox"
           }
          ],
          "scatterpolar": [
           {
            "marker": {
             "colorbar": {
              "outlinewidth": 0,
              "ticks": ""
             }
            },
            "type": "scatterpolar"
           }
          ],
          "scatterpolargl": [
           {
            "marker": {
             "colorbar": {
              "outlinewidth": 0,
              "ticks": ""
             }
            },
            "type": "scatterpolargl"
           }
          ],
          "scatterternary": [
           {
            "marker": {
             "colorbar": {
              "outlinewidth": 0,
              "ticks": ""
             }
            },
            "type": "scatterternary"
           }
          ],
          "surface": [
           {
            "colorbar": {
             "outlinewidth": 0,
             "ticks": ""
            },
            "colorscale": [
             [
              0,
              "#0d0887"
             ],
             [
              0.1111111111111111,
              "#46039f"
             ],
             [
              0.2222222222222222,
              "#7201a8"
             ],
             [
              0.3333333333333333,
              "#9c179e"
             ],
             [
              0.4444444444444444,
              "#bd3786"
             ],
             [
              0.5555555555555556,
              "#d8576b"
             ],
             [
              0.6666666666666666,
              "#ed7953"
             ],
             [
              0.7777777777777778,
              "#fb9f3a"
             ],
             [
              0.8888888888888888,
              "#fdca26"
             ],
             [
              1,
              "#f0f921"
             ]
            ],
            "type": "surface"
           }
          ],
          "table": [
           {
            "cells": {
             "fill": {
              "color": "#EBF0F8"
             },
             "line": {
              "color": "white"
             }
            },
            "header": {
             "fill": {
              "color": "#C8D4E3"
             },
             "line": {
              "color": "white"
             }
            },
            "type": "table"
           }
          ]
         },
         "layout": {
          "annotationdefaults": {
           "arrowcolor": "#2a3f5f",
           "arrowhead": 0,
           "arrowwidth": 1
          },
          "autotypenumbers": "strict",
          "coloraxis": {
           "colorbar": {
            "outlinewidth": 0,
            "ticks": ""
           }
          },
          "colorscale": {
           "diverging": [
            [
             0,
             "#8e0152"
            ],
            [
             0.1,
             "#c51b7d"
            ],
            [
             0.2,
             "#de77ae"
            ],
            [
             0.3,
             "#f1b6da"
            ],
            [
             0.4,
             "#fde0ef"
            ],
            [
             0.5,
             "#f7f7f7"
            ],
            [
             0.6,
             "#e6f5d0"
            ],
            [
             0.7,
             "#b8e186"
            ],
            [
             0.8,
             "#7fbc41"
            ],
            [
             0.9,
             "#4d9221"
            ],
            [
             1,
             "#276419"
            ]
           ],
           "sequential": [
            [
             0,
             "#0d0887"
            ],
            [
             0.1111111111111111,
             "#46039f"
            ],
            [
             0.2222222222222222,
             "#7201a8"
            ],
            [
             0.3333333333333333,
             "#9c179e"
            ],
            [
             0.4444444444444444,
             "#bd3786"
            ],
            [
             0.5555555555555556,
             "#d8576b"
            ],
            [
             0.6666666666666666,
             "#ed7953"
            ],
            [
             0.7777777777777778,
             "#fb9f3a"
            ],
            [
             0.8888888888888888,
             "#fdca26"
            ],
            [
             1,
             "#f0f921"
            ]
           ],
           "sequentialminus": [
            [
             0,
             "#0d0887"
            ],
            [
             0.1111111111111111,
             "#46039f"
            ],
            [
             0.2222222222222222,
             "#7201a8"
            ],
            [
             0.3333333333333333,
             "#9c179e"
            ],
            [
             0.4444444444444444,
             "#bd3786"
            ],
            [
             0.5555555555555556,
             "#d8576b"
            ],
            [
             0.6666666666666666,
             "#ed7953"
            ],
            [
             0.7777777777777778,
             "#fb9f3a"
            ],
            [
             0.8888888888888888,
             "#fdca26"
            ],
            [
             1,
             "#f0f921"
            ]
           ]
          },
          "colorway": [
           "#636efa",
           "#EF553B",
           "#00cc96",
           "#ab63fa",
           "#FFA15A",
           "#19d3f3",
           "#FF6692",
           "#B6E880",
           "#FF97FF",
           "#FECB52"
          ],
          "font": {
           "color": "#2a3f5f"
          },
          "geo": {
           "bgcolor": "white",
           "lakecolor": "white",
           "landcolor": "#E5ECF6",
           "showlakes": true,
           "showland": true,
           "subunitcolor": "white"
          },
          "hoverlabel": {
           "align": "left"
          },
          "hovermode": "closest",
          "mapbox": {
           "style": "light"
          },
          "paper_bgcolor": "white",
          "plot_bgcolor": "#E5ECF6",
          "polar": {
           "angularaxis": {
            "gridcolor": "white",
            "linecolor": "white",
            "ticks": ""
           },
           "bgcolor": "#E5ECF6",
           "radialaxis": {
            "gridcolor": "white",
            "linecolor": "white",
            "ticks": ""
           }
          },
          "scene": {
           "xaxis": {
            "backgroundcolor": "#E5ECF6",
            "gridcolor": "white",
            "gridwidth": 2,
            "linecolor": "white",
            "showbackground": true,
            "ticks": "",
            "zerolinecolor": "white"
           },
           "yaxis": {
            "backgroundcolor": "#E5ECF6",
            "gridcolor": "white",
            "gridwidth": 2,
            "linecolor": "white",
            "showbackground": true,
            "ticks": "",
            "zerolinecolor": "white"
           },
           "zaxis": {
            "backgroundcolor": "#E5ECF6",
            "gridcolor": "white",
            "gridwidth": 2,
            "linecolor": "white",
            "showbackground": true,
            "ticks": "",
            "zerolinecolor": "white"
           }
          },
          "shapedefaults": {
           "line": {
            "color": "#2a3f5f"
           }
          },
          "ternary": {
           "aaxis": {
            "gridcolor": "white",
            "linecolor": "white",
            "ticks": ""
           },
           "baxis": {
            "gridcolor": "white",
            "linecolor": "white",
            "ticks": ""
           },
           "bgcolor": "#E5ECF6",
           "caxis": {
            "gridcolor": "white",
            "linecolor": "white",
            "ticks": ""
           }
          },
          "title": {
           "x": 0.05
          },
          "xaxis": {
           "automargin": true,
           "gridcolor": "white",
           "linecolor": "white",
           "ticks": "",
           "title": {
            "standoff": 15
           },
           "zerolinecolor": "white",
           "zerolinewidth": 2
          },
          "yaxis": {
           "automargin": true,
           "gridcolor": "white",
           "linecolor": "white",
           "ticks": "",
           "title": {
            "standoff": 15
           },
           "zerolinecolor": "white",
           "zerolinewidth": 2
          }
         }
        },
        "title": {
         "text": "WildField : Apotome_x63           Distances (µm) Box plot           PICT-BDD           (Update : 2022-07-05)<br><sub><b>Statistical T-Tests are carried out between a date and the date immediately preceding it</b></sub>",
         "x": 0.5
        },
        "width": 900,
        "xaxis": {
         "anchor": "y",
         "autorange": true,
         "categoryarray": [
          "2021-06-15",
          "2021-10-15",
          "2022-03-16",
          "2022-06-15",
          "2022-07-01"
         ],
         "categoryorder": "array",
         "domain": [
          0,
          0.98
         ],
         "range": [
          "2021-05-22 00:27:04.0325",
          "2022-07-24 23:32:55.9675"
         ],
         "title": {
          "text": "Date"
         },
         "type": "date"
        },
        "xaxis2": {
         "anchor": "y2",
         "autorange": true,
         "domain": [
          0,
          0.98
         ],
         "matches": "x",
         "range": [
          "2021-05-22 00:27:04.0325",
          "2022-07-24 23:32:55.9675"
         ],
         "showticklabels": false,
         "type": "date"
        },
        "xaxis3": {
         "anchor": "y3",
         "autorange": true,
         "domain": [
          0,
          0.98
         ],
         "matches": "x",
         "range": [
          "2021-05-22 00:27:04.0325",
          "2022-07-24 23:32:55.9675"
         ],
         "showticklabels": false,
         "type": "date"
        },
        "xaxis4": {
         "anchor": "y4",
         "autorange": true,
         "domain": [
          0,
          0.98
         ],
         "matches": "x",
         "range": [
          "2021-05-22 00:27:04.0325",
          "2022-07-24 23:32:55.9675"
         ],
         "showticklabels": false,
         "type": "date"
        },
        "xaxis5": {
         "anchor": "y5",
         "autorange": true,
         "domain": [
          0,
          0.98
         ],
         "matches": "x",
         "range": [
          "2021-05-22 00:27:04.0325",
          "2022-07-24 23:32:55.9675"
         ],
         "showticklabels": false,
         "type": "date"
        },
        "xaxis6": {
         "anchor": "y6",
         "autorange": true,
         "domain": [
          0,
          0.98
         ],
         "matches": "x",
         "range": [
          "2021-05-22 00:27:04.0325",
          "2022-07-24 23:32:55.9675"
         ],
         "showticklabels": false,
         "type": "date"
        },
        "yaxis": {
         "anchor": "x",
         "autorange": true,
         "domain": [
          0,
          0.14166666666666666
         ],
         "range": [
          0.1530867349942569,
          0.16278087711594535
         ],
         "title": {
          "text": "Distances (µm)"
         },
         "type": "linear"
        },
        "yaxis2": {
         "anchor": "x2",
         "autorange": true,
         "domain": [
          0.17166666666666666,
          0.31333333333333335
         ],
         "range": [
          0.10596948448372984,
          1.2241500654341408
         ],
         "title": {
          "text": "Distances (µm)"
         },
         "type": "linear"
        },
        "yaxis3": {
         "anchor": "x3",
         "autorange": true,
         "domain": [
          0.3433333333333333,
          0.485
         ],
         "range": [
          -0.010352793806968595,
          1.2205126963346788
         ],
         "title": {
          "text": "Distances (µm)"
         },
         "type": "linear"
        },
        "yaxis4": {
         "anchor": "x4",
         "autorange": true,
         "domain": [
          0.515,
          0.6566666666666667
         ],
         "range": [
          0.023951510775900728,
          1.3326913127959885
         ],
         "title": {
          "text": "Distances (µm)"
         },
         "type": "linear"
        },
        "yaxis5": {
         "anchor": "x5",
         "autorange": true,
         "domain": [
          0.6866666666666666,
          0.8283333333333334
         ],
         "range": [
          -0.036833638167317904,
          1.3269451488924398
         ],
         "title": {
          "text": "Distances (µm)"
         },
         "type": "linear"
        },
        "yaxis6": {
         "anchor": "x6",
         "autorange": true,
         "domain": [
          0.8583333333333333,
          1
         ],
         "range": [
          0.06774969977828088,
          0.1606411456226448
         ],
         "title": {
          "text": "Distances (µm)"
         },
         "type": "linear"
        }
       }
      },
      "image/png": "[encoded data removed]",
      "text/html": [
       "<div>                            <div id=\"fec91f8d-f4ce-4426-9c76-52038888d3f9\" class=\"plotly-graph-div\" style=\"height:2000px; width:900px;\"></div>            <script type=\"text/javascript\">                require([\"plotly\"], function(Plotly) {                    window.PLOTLYENV=window.PLOTLYENV || {};                                    if (document.getElementById(\"fec91f8d-f4ce-4426-9c76-52038888d3f9\")) {                    Plotly.newPlot(                        \"fec91f8d-f4ce-4426-9c76-52038888d3f9\",                        [{\"alignmentgroup\":\"True\",\"boxpoints\":\"outliers\",\"hovertemplate\":\"Date=%{x}<br>Combination=Channel 0 vs channel1<br>Distances (\\u00b5m)=%{y}<extra></extra>\",\"legendgroup\":\"2021-06-15 (n = 4)\",\"marker\":{\"color\":\"#636efa\"},\"name\":\"2021-06-15 (n = 4)\",\"notched\":false,\"offsetgroup\":\"2021-06-15\",\"orientation\":\"v\",\"showlegend\":true,\"type\":\"box\",\"x\":[\"2021-06-15\",\"2021-06-15\",\"2021-06-15\",\"2021-06-15\"],\"x0\":\" \",\"xaxis\":\"x6\",\"y\":[0.11446539464634543,0.15199449520144998,0.11446539464634543,0.07239427207049907],\"y0\":\" \",\"yaxis\":\"y6\"},{\"alignmentgroup\":\"True\",\"boxpoints\":\"outliers\",\"hovertemplate\":\"Date=%{x}<br>Combination=Channel 0 vs channel2<br>Distances (\\u00b5m)=%{y}<extra></extra>\",\"legendgroup\":\"2021-06-15 (n = 4)\",\"marker\":{\"color\":\"#636efa\"},\"name\":\"2021-06-15 (n = 4)\",\"notched\":false,\"offsetgroup\":\"2021-06-15\",\"orientation\":\"v\",\"showlegend\":false,\"type\":\"box\",\"x\":[\"2021-06-15\",\"2021-06-15\",\"2021-06-15\",\"2021-06-15\"],\"x0\":\" \",\"xaxis\":\"x5\",\"y\":[0.051190480700113776,1.1999999999999995,0.051190480700113776,0.051190480700113776],\"y0\":\" \",\"yaxis\":\"y5\"},{\"alignmentgroup\":\"True\",\"boxpoints\":\"outliers\",\"hovertemplate\":\"Date=%{x}<br>Combination=Channel 0 vs channel3<br>Distances (\\u00b5m)=%{y}<extra></extra>\",\"legendgroup\":\"2021-06-15 (n = 4)\",\"marker\":{\"color\":\"#636efa\"},\"name\":\"2021-06-15 (n = 4)\",\"notched\":false,\"offsetgroup\":\"2021-06-15\",\"orientation\":\"v\",\"showlegend\":false,\"type\":\"box\",\"x\":[\"2021-06-15\",\"2021-06-15\",\"2021-06-15\",\"2021-06-15\"],\"x0\":\" \",\"xaxis\":\"x4\",\"y\":[0.10238096140022755,1.2108693790591478,0.11446539464634543,0.10238096140022755],\"y0\":\" \",\"yaxis\":\"y4\"},{\"alignmentgroup\":\"True\",\"boxpoints\":\"outliers\",\"hovertemplate\":\"Date=%{x}<br>Combination=Channel 1 vs channel2<br>Distances (\\u00b5m)=%{y}<extra></extra>\",\"legendgroup\":\"2021-06-15 (n = 4)\",\"marker\":{\"color\":\"#636efa\"},\"name\":\"2021-06-15 (n = 4)\",\"notched\":false,\"offsetgroup\":\"2021-06-15\",\"orientation\":\"v\",\"showlegend\":false,\"type\":\"box\",\"x\":[\"2021-06-15\",\"2021-06-15\",\"2021-06-15\",\"2021-06-15\"],\"x0\":\" \",\"xaxis\":\"x3\",\"y\":[0.07239427207049907,1.1059395673234331,0.10238096140022755,0.051190480700113776],\"y0\":\" \",\"yaxis\":\"y3\"},{\"alignmentgroup\":\"True\",\"boxpoints\":\"outliers\",\"hovertemplate\":\"Date=%{x}<br>Combination=Channel 1 vs channel3<br>Distances (\\u00b5m)=%{y}<extra></extra>\",\"legendgroup\":\"2021-06-15 (n = 4)\",\"marker\":{\"color\":\"#636efa\"},\"name\":\"2021-06-15 (n = 4)\",\"notched\":false,\"offsetgroup\":\"2021-06-15\",\"orientation\":\"v\",\"showlegend\":false,\"type\":\"box\",\"x\":[\"2021-06-15\",\"2021-06-15\",\"2021-06-15\",\"2021-06-15\"],\"x0\":\" \",\"xaxis\":\"x2\",\"y\":[0.2110637589527114,1.1200660294568563,0.16187851353125038,0.16187851353125038],\"y0\":\" \",\"yaxis\":\"y2\"},{\"alignmentgroup\":\"True\",\"boxpoints\":\"outliers\",\"hovertemplate\":\"Date=%{x}<br>Combination=Channel 2 vs channel3<br>Distances (\\u00b5m)=%{y}<extra></extra>\",\"legendgroup\":\"2021-06-15 (n = 4)\",\"marker\":{\"color\":\"#636efa\"},\"name\":\"2021-06-15 (n = 4)\",\"notched\":false,\"offsetgroup\":\"2021-06-15\",\"orientation\":\"v\",\"showlegend\":false,\"type\":\"box\",\"x\":[\"2021-06-15\",\"2021-06-15\",\"2021-06-15\",\"2021-06-15\"],\"x0\":\" \",\"xaxis\":\"x\",\"y\":[0.15357144210034132,0.16187851353125038,0.16187851353125038,0.15357144210034132],\"y0\":\" \",\"yaxis\":\"y\"},{\"alignmentgroup\":\"True\",\"boxpoints\":\"outliers\",\"hovertemplate\":\"Date=%{x}<br>Combination=Channel 0 vs channel1<br>Distances (\\u00b5m)=%{y}<extra></extra>\",\"legendgroup\":\"2021-10-15 (n = 4)\",\"marker\":{\"color\":\"#EF553B\"},\"name\":\"2021-10-15 (n = 4)\",\"notched\":false,\"offsetgroup\":\"2021-10-15\",\"orientation\":\"v\",\"showlegend\":true,\"type\":\"box\",\"x\":[\"2021-10-15\",\"2021-10-15\",\"2021-10-15\",\"2021-10-15\"],\"x0\":\" \",\"xaxis\":\"x6\",\"y\":[0.11446539464634543,0.15199449520144998,0.11446539464634543,0.07239427207049907],\"y0\":\" \",\"yaxis\":\"y6\"},{\"alignmentgroup\":\"True\",\"boxpoints\":\"outliers\",\"hovertemplate\":\"Date=%{x}<br>Combination=Channel 0 vs channel2<br>Distances (\\u00b5m)=%{y}<extra></extra>\",\"legendgroup\":\"2021-10-15 (n = 4)\",\"marker\":{\"color\":\"#EF553B\"},\"name\":\"2021-10-15 (n = 4)\",\"notched\":false,\"offsetgroup\":\"2021-10-15\",\"orientation\":\"v\",\"showlegend\":false,\"type\":\"box\",\"x\":[\"2021-10-15\",\"2021-10-15\",\"2021-10-15\",\"2021-10-15\"],\"x0\":\" \",\"xaxis\":\"x5\",\"y\":[0.051190480700113776,1.1999999999999995,0.051190480700113776,0.051190480700113776],\"y0\":\" \",\"yaxis\":\"y5\"},{\"alignmentgroup\":\"True\",\"boxpoints\":\"outliers\",\"hovertemplate\":\"Date=%{x}<br>Combination=Channel 0 vs channel3<br>Distances (\\u00b5m)=%{y}<extra></extra>\",\"legendgroup\":\"2021-10-15 (n = 4)\",\"marker\":{\"color\":\"#EF553B\"},\"name\":\"2021-10-15 (n = 4)\",\"notched\":false,\"offsetgroup\":\"2021-10-15\",\"orientation\":\"v\",\"showlegend\":false,\"type\":\"box\",\"x\":[\"2021-10-15\",\"2021-10-15\",\"2021-10-15\",\"2021-10-15\"],\"x0\":\" \",\"xaxis\":\"x4\",\"y\":[0.10238096140022755,1.2108693790591478,0.11446539464634543,0.10238096140022755],\"y0\":\" \",\"yaxis\":\"y4\"},{\"alignmentgroup\":\"True\",\"boxpoints\":\"outliers\",\"hovertemplate\":\"Date=%{x}<br>Combination=Channel 1 vs channel2<br>Distances (\\u00b5m)=%{y}<extra></extra>\",\"legendgroup\":\"2021-10-15 (n = 4)\",\"marker\":{\"color\":\"#EF553B\"},\"name\":\"2021-10-15 (n = 4)\",\"notched\":false,\"offsetgroup\":\"2021-10-15\",\"orientation\":\"v\",\"showlegend\":false,\"type\":\"box\",\"x\":[\"2021-10-15\",\"2021-10-15\",\"2021-10-15\",\"2021-10-15\"],\"x0\":\" \",\"xaxis\":\"x3\",\"y\":[0.07239427207049907,1.1059395673234331,0.10238096140022755,0.051190480700113776],\"y0\":\" \",\"yaxis\":\"y3\"},{\"alignmentgroup\":\"True\",\"boxpoints\":\"outliers\",\"hovertemplate\":\"Date=%{x}<br>Combination=Channel 1 vs channel3<br>Distances (\\u00b5m)=%{y}<extra></extra>\",\"legendgroup\":\"2021-10-15 (n = 4)\",\"marker\":{\"color\":\"#EF553B\"},\"name\":\"2021-10-15 (n = 4)\",\"notched\":false,\"offsetgroup\":\"2021-10-15\",\"orientation\":\"v\",\"showlegend\":false,\"type\":\"box\",\"x\":[\"2021-10-15\",\"2021-10-15\",\"2021-10-15\",\"2021-10-15\"],\"x0\":\" \",\"xaxis\":\"x2\",\"y\":[0.2110637589527114,1.1200660294568563,0.16187851353125038,0.16187851353125038],\"y0\":\" \",\"yaxis\":\"y2\"},{\"alignmentgroup\":\"True\",\"boxpoints\":\"outliers\",\"hovertemplate\":\"Date=%{x}<br>Combination=Channel 2 vs channel3<br>Distances (\\u00b5m)=%{y}<extra></extra>\",\"legendgroup\":\"2021-10-15 (n = 4)\",\"marker\":{\"color\":\"#EF553B\"},\"name\":\"2021-10-15 (n = 4)\",\"notched\":false,\"offsetgroup\":\"2021-10-15\",\"orientation\":\"v\",\"showlegend\":false,\"type\":\"box\",\"x\":[\"2021-10-15\",\"2021-10-15\",\"2021-10-15\",\"2021-10-15\"],\"x0\":\" \",\"xaxis\":\"x\",\"y\":[0.15357144210034132,0.16187851353125038,0.16187851353125038,0.15357144210034132],\"y0\":\" \",\"yaxis\":\"y\"},{\"alignmentgroup\":\"True\",\"boxpoints\":\"outliers\",\"hovertemplate\":\"Date=%{x}<br>Combination=Channel 0 vs channel1<br>Distances (\\u00b5m)=%{y}<extra></extra>\",\"legendgroup\":\"2022-03-16 (n = 4)\",\"marker\":{\"color\":\"#00cc96\"},\"name\":\"2022-03-16 (n = 4)\",\"notched\":false,\"offsetgroup\":\"2022-03-16\",\"orientation\":\"v\",\"showlegend\":true,\"type\":\"box\",\"x\":[\"2022-03-16\",\"2022-03-16\",\"2022-03-16\",\"2022-03-16\"],\"x0\":\" \",\"xaxis\":\"x6\",\"y\":[0.11446539464634543,0.15199449520144998,0.11446539464634543,0.07239427207049907],\"y0\":\" \",\"yaxis\":\"y6\"},{\"alignmentgroup\":\"True\",\"boxpoints\":\"outliers\",\"hovertemplate\":\"Date=%{x}<br>Combination=Channel 0 vs channel2<br>Distances (\\u00b5m)=%{y}<extra></extra>\",\"legendgroup\":\"2022-03-16 (n = 4)\",\"marker\":{\"color\":\"#00cc96\"},\"name\":\"2022-03-16 (n = 4)\",\"notched\":false,\"offsetgroup\":\"2022-03-16\",\"orientation\":\"v\",\"showlegend\":false,\"type\":\"box\",\"x\":[\"2022-03-16\",\"2022-03-16\",\"2022-03-16\",\"2022-03-16\"],\"x0\":\" \",\"xaxis\":\"x5\",\"y\":[0.051190480700113776,1.1999999999999995,0.051190480700113776,0.051190480700113776],\"y0\":\" \",\"yaxis\":\"y5\"},{\"alignmentgroup\":\"True\",\"boxpoints\":\"outliers\",\"hovertemplate\":\"Date=%{x}<br>Combination=Channel 0 vs channel3<br>Distances (\\u00b5m)=%{y}<extra></extra>\",\"legendgroup\":\"2022-03-16 (n = 4)\",\"marker\":{\"color\":\"#00cc96\"},\"name\":\"2022-03-16 (n = 4)\",\"notched\":false,\"offsetgroup\":\"2022-03-16\",\"orientation\":\"v\",\"showlegend\":false,\"type\":\"box\",\"x\":[\"2022-03-16\",\"2022-03-16\",\"2022-03-16\",\"2022-03-16\"],\"x0\":\" \",\"xaxis\":\"x4\",\"y\":[0.10238096140022755,1.2108693790591478,0.11446539464634543,0.10238096140022755],\"y0\":\" \",\"yaxis\":\"y4\"},{\"alignmentgroup\":\"True\",\"boxpoints\":\"outliers\",\"hovertemplate\":\"Date=%{x}<br>Combination=Channel 1 vs channel2<br>Distances (\\u00b5m)=%{y}<extra></extra>\",\"legendgroup\":\"2022-03-16 (n = 4)\",\"marker\":{\"color\":\"#00cc96\"},\"name\":\"2022-03-16 (n = 4)\",\"notched\":false,\"offsetgroup\":\"2022-03-16\",\"orientation\":\"v\",\"showlegend\":false,\"type\":\"box\",\"x\":[\"2022-03-16\",\"2022-03-16\",\"2022-03-16\",\"2022-03-16\"],\"x0\":\" \",\"xaxis\":\"x3\",\"y\":[0.07239427207049907,1.1059395673234331,0.10238096140022755,0.051190480700113776],\"y0\":\" \",\"yaxis\":\"y3\"},{\"alignmentgroup\":\"True\",\"boxpoints\":\"outliers\",\"hovertemplate\":\"Date=%{x}<br>Combination=Channel 1 vs channel3<br>Distances (\\u00b5m)=%{y}<extra></extra>\",\"legendgroup\":\"2022-03-16 (n = 4)\",\"marker\":{\"color\":\"#00cc96\"},\"name\":\"2022-03-16 (n = 4)\",\"notched\":false,\"offsetgroup\":\"2022-03-16\",\"orientation\":\"v\",\"showlegend\":false,\"type\":\"box\",\"x\":[\"2022-03-16\",\"2022-03-16\",\"2022-03-16\",\"2022-03-16\"],\"x0\":\" \",\"xaxis\":\"x2\",\"y\":[0.2110637589527114,1.1200660294568563,0.16187851353125038,0.16187851353125038],\"y0\":\" \",\"yaxis\":\"y2\"},{\"alignmentgroup\":\"True\",\"boxpoints\":\"outliers\",\"hovertemplate\":\"Date=%{x}<br>Combination=Channel 2 vs channel3<br>Distances (\\u00b5m)=%{y}<extra></extra>\",\"legendgroup\":\"2022-03-16 (n = 4)\",\"marker\":{\"color\":\"#00cc96\"},\"name\":\"2022-03-16 (n = 4)\",\"notched\":false,\"offsetgroup\":\"2022-03-16\",\"orientation\":\"v\",\"showlegend\":false,\"type\":\"box\",\"x\":[\"2022-03-16\",\"2022-03-16\",\"2022-03-16\",\"2022-03-16\"],\"x0\":\" \",\"xaxis\":\"x\",\"y\":[0.15357144210034132,0.16187851353125038,0.16187851353125038,0.15357144210034132],\"y0\":\" \",\"yaxis\":\"y\"},{\"alignmentgroup\":\"True\",\"boxpoints\":\"outliers\",\"hovertemplate\":\"Date=%{x}<br>Combination=Channel 0 vs channel1<br>Distances (\\u00b5m)=%{y}<extra></extra>\",\"legendgroup\":\"2022-06-15 (n = 4)\",\"marker\":{\"color\":\"#ab63fa\"},\"name\":\"2022-06-15 (n = 4)\",\"notched\":false,\"offsetgroup\":\"2022-06-15\",\"orientation\":\"v\",\"showlegend\":true,\"type\":\"box\",\"x\":[\"2022-06-15\",\"2022-06-15\",\"2022-06-15\",\"2022-06-15\"],\"x0\":\" \",\"xaxis\":\"x6\",\"y\":[0.11446539464634543,0.15199449520144998,0.11446539464634543,0.07239427207049907],\"y0\":\" \",\"yaxis\":\"y6\"},{\"alignmentgroup\":\"True\",\"boxpoints\":\"outliers\",\"hovertemplate\":\"Date=%{x}<br>Combination=Channel 0 vs channel2<br>Distances (\\u00b5m)=%{y}<extra></extra>\",\"legendgroup\":\"2022-06-15 (n = 4)\",\"marker\":{\"color\":\"#ab63fa\"},\"name\":\"2022-06-15 (n = 4)\",\"notched\":false,\"offsetgroup\":\"2022-06-15\",\"orientation\":\"v\",\"showlegend\":false,\"type\":\"box\",\"x\":[\"2022-06-15\",\"2022-06-15\",\"2022-06-15\",\"2022-06-15\"],\"x0\":\" \",\"xaxis\":\"x5\",\"y\":[0.051190480700113776,1.1999999999999995,0.051190480700113776,0.051190480700113776],\"y0\":\" \",\"yaxis\":\"y5\"},{\"alignmentgroup\":\"True\",\"boxpoints\":\"outliers\",\"hovertemplate\":\"Date=%{x}<br>Combination=Channel 0 vs channel3<br>Distances (\\u00b5m)=%{y}<extra></extra>\",\"legendgroup\":\"2022-06-15 (n = 4)\",\"marker\":{\"color\":\"#ab63fa\"},\"name\":\"2022-06-15 (n = 4)\",\"notched\":false,\"offsetgroup\":\"2022-06-15\",\"orientation\":\"v\",\"showlegend\":false,\"type\":\"box\",\"x\":[\"2022-06-15\",\"2022-06-15\",\"2022-06-15\",\"2022-06-15\"],\"x0\":\" \",\"xaxis\":\"x4\",\"y\":[0.10238096140022755,1.2108693790591478,0.11446539464634543,0.10238096140022755],\"y0\":\" \",\"yaxis\":\"y4\"},{\"alignmentgroup\":\"True\",\"boxpoints\":\"outliers\",\"hovertemplate\":\"Date=%{x}<br>Combination=Channel 1 vs channel2<br>Distances (\\u00b5m)=%{y}<extra></extra>\",\"legendgroup\":\"2022-06-15 (n = 4)\",\"marker\":{\"color\":\"#ab63fa\"},\"name\":\"2022-06-15 (n = 4)\",\"notched\":false,\"offsetgroup\":\"2022-06-15\",\"orientation\":\"v\",\"showlegend\":false,\"type\":\"box\",\"x\":[\"2022-06-15\",\"2022-06-15\",\"2022-06-15\",\"2022-06-15\"],\"x0\":\" \",\"xaxis\":\"x3\",\"y\":[0.07239427207049907,1.1059395673234331,0.10238096140022755,0.051190480700113776],\"y0\":\" \",\"yaxis\":\"y3\"},{\"alignmentgroup\":\"True\",\"boxpoints\":\"outliers\",\"hovertemplate\":\"Date=%{x}<br>Combination=Channel 1 vs channel3<br>Distances (\\u00b5m)=%{y}<extra></extra>\",\"legendgroup\":\"2022-06-15 (n = 4)\",\"marker\":{\"color\":\"#ab63fa\"},\"name\":\"2022-06-15 (n = 4)\",\"notched\":false,\"offsetgroup\":\"2022-06-15\",\"orientation\":\"v\",\"showlegend\":false,\"type\":\"box\",\"x\":[\"2022-06-15\",\"2022-06-15\",\"2022-06-15\",\"2022-06-15\"],\"x0\":\" \",\"xaxis\":\"x2\",\"y\":[0.2110637589527114,1.1200660294568563,0.16187851353125038,0.16187851353125038],\"y0\":\" \",\"yaxis\":\"y2\"},{\"alignmentgroup\":\"True\",\"boxpoints\":\"outliers\",\"hovertemplate\":\"Date=%{x}<br>Combination=Channel 2 vs channel3<br>Distances (\\u00b5m)=%{y}<extra></extra>\",\"legendgroup\":\"2022-06-15 (n = 4)\",\"marker\":{\"color\":\"#ab63fa\"},\"name\":\"2022-06-15 (n = 4)\",\"notched\":false,\"offsetgroup\":\"2022-06-15\",\"orientation\":\"v\",\"showlegend\":false,\"type\":\"box\",\"x\":[\"2022-06-15\",\"2022-06-15\",\"2022-06-15\",\"2022-06-15\"],\"x0\":\" \",\"xaxis\":\"x\",\"y\":[0.15357144210034132,0.16187851353125038,0.16187851353125038,0.15357144210034132],\"y0\":\" \",\"yaxis\":\"y\"},{\"alignmentgroup\":\"True\",\"boxpoints\":\"outliers\",\"hovertemplate\":\"Date=%{x}<br>Combination=Channel 0 vs channel1<br>Distances (\\u00b5m)=%{y}<extra></extra>\",\"legendgroup\":\"2022-07-01 (n = 4)\",\"marker\":{\"color\":\"#FFA15A\"},\"name\":\"2022-07-01 (n = 4)\",\"notched\":false,\"offsetgroup\":\"2022-07-01\",\"orientation\":\"v\",\"showlegend\":true,\"type\":\"box\",\"x\":[\"2022-07-01\",\"2022-07-01\",\"2022-07-01\",\"2022-07-01\"],\"x0\":\" \",\"xaxis\":\"x6\",\"y\":[0.11446539464634543,0.15199449520144998,0.11446539464634543,0.07239427207049907],\"y0\":\" \",\"yaxis\":\"y6\"},{\"alignmentgroup\":\"True\",\"boxpoints\":\"outliers\",\"hovertemplate\":\"Date=%{x}<br>Combination=Channel 0 vs channel2<br>Distances (\\u00b5m)=%{y}<extra></extra>\",\"legendgroup\":\"2022-07-01 (n = 4)\",\"marker\":{\"color\":\"#FFA15A\"},\"name\":\"2022-07-01 (n = 4)\",\"notched\":false,\"offsetgroup\":\"2022-07-01\",\"orientation\":\"v\",\"showlegend\":false,\"type\":\"box\",\"x\":[\"2022-07-01\",\"2022-07-01\",\"2022-07-01\",\"2022-07-01\"],\"x0\":\" \",\"xaxis\":\"x5\",\"y\":[0.051190480700113776,1.1999999999999995,0.051190480700113776,0.051190480700113776],\"y0\":\" \",\"yaxis\":\"y5\"},{\"alignmentgroup\":\"True\",\"boxpoints\":\"outliers\",\"hovertemplate\":\"Date=%{x}<br>Combination=Channel 0 vs channel3<br>Distances (\\u00b5m)=%{y}<extra></extra>\",\"legendgroup\":\"2022-07-01 (n = 4)\",\"marker\":{\"color\":\"#FFA15A\"},\"name\":\"2022-07-01 (n = 4)\",\"notched\":false,\"offsetgroup\":\"2022-07-01\",\"orientation\":\"v\",\"showlegend\":false,\"type\":\"box\",\"x\":[\"2022-07-01\",\"2022-07-01\",\"2022-07-01\",\"2022-07-01\"],\"x0\":\" \",\"xaxis\":\"x4\",\"y\":[0.10238096140022755,1.2108693790591478,0.11446539464634543,0.10238096140022755],\"y0\":\" \",\"yaxis\":\"y4\"},{\"alignmentgroup\":\"True\",\"boxpoints\":\"outliers\",\"hovertemplate\":\"Date=%{x}<br>Combination=Channel 1 vs channel2<br>Distances (\\u00b5m)=%{y}<extra></extra>\",\"legendgroup\":\"2022-07-01 (n = 4)\",\"marker\":{\"color\":\"#FFA15A\"},\"name\":\"2022-07-01 (n = 4)\",\"notched\":false,\"offsetgroup\":\"2022-07-01\",\"orientation\":\"v\",\"showlegend\":false,\"type\":\"box\",\"x\":[\"2022-07-01\",\"2022-07-01\",\"2022-07-01\",\"2022-07-01\"],\"x0\":\" \",\"xaxis\":\"x3\",\"y\":[0.07239427207049907,1.1059395673234331,0.10238096140022755,0.051190480700113776],\"y0\":\" \",\"yaxis\":\"y3\"},{\"alignmentgroup\":\"True\",\"boxpoints\":\"outliers\",\"hovertemplate\":\"Date=%{x}<br>Combination=Channel 1 vs channel3<br>Distances (\\u00b5m)=%{y}<extra></extra>\",\"legendgroup\":\"2022-07-01 (n = 4)\",\"marker\":{\"color\":\"#FFA15A\"},\"name\":\"2022-07-01 (n = 4)\",\"notched\":false,\"offsetgroup\":\"2022-07-01\",\"orientation\":\"v\",\"showlegend\":false,\"type\":\"box\",\"x\":[\"2022-07-01\",\"2022-07-01\",\"2022-07-01\",\"2022-07-01\"],\"x0\":\" \",\"xaxis\":\"x2\",\"y\":[0.2110637589527114,1.1200660294568563,0.16187851353125038,0.16187851353125038],\"y0\":\" \",\"yaxis\":\"y2\"},{\"alignmentgroup\":\"True\",\"boxpoints\":\"outliers\",\"hovertemplate\":\"Date=%{x}<br>Combination=Channel 2 vs channel3<br>Distances (\\u00b5m)=%{y}<extra></extra>\",\"legendgroup\":\"2022-07-01 (n = 4)\",\"marker\":{\"color\":\"#FFA15A\"},\"name\":\"2022-07-01 (n = 4)\",\"notched\":false,\"offsetgroup\":\"2022-07-01\",\"orientation\":\"v\",\"showlegend\":false,\"type\":\"box\",\"x\":[\"2022-07-01\",\"2022-07-01\",\"2022-07-01\",\"2022-07-01\"],\"x0\":\" \",\"xaxis\":\"x\",\"y\":[0.15357144210034132,0.16187851353125038,0.16187851353125038,0.15357144210034132],\"y0\":\" \",\"yaxis\":\"y\"},{\"line\":{\"color\":\"#000000\"},\"mode\":\"lines+markers\",\"showlegend\":false,\"type\":\"scatter\",\"x\":[\"2021-06-15\",\"2021-10-15\",\"2022-03-16\",\"2022-06-15\",\"2022-07-01\"],\"xaxis\":\"x6\",\"y\":[0.11446539464634543,0.11446539464634543,0.11446539464634543,0.11446539464634543,0.11446539464634543],\"yaxis\":\"y6\"},{\"line\":{\"color\":\"#000000\"},\"mode\":\"lines+markers\",\"showlegend\":false,\"type\":\"scatter\",\"x\":[\"2021-06-15\",\"2021-10-15\",\"2022-03-16\",\"2022-06-15\",\"2022-07-01\"],\"xaxis\":\"x5\",\"y\":[0.051190480700113776,0.051190480700113776,0.051190480700113776,0.051190480700113776,0.051190480700113776],\"yaxis\":\"y5\"},{\"line\":{\"color\":\"#000000\"},\"mode\":\"lines+markers\",\"showlegend\":false,\"type\":\"scatter\",\"x\":[\"2021-06-15\",\"2021-10-15\",\"2022-03-16\",\"2022-06-15\",\"2022-07-01\"],\"xaxis\":\"x4\",\"y\":[0.10842317802328649,0.10842317802328649,0.10842317802328649,0.10842317802328649,0.10842317802328649],\"yaxis\":\"y4\"},{\"line\":{\"color\":\"#000000\"},\"mode\":\"lines+markers\",\"showlegend\":false,\"type\":\"scatter\",\"x\":[\"2021-06-15\",\"2021-10-15\",\"2022-03-16\",\"2022-06-15\",\"2022-07-01\"],\"xaxis\":\"x3\",\"y\":[0.08738761673536331,0.08738761673536331,0.08738761673536331,0.08738761673536331,0.08738761673536331],\"yaxis\":\"y3\"},{\"line\":{\"color\":\"#000000\"},\"mode\":\"lines+markers\",\"showlegend\":false,\"type\":\"scatter\",\"x\":[\"2021-06-15\",\"2021-10-15\",\"2022-03-16\",\"2022-06-15\",\"2022-07-01\"],\"xaxis\":\"x2\",\"y\":[0.1864711362419809,0.1864711362419809,0.1864711362419809,0.1864711362419809,0.1864711362419809],\"yaxis\":\"y2\"},{\"line\":{\"color\":\"#000000\"},\"mode\":\"lines+markers\",\"showlegend\":false,\"type\":\"scatter\",\"x\":[\"2021-06-15\",\"2021-10-15\",\"2022-03-16\",\"2022-06-15\",\"2022-07-01\"],\"xaxis\":\"x\",\"y\":[0.15772497781579586,0.15772497781579586,0.15772497781579586,0.15772497781579586,0.15772497781579586],\"yaxis\":\"y\"}],                        {\"annotations\":[{\"showarrow\":false,\"text\":\"Combination=Channel 2 vs channel3\",\"textangle\":90,\"x\":0.98,\"xanchor\":\"left\",\"xref\":\"paper\",\"y\":0.07083333333333333,\"yanchor\":\"middle\",\"yref\":\"paper\"},{\"showarrow\":false,\"text\":\"Combination=Channel 1 vs channel3\",\"textangle\":90,\"x\":0.98,\"xanchor\":\"left\",\"xref\":\"paper\",\"y\":0.2425,\"yanchor\":\"middle\",\"yref\":\"paper\"},{\"showarrow\":false,\"text\":\"Combination=Channel 1 vs channel2\",\"textangle\":90,\"x\":0.98,\"xanchor\":\"left\",\"xref\":\"paper\",\"y\":0.4141666666666667,\"yanchor\":\"middle\",\"yref\":\"paper\"},{\"showarrow\":false,\"text\":\"Combination=Channel 0 vs channel3\",\"textangle\":90,\"x\":0.98,\"xanchor\":\"left\",\"xref\":\"paper\",\"y\":0.5858333333333334,\"yanchor\":\"middle\",\"yref\":\"paper\"},{\"showarrow\":false,\"text\":\"Combination=Channel 0 vs channel2\",\"textangle\":90,\"x\":0.98,\"xanchor\":\"left\",\"xref\":\"paper\",\"y\":0.7575000000000001,\"yanchor\":\"middle\",\"yref\":\"paper\"},{\"showarrow\":false,\"text\":\"Combination=Channel 0 vs channel1\",\"textangle\":90,\"x\":0.98,\"xanchor\":\"left\",\"xref\":\"paper\",\"y\":0.9291666666666667,\"yanchor\":\"middle\",\"yref\":\"paper\"},{\"arrowhead\":1,\"font\":{\"size\":30},\"showarrow\":false,\"text\":\"<sup><sup><b>ns</b></sup></sup>\",\"x\":\"2021-10-15\",\"xref\":\"x\",\"y\":0.15199449520144998,\"yref\":\"y6\"},{\"arrowhead\":1,\"font\":{\"size\":30},\"showarrow\":false,\"text\":\"<sup><sup><b>ns</b></sup></sup>\",\"x\":\"2022-03-16\",\"xref\":\"x\",\"y\":0.15199449520144998,\"yref\":\"y6\"},{\"arrowhead\":1,\"font\":{\"size\":30},\"showarrow\":false,\"text\":\"<sup><sup><b>ns</b></sup></sup>\",\"x\":\"2022-06-15\",\"xref\":\"x\",\"y\":0.15199449520144998,\"yref\":\"y6\"},{\"arrowhead\":1,\"font\":{\"size\":30},\"showarrow\":false,\"text\":\"<sup><sup><b>ns</b></sup></sup>\",\"x\":\"2022-07-01\",\"xref\":\"x\",\"y\":0.15199449520144998,\"yref\":\"y6\"},{\"arrowhead\":1,\"font\":{\"size\":30},\"showarrow\":false,\"text\":\"<sup><sup><b>ns</b></sup></sup>\",\"x\":\"2021-10-15\",\"xref\":\"x\",\"y\":1.1999999999999995,\"yref\":\"y5\"},{\"arrowhead\":1,\"font\":{\"size\":30},\"showarrow\":false,\"text\":\"<sup><sup><b>ns</b></sup></sup>\",\"x\":\"2022-03-16\",\"xref\":\"x\",\"y\":1.1999999999999995,\"yref\":\"y5\"},{\"arrowhead\":1,\"font\":{\"size\":30},\"showarrow\":false,\"text\":\"<sup><sup><b>ns</b></sup></sup>\",\"x\":\"2022-06-15\",\"xref\":\"x\",\"y\":1.1999999999999995,\"yref\":\"y5\"},{\"arrowhead\":1,\"font\":{\"size\":30},\"showarrow\":false,\"text\":\"<sup><sup><b>ns</b></sup></sup>\",\"x\":\"2022-07-01\",\"xref\":\"x\",\"y\":1.1999999999999995,\"yref\":\"y5\"},{\"arrowhead\":1,\"font\":{\"size\":30},\"showarrow\":false,\"text\":\"<sup><sup><b>ns</b></sup></sup>\",\"x\":\"2021-10-15\",\"xref\":\"x\",\"y\":1.2108693790591478,\"yref\":\"y4\"},{\"arrowhead\":1,\"font\":{\"size\":30},\"showarrow\":false,\"text\":\"<sup><sup><b>ns</b></sup></sup>\",\"x\":\"2022-03-16\",\"xref\":\"x\",\"y\":1.2108693790591478,\"yref\":\"y4\"},{\"arrowhead\":1,\"font\":{\"size\":30},\"showarrow\":false,\"text\":\"<sup><sup><b>ns</b></sup></sup>\",\"x\":\"2022-06-15\",\"xref\":\"x\",\"y\":1.2108693790591478,\"yref\":\"y4\"},{\"arrowhead\":1,\"font\":{\"size\":30},\"showarrow\":false,\"text\":\"<sup><sup><b>ns</b></sup></sup>\",\"x\":\"2022-07-01\",\"xref\":\"x\",\"y\":1.2108693790591478,\"yref\":\"y4\"},{\"arrowhead\":1,\"font\":{\"size\":30},\"showarrow\":false,\"text\":\"<sup><sup><b>ns</b></sup></sup>\",\"x\":\"2021-10-15\",\"xref\":\"x\",\"y\":1.1059395673234331,\"yref\":\"y3\"},{\"arrowhead\":1,\"font\":{\"size\":30},\"showarrow\":false,\"text\":\"<sup><sup><b>ns</b></sup></sup>\",\"x\":\"2022-03-16\",\"xref\":\"x\",\"y\":1.1059395673234331,\"yref\":\"y3\"},{\"arrowhead\":1,\"font\":{\"size\":30},\"showarrow\":false,\"text\":\"<sup><sup><b>ns</b></sup></sup>\",\"x\":\"2022-06-15\",\"xref\":\"x\",\"y\":1.1059395673234331,\"yref\":\"y3\"},{\"arrowhead\":1,\"font\":{\"size\":30},\"showarrow\":false,\"text\":\"<sup><sup><b>ns</b></sup></sup>\",\"x\":\"2022-07-01\",\"xref\":\"x\",\"y\":1.1059395673234331,\"yref\":\"y3\"},{\"arrowhead\":1,\"font\":{\"size\":30},\"showarrow\":false,\"text\":\"<sup><sup><b>ns</b></sup></sup>\",\"x\":\"2021-10-15\",\"xref\":\"x\",\"y\":1.1200660294568563,\"yref\":\"y2\"},{\"arrowhead\":1,\"font\":{\"size\":30},\"showarrow\":false,\"text\":\"<sup><sup><b>ns</b></sup></sup>\",\"x\":\"2022-03-16\",\"xref\":\"x\",\"y\":1.1200660294568563,\"yref\":\"y2\"},{\"arrowhead\":1,\"font\":{\"size\":30},\"showarrow\":false,\"text\":\"<sup><sup><b>ns</b></sup></sup>\",\"x\":\"2022-06-15\",\"xref\":\"x\",\"y\":1.1200660294568563,\"yref\":\"y2\"},{\"arrowhead\":1,\"font\":{\"size\":30},\"showarrow\":false,\"text\":\"<sup><sup><b>ns</b></sup></sup>\",\"x\":\"2022-07-01\",\"xref\":\"x\",\"y\":1.1200660294568563,\"yref\":\"y2\"},{\"arrowhead\":1,\"font\":{\"size\":30},\"showarrow\":false,\"text\":\"<sup><sup><b>ns</b></sup></sup>\",\"x\":\"2021-10-15\",\"xref\":\"x\",\"y\":0.16187851353125038,\"yref\":\"y\"},{\"arrowhead\":1,\"font\":{\"size\":30},\"showarrow\":false,\"text\":\"<sup><sup><b>ns</b></sup></sup>\",\"x\":\"2022-03-16\",\"xref\":\"x\",\"y\":0.16187851353125038,\"yref\":\"y\"},{\"arrowhead\":1,\"font\":{\"size\":30},\"showarrow\":false,\"text\":\"<sup><sup><b>ns</b></sup></sup>\",\"x\":\"2022-06-15\",\"xref\":\"x\",\"y\":0.16187851353125038,\"yref\":\"y\"},{\"arrowhead\":1,\"font\":{\"size\":30},\"showarrow\":false,\"text\":\"<sup><sup><b>ns</b></sup></sup>\",\"x\":\"2022-07-01\",\"xref\":\"x\",\"y\":0.16187851353125038,\"yref\":\"y\"}],\"boxmode\":\"overlay\",\"height\":2000,\"legend\":{\"title\":{\"text\":\"Date\"},\"tracegroupgap\":0},\"showlegend\":true,\"template\":{\"data\":{\"bar\":[{\"error_x\":{\"color\":\"#2a3f5f\"},\"error_y\":{\"color\":\"#2a3f5f\"},\"marker\":{\"line\":{\"color\":\"#E5ECF6\",\"width\":0.5},\"pattern\":{\"fillmode\":\"overlay\",\"size\":10,\"solidity\":0.2}},\"type\":\"bar\"}],\"barpolar\":[{\"marker\":{\"line\":{\"color\":\"#E5ECF6\",\"width\":0.5},\"pattern\":{\"fillmode\":\"overlay\",\"size\":10,\"solidity\":0.2}},\"type\":\"barpolar\"}],\"carpet\":[{\"aaxis\":{\"endlinecolor\":\"#2a3f5f\",\"gridcolor\":\"white\",\"linecolor\":\"white\",\"minorgridcolor\":\"white\",\"startlinecolor\":\"#2a3f5f\"},\"baxis\":{\"endlinecolor\":\"#2a3f5f\",\"gridcolor\":\"white\",\"linecolor\":\"white\",\"minorgridcolor\":\"white\",\"startlinecolor\":\"#2a3f5f\"},\"type\":\"carpet\"}],\"choropleth\":[{\"colorbar\":{\"outlinewidth\":0,\"ticks\":\"\"},\"type\":\"choropleth\"}],\"contour\":[{\"colorbar\":{\"outlinewidth\":0,\"ticks\":\"\"},\"colorscale\":[[0.0,\"#0d0887\"],[0.1111111111111111,\"#46039f\"],[0.2222222222222222,\"#7201a8\"],[0.3333333333333333,\"#9c179e\"],[0.4444444444444444,\"#bd3786\"],[0.5555555555555556,\"#d8576b\"],[0.6666666666666666,\"#ed7953\"],[0.7777777777777778,\"#fb9f3a\"],[0.8888888888888888,\"#fdca26\"],[1.0,\"#f0f921\"]],\"type\":\"contour\"}],\"contourcarpet\":[{\"colorbar\":{\"outlinewidth\":0,\"ticks\":\"\"},\"type\":\"contourcarpet\"}],\"heatmap\":[{\"colorbar\":{\"outlinewidth\":0,\"ticks\":\"\"},\"colorscale\":[[0.0,\"#0d0887\"],[0.1111111111111111,\"#46039f\"],[0.2222222222222222,\"#7201a8\"],[0.3333333333333333,\"#9c179e\"],[0.4444444444444444,\"#bd3786\"],[0.5555555555555556,\"#d8576b\"],[0.6666666666666666,\"#ed7953\"],[0.7777777777777778,\"#fb9f3a\"],[0.8888888888888888,\"#fdca26\"],[1.0,\"#f0f921\"]],\"type\":\"heatmap\"}],\"heatmapgl\":[{\"colorbar\":{\"outlinewidth\":0,\"ticks\":\"\"},\"colorscale\":[[0.0,\"#0d0887\"],[0.1111111111111111,\"#46039f\"],[0.2222222222222222,\"#7201a8\"],[0.3333333333333333,\"#9c179e\"],[0.4444444444444444,\"#bd3786\"],[0.5555555555555556,\"#d8576b\"],[0.6666666666666666,\"#ed7953\"],[0.7777777777777778,\"#fb9f3a\"],[0.8888888888888888,\"#fdca26\"],[1.0,\"#f0f921\"]],\"type\":\"heatmapgl\"}],\"histogram\":[{\"marker\":{\"pattern\":{\"fillmode\":\"overlay\",\"size\":10,\"solidity\":0.2}},\"type\":\"histogram\"}],\"histogram2d\":[{\"colorbar\":{\"outlinewidth\":0,\"ticks\":\"\"},\"colorscale\":[[0.0,\"#0d0887\"],[0.1111111111111111,\"#46039f\"],[0.2222222222222222,\"#7201a8\"],[0.3333333333333333,\"#9c179e\"],[0.4444444444444444,\"#bd3786\"],[0.5555555555555556,\"#d8576b\"],[0.6666666666666666,\"#ed7953\"],[0.7777777777777778,\"#fb9f3a\"],[0.8888888888888888,\"#fdca26\"],[1.0,\"#f0f921\"]],\"type\":\"histogram2d\"}],\"histogram2dcontour\":[{\"colorbar\":{\"outlinewidth\":0,\"ticks\":\"\"},\"colorscale\":[[0.0,\"#0d0887\"],[0.1111111111111111,\"#46039f\"],[0.2222222222222222,\"#7201a8\"],[0.3333333333333333,\"#9c179e\"],[0.4444444444444444,\"#bd3786\"],[0.5555555555555556,\"#d8576b\"],[0.6666666666666666,\"#ed7953\"],[0.7777777777777778,\"#fb9f3a\"],[0.8888888888888888,\"#fdca26\"],[1.0,\"#f0f921\"]],\"type\":\"histogram2dcontour\"}],\"mesh3d\":[{\"colorbar\":{\"outlinewidth\":0,\"ticks\":\"\"},\"type\":\"mesh3d\"}],\"parcoords\":[{\"line\":{\"colorbar\":{\"outlinewidth\":0,\"ticks\":\"\"}},\"type\":\"parcoords\"}],\"pie\":[{\"automargin\":true,\"type\":\"pie\"}],\"scatter\":[{\"marker\":{\"colorbar\":{\"outlinewidth\":0,\"ticks\":\"\"}},\"type\":\"scatter\"}],\"scatter3d\":[{\"line\":{\"colorbar\":{\"outlinewidth\":0,\"ticks\":\"\"}},\"marker\":{\"colorbar\":{\"outlinewidth\":0,\"ticks\":\"\"}},\"type\":\"scatter3d\"}],\"scattercarpet\":[{\"marker\":{\"colorbar\":{\"outlinewidth\":0,\"ticks\":\"\"}},\"type\":\"scattercarpet\"}],\"scattergeo\":[{\"marker\":{\"colorbar\":{\"outlinewidth\":0,\"ticks\":\"\"}},\"type\":\"scattergeo\"}],\"scattergl\":[{\"marker\":{\"colorbar\":{\"outlinewidth\":0,\"ticks\":\"\"}},\"type\":\"scattergl\"}],\"scattermapbox\":[{\"marker\":{\"colorbar\":{\"outlinewidth\":0,\"ticks\":\"\"}},\"type\":\"scattermapbox\"}],\"scatterpolar\":[{\"marker\":{\"colorbar\":{\"outlinewidth\":0,\"ticks\":\"\"}},\"type\":\"scatterpolar\"}],\"scatterpolargl\":[{\"marker\":{\"colorbar\":{\"outlinewidth\":0,\"ticks\":\"\"}},\"type\":\"scatterpolargl\"}],\"scatterternary\":[{\"marker\":{\"colorbar\":{\"outlinewidth\":0,\"ticks\":\"\"}},\"type\":\"scatterternary\"}],\"surface\":[{\"colorbar\":{\"outlinewidth\":0,\"ticks\":\"\"},\"colorscale\":[[0.0,\"#0d0887\"],[0.1111111111111111,\"#46039f\"],[0.2222222222222222,\"#7201a8\"],[0.3333333333333333,\"#9c179e\"],[0.4444444444444444,\"#bd3786\"],[0.5555555555555556,\"#d8576b\"],[0.6666666666666666,\"#ed7953\"],[0.7777777777777778,\"#fb9f3a\"],[0.8888888888888888,\"#fdca26\"],[1.0,\"#f0f921\"]],\"type\":\"surface\"}],\"table\":[{\"cells\":{\"fill\":{\"color\":\"#EBF0F8\"},\"line\":{\"color\":\"white\"}},\"header\":{\"fill\":{\"color\":\"#C8D4E3\"},\"line\":{\"color\":\"white\"}},\"type\":\"table\"}]},\"layout\":{\"annotationdefaults\":{\"arrowcolor\":\"#2a3f5f\",\"arrowhead\":0,\"arrowwidth\":1},\"autotypenumbers\":\"strict\",\"coloraxis\":{\"colorbar\":{\"outlinewidth\":0,\"ticks\":\"\"}},\"colorscale\":{\"diverging\":[[0,\"#8e0152\"],[0.1,\"#c51b7d\"],[0.2,\"#de77ae\"],[0.3,\"#f1b6da\"],[0.4,\"#fde0ef\"],[0.5,\"#f7f7f7\"],[0.6,\"#e6f5d0\"],[0.7,\"#b8e186\"],[0.8,\"#7fbc41\"],[0.9,\"#4d9221\"],[1,\"#276419\"]],\"sequential\":[[0.0,\"#0d0887\"],[0.1111111111111111,\"#46039f\"],[0.2222222222222222,\"#7201a8\"],[0.3333333333333333,\"#9c179e\"],[0.4444444444444444,\"#bd3786\"],[0.5555555555555556,\"#d8576b\"],[0.6666666666666666,\"#ed7953\"],[0.7777777777777778,\"#fb9f3a\"],[0.8888888888888888,\"#fdca26\"],[1.0,\"#f0f921\"]],\"sequentialminus\":[[0.0,\"#0d0887\"],[0.1111111111111111,\"#46039f\"],[0.2222222222222222,\"#7201a8\"],[0.3333333333333333,\"#9c179e\"],[0.4444444444444444,\"#bd3786\"],[0.5555555555555556,\"#d8576b\"],[0.6666666666666666,\"#ed7953\"],[0.7777777777777778,\"#fb9f3a\"],[0.8888888888888888,\"#fdca26\"],[1.0,\"#f0f921\"]]},\"colorway\":[\"#636efa\",\"#EF553B\",\"#00cc96\",\"#ab63fa\",\"#FFA15A\",\"#19d3f3\",\"#FF6692\",\"#B6E880\",\"#FF97FF\",\"#FECB52\"],\"font\":{\"color\":\"#2a3f5f\"},\"geo\":{\"bgcolor\":\"white\",\"lakecolor\":\"white\",\"landcolor\":\"#E5ECF6\",\"showlakes\":true,\"showland\":true,\"subunitcolor\":\"white\"},\"hoverlabel\":{\"align\":\"left\"},\"hovermode\":\"closest\",\"mapbox\":{\"style\":\"light\"},\"paper_bgcolor\":\"white\",\"plot_bgcolor\":\"#E5ECF6\",\"polar\":{\"angularaxis\":{\"gridcolor\":\"white\",\"linecolor\":\"white\",\"ticks\":\"\"},\"bgcolor\":\"#E5ECF6\",\"radialaxis\":{\"gridcolor\":\"white\",\"linecolor\":\"white\",\"ticks\":\"\"}},\"scene\":{\"xaxis\":{\"backgroundcolor\":\"#E5ECF6\",\"gridcolor\":\"white\",\"gridwidth\":2,\"linecolor\":\"white\",\"showbackground\":true,\"ticks\":\"\",\"zerolinecolor\":\"white\"},\"yaxis\":{\"backgroundcolor\":\"#E5ECF6\",\"gridcolor\":\"white\",\"gridwidth\":2,\"linecolor\":\"white\",\"showbackground\":true,\"ticks\":\"\",\"zerolinecolor\":\"white\"},\"zaxis\":{\"backgroundcolor\":\"#E5ECF6\",\"gridcolor\":\"white\",\"gridwidth\":2,\"linecolor\":\"white\",\"showbackground\":true,\"ticks\":\"\",\"zerolinecolor\":\"white\"}},\"shapedefaults\":{\"line\":{\"color\":\"#2a3f5f\"}},\"ternary\":{\"aaxis\":{\"gridcolor\":\"white\",\"linecolor\":\"white\",\"ticks\":\"\"},\"baxis\":{\"gridcolor\":\"white\",\"linecolor\":\"white\",\"ticks\":\"\"},\"bgcolor\":\"#E5ECF6\",\"caxis\":{\"gridcolor\":\"white\",\"linecolor\":\"white\",\"ticks\":\"\"}},\"title\":{\"x\":0.05},\"xaxis\":{\"automargin\":true,\"gridcolor\":\"white\",\"linecolor\":\"white\",\"ticks\":\"\",\"title\":{\"standoff\":15},\"zerolinecolor\":\"white\",\"zerolinewidth\":2},\"yaxis\":{\"automargin\":true,\"gridcolor\":\"white\",\"linecolor\":\"white\",\"ticks\":\"\",\"title\":{\"standoff\":15},\"zerolinecolor\":\"white\",\"zerolinewidth\":2}}},\"title\":{\"text\":\"WildField : Apotome_x63           Distances (\\u00b5m) Box plot           PICT-BDD           (Update : 2022-07-05)<br><sub><b>Statistical T-Tests are carried out between a date and the date immediately preceding it</b></sub>\",\"x\":0.5},\"width\":900,\"xaxis\":{\"anchor\":\"y\",\"categoryarray\":[\"2021-06-15\",\"2021-10-15\",\"2022-03-16\",\"2022-06-15\",\"2022-07-01\"],\"categoryorder\":\"array\",\"domain\":[0.0,0.98],\"title\":{\"text\":\"Date\"}},\"xaxis2\":{\"anchor\":\"y2\",\"domain\":[0.0,0.98],\"matches\":\"x\",\"showticklabels\":false},\"xaxis3\":{\"anchor\":\"y3\",\"domain\":[0.0,0.98],\"matches\":\"x\",\"showticklabels\":false},\"xaxis4\":{\"anchor\":\"y4\",\"domain\":[0.0,0.98],\"matches\":\"x\",\"showticklabels\":false},\"xaxis5\":{\"anchor\":\"y5\",\"domain\":[0.0,0.98],\"matches\":\"x\",\"showticklabels\":false},\"xaxis6\":{\"anchor\":\"y6\",\"domain\":[0.0,0.98],\"matches\":\"x\",\"showticklabels\":false},\"yaxis\":{\"anchor\":\"x\",\"domain\":[0.0,0.14166666666666666],\"title\":{\"text\":\"Distances (\\u00b5m)\"}},\"yaxis2\":{\"anchor\":\"x2\",\"domain\":[0.17166666666666666,0.31333333333333335],\"title\":{\"text\":\"Distances (\\u00b5m)\"}},\"yaxis3\":{\"anchor\":\"x3\",\"domain\":[0.3433333333333333,0.485],\"title\":{\"text\":\"Distances (\\u00b5m)\"}},\"yaxis4\":{\"anchor\":\"x4\",\"domain\":[0.515,0.6566666666666667],\"title\":{\"text\":\"Distances (\\u00b5m)\"}},\"yaxis5\":{\"anchor\":\"x5\",\"domain\":[0.6866666666666666,0.8283333333333334],\"title\":{\"text\":\"Distances (\\u00b5m)\"}},\"yaxis6\":{\"anchor\":\"x6\",\"domain\":[0.8583333333333333,1.0],\"title\":{\"text\":\"Distances (\\u00b5m)\"}}},                        {\"responsive\": true}                    ).then(function(){\n",
       "                            \n",
       "var gd = document.getElementById('fec91f8d-f4ce-4426-9c76-52038888d3f9');\n",
       "var x = new MutationObserver(function (mutations, observer) {{\n",
       "        var display = window.getComputedStyle(gd).display;\n",
       "        if (!display || display === 'none') {{\n",
       "            console.log([gd, 'removed!']);\n",
       "            Plotly.purge(gd);\n",
       "            observer.disconnect();\n",
       "        }}\n",
       "}});\n",
       "\n",
       "// Listen for the removal of the full notebook cells\n",
       "var notebookContainer = gd.closest('#notebook-container');\n",
       "if (notebookContainer) {{\n",
       "    x.observe(notebookContainer, {childList: true});\n",
       "}}\n",
       "\n",
       "// Listen for the clearing of the current output cell\n",
       "var outputEl = gd.closest('.output');\n",
       "if (outputEl) {{\n",
       "    x.observe(outputEl, {childList: true});\n",
       "}}\n",
       "\n",
       "                        })                };                });            </script>        </div>"
      ]
     },
     "metadata": {},
     "output_type": "display_data"
    },
    {
     "name": "stdout",
     "output_type": "stream",
     "text": [
      "\n",
      "\n"
     ]
    },
    {
     "data": {
      "application/vnd.plotly.v1+json": {
       "config": {
        "plotlyServerURL": "https://plot.ly"
       },
       "data": [
        {
         "alignmentgroup": "True",
         "boxpoints": "outliers",
         "hovertemplate": "Date=%{x}<br>Combination=Channel 0 vs channel1<br>Ratios=%{y}<extra></extra>",
         "legendgroup": "2021-06-15 (n = 4)",
         "marker": {
          "color": "#636efa"
         },
         "name": "2021-06-15 (n = 4)",
         "notched": false,
         "offsetgroup": "2021-06-15",
         "orientation": "v",
         "showlegend": true,
         "type": "box",
         "x": [
          "2021-06-15",
          "2021-06-15",
          "2021-06-15",
          "2021-06-15"
         ],
         "x0": " ",
         "xaxis": "x6",
         "y": [
          0.47,
          0.241,
          0.47,
          0.297
         ],
         "y0": " ",
         "yaxis": "y6"
        },
        {
         "alignmentgroup": "True",
         "boxpoints": "outliers",
         "hovertemplate": "Date=%{x}<br>Combination=Channel 0 vs channel2<br>Ratios=%{y}<extra></extra>",
         "legendgroup": "2021-06-15 (n = 4)",
         "marker": {
          "color": "#636efa"
         },
         "name": "2021-06-15 (n = 4)",
         "notched": false,
         "offsetgroup": "2021-06-15",
         "orientation": "v",
         "showlegend": false,
         "type": "box",
         "x": [
          "2021-06-15",
          "2021-06-15",
          "2021-06-15",
          "2021-06-15"
         ],
         "x0": " ",
         "xaxis": "x5",
         "y": [
          0.21,
          1.31,
          0.21,
          0.21
         ],
         "y0": " ",
         "yaxis": "y5"
        },
        {
         "alignmentgroup": "True",
         "boxpoints": "outliers",
         "hovertemplate": "Date=%{x}<br>Combination=Channel 0 vs channel3<br>Ratios=%{y}<extra></extra>",
         "legendgroup": "2021-06-15 (n = 4)",
         "marker": {
          "color": "#636efa"
         },
         "name": "2021-06-15 (n = 4)",
         "notched": false,
         "offsetgroup": "2021-06-15",
         "orientation": "v",
         "showlegend": false,
         "type": "box",
         "x": [
          "2021-06-15",
          "2021-06-15",
          "2021-06-15",
          "2021-06-15"
         ],
         "x0": " ",
         "xaxis": "x4",
         "y": [
          0.421,
          1.333,
          0.47,
          0.421
         ],
         "y0": " ",
         "yaxis": "y4"
        },
        {
         "alignmentgroup": "True",
         "boxpoints": "outliers",
         "hovertemplate": "Date=%{x}<br>Combination=Channel 1 vs channel2<br>Ratios=%{y}<extra></extra>",
         "legendgroup": "2021-06-15 (n = 4)",
         "marker": {
          "color": "#636efa"
         },
         "name": "2021-06-15 (n = 4)",
         "notched": false,
         "offsetgroup": "2021-06-15",
         "orientation": "v",
         "showlegend": false,
         "type": "box",
         "x": [
          "2021-06-15",
          "2021-06-15",
          "2021-06-15",
          "2021-06-15"
         ],
         "x0": " ",
         "xaxis": "x3",
         "y": [
          0.297,
          1.214,
          0.421,
          0.21
         ],
         "y0": " ",
         "yaxis": "y3"
        },
        {
         "alignmentgroup": "True",
         "boxpoints": "outliers",
         "hovertemplate": "Date=%{x}<br>Combination=Channel 1 vs channel3<br>Ratios=%{y}<extra></extra>",
         "legendgroup": "2021-06-15 (n = 4)",
         "marker": {
          "color": "#636efa"
         },
         "name": "2021-06-15 (n = 4)",
         "notched": false,
         "offsetgroup": "2021-06-15",
         "orientation": "v",
         "showlegend": false,
         "type": "box",
         "x": [
          "2021-06-15",
          "2021-06-15",
          "2021-06-15",
          "2021-06-15"
         ],
         "x0": " ",
         "xaxis": "x2",
         "y": [
          0.867,
          1.244,
          0.665,
          0.665
         ],
         "y0": " ",
         "yaxis": "y2"
        },
        {
         "alignmentgroup": "True",
         "boxpoints": "outliers",
         "hovertemplate": "Date=%{x}<br>Combination=Channel 2 vs channel3<br>Ratios=%{y}<extra></extra>",
         "legendgroup": "2021-06-15 (n = 4)",
         "marker": {
          "color": "#636efa"
         },
         "name": "2021-06-15 (n = 4)",
         "notched": false,
         "offsetgroup": "2021-06-15",
         "orientation": "v",
         "showlegend": false,
         "type": "box",
         "x": [
          "2021-06-15",
          "2021-06-15",
          "2021-06-15",
          "2021-06-15"
         ],
         "x0": " ",
         "xaxis": "x",
         "y": [
          0.631,
          0.665,
          0.665,
          0.631
         ],
         "y0": " ",
         "yaxis": "y"
        },
        {
         "alignmentgroup": "True",
         "boxpoints": "outliers",
         "hovertemplate": "Date=%{x}<br>Combination=Channel 0 vs channel1<br>Ratios=%{y}<extra></extra>",
         "legendgroup": "2021-10-15 (n = 4)",
         "marker": {
          "color": "#EF553B"
         },
         "name": "2021-10-15 (n = 4)",
         "notched": false,
         "offsetgroup": "2021-10-15",
         "orientation": "v",
         "showlegend": true,
         "type": "box",
         "x": [
          "2021-10-15",
          "2021-10-15",
          "2021-10-15",
          "2021-10-15"
         ],
         "x0": " ",
         "xaxis": "x6",
         "y": [
          0.47,
          0.241,
          0.47,
          0.297
         ],
         "y0": " ",
         "yaxis": "y6"
        },
        {
         "alignmentgroup": "True",
         "boxpoints": "outliers",
         "hovertemplate": "Date=%{x}<br>Combination=Channel 0 vs channel2<br>Ratios=%{y}<extra></extra>",
         "legendgroup": "2021-10-15 (n = 4)",
         "marker": {
          "color": "#EF553B"
         },
         "name": "2021-10-15 (n = 4)",
         "notched": false,
         "offsetgroup": "2021-10-15",
         "orientation": "v",
         "showlegend": false,
         "type": "box",
         "x": [
          "2021-10-15",
          "2021-10-15",
          "2021-10-15",
          "2021-10-15"
         ],
         "x0": " ",
         "xaxis": "x5",
         "y": [
          0.21,
          1.31,
          0.21,
          0.21
         ],
         "y0": " ",
         "yaxis": "y5"
        },
        {
         "alignmentgroup": "True",
         "boxpoints": "outliers",
         "hovertemplate": "Date=%{x}<br>Combination=Channel 0 vs channel3<br>Ratios=%{y}<extra></extra>",
         "legendgroup": "2021-10-15 (n = 4)",
         "marker": {
          "color": "#EF553B"
         },
         "name": "2021-10-15 (n = 4)",
         "notched": false,
         "offsetgroup": "2021-10-15",
         "orientation": "v",
         "showlegend": false,
         "type": "box",
         "x": [
          "2021-10-15",
          "2021-10-15",
          "2021-10-15",
          "2021-10-15"
         ],
         "x0": " ",
         "xaxis": "x4",
         "y": [
          0.421,
          1.333,
          0.47,
          0.421
         ],
         "y0": " ",
         "yaxis": "y4"
        },
        {
         "alignmentgroup": "True",
         "boxpoints": "outliers",
         "hovertemplate": "Date=%{x}<br>Combination=Channel 1 vs channel2<br>Ratios=%{y}<extra></extra>",
         "legendgroup": "2021-10-15 (n = 4)",
         "marker": {
          "color": "#EF553B"
         },
         "name": "2021-10-15 (n = 4)",
         "notched": false,
         "offsetgroup": "2021-10-15",
         "orientation": "v",
         "showlegend": false,
         "type": "box",
         "x": [
          "2021-10-15",
          "2021-10-15",
          "2021-10-15",
          "2021-10-15"
         ],
         "x0": " ",
         "xaxis": "x3",
         "y": [
          0.297,
          1.214,
          0.421,
          0.21
         ],
         "y0": " ",
         "yaxis": "y3"
        },
        {
         "alignmentgroup": "True",
         "boxpoints": "outliers",
         "hovertemplate": "Date=%{x}<br>Combination=Channel 1 vs channel3<br>Ratios=%{y}<extra></extra>",
         "legendgroup": "2021-10-15 (n = 4)",
         "marker": {
          "color": "#EF553B"
         },
         "name": "2021-10-15 (n = 4)",
         "notched": false,
         "offsetgroup": "2021-10-15",
         "orientation": "v",
         "showlegend": false,
         "type": "box",
         "x": [
          "2021-10-15",
          "2021-10-15",
          "2021-10-15",
          "2021-10-15"
         ],
         "x0": " ",
         "xaxis": "x2",
         "y": [
          0.867,
          1.244,
          0.665,
          0.665
         ],
         "y0": " ",
         "yaxis": "y2"
        },
        {
         "alignmentgroup": "True",
         "boxpoints": "outliers",
         "hovertemplate": "Date=%{x}<br>Combination=Channel 2 vs channel3<br>Ratios=%{y}<extra></extra>",
         "legendgroup": "2021-10-15 (n = 4)",
         "marker": {
          "color": "#EF553B"
         },
         "name": "2021-10-15 (n = 4)",
         "notched": false,
         "offsetgroup": "2021-10-15",
         "orientation": "v",
         "showlegend": false,
         "type": "box",
         "x": [
          "2021-10-15",
          "2021-10-15",
          "2021-10-15",
          "2021-10-15"
         ],
         "x0": " ",
         "xaxis": "x",
         "y": [
          0.631,
          0.665,
          0.665,
          0.631
         ],
         "y0": " ",
         "yaxis": "y"
        },
        {
         "alignmentgroup": "True",
         "boxpoints": "outliers",
         "hovertemplate": "Date=%{x}<br>Combination=Channel 0 vs channel1<br>Ratios=%{y}<extra></extra>",
         "legendgroup": "2022-03-16 (n = 4)",
         "marker": {
          "color": "#00cc96"
         },
         "name": "2022-03-16 (n = 4)",
         "notched": false,
         "offsetgroup": "2022-03-16",
         "orientation": "v",
         "showlegend": true,
         "type": "box",
         "x": [
          "2022-03-16",
          "2022-03-16",
          "2022-03-16",
          "2022-03-16"
         ],
         "x0": " ",
         "xaxis": "x6",
         "y": [
          0.47,
          0.241,
          0.47,
          0.297
         ],
         "y0": " ",
         "yaxis": "y6"
        },
        {
         "alignmentgroup": "True",
         "boxpoints": "outliers",
         "hovertemplate": "Date=%{x}<br>Combination=Channel 0 vs channel2<br>Ratios=%{y}<extra></extra>",
         "legendgroup": "2022-03-16 (n = 4)",
         "marker": {
          "color": "#00cc96"
         },
         "name": "2022-03-16 (n = 4)",
         "notched": false,
         "offsetgroup": "2022-03-16",
         "orientation": "v",
         "showlegend": false,
         "type": "box",
         "x": [
          "2022-03-16",
          "2022-03-16",
          "2022-03-16",
          "2022-03-16"
         ],
         "x0": " ",
         "xaxis": "x5",
         "y": [
          0.21,
          1.31,
          0.21,
          0.21
         ],
         "y0": " ",
         "yaxis": "y5"
        },
        {
         "alignmentgroup": "True",
         "boxpoints": "outliers",
         "hovertemplate": "Date=%{x}<br>Combination=Channel 0 vs channel3<br>Ratios=%{y}<extra></extra>",
         "legendgroup": "2022-03-16 (n = 4)",
         "marker": {
          "color": "#00cc96"
         },
         "name": "2022-03-16 (n = 4)",
         "notched": false,
         "offsetgroup": "2022-03-16",
         "orientation": "v",
         "showlegend": false,
         "type": "box",
         "x": [
          "2022-03-16",
          "2022-03-16",
          "2022-03-16",
          "2022-03-16"
         ],
         "x0": " ",
         "xaxis": "x4",
         "y": [
          0.421,
          1.333,
          0.47,
          0.421
         ],
         "y0": " ",
         "yaxis": "y4"
        },
        {
         "alignmentgroup": "True",
         "boxpoints": "outliers",
         "hovertemplate": "Date=%{x}<br>Combination=Channel 1 vs channel2<br>Ratios=%{y}<extra></extra>",
         "legendgroup": "2022-03-16 (n = 4)",
         "marker": {
          "color": "#00cc96"
         },
         "name": "2022-03-16 (n = 4)",
         "notched": false,
         "offsetgroup": "2022-03-16",
         "orientation": "v",
         "showlegend": false,
         "type": "box",
         "x": [
          "2022-03-16",
          "2022-03-16",
          "2022-03-16",
          "2022-03-16"
         ],
         "x0": " ",
         "xaxis": "x3",
         "y": [
          0.297,
          1.214,
          0.421,
          0.21
         ],
         "y0": " ",
         "yaxis": "y3"
        },
        {
         "alignmentgroup": "True",
         "boxpoints": "outliers",
         "hovertemplate": "Date=%{x}<br>Combination=Channel 1 vs channel3<br>Ratios=%{y}<extra></extra>",
         "legendgroup": "2022-03-16 (n = 4)",
         "marker": {
          "color": "#00cc96"
         },
         "name": "2022-03-16 (n = 4)",
         "notched": false,
         "offsetgroup": "2022-03-16",
         "orientation": "v",
         "showlegend": false,
         "type": "box",
         "x": [
          "2022-03-16",
          "2022-03-16",
          "2022-03-16",
          "2022-03-16"
         ],
         "x0": " ",
         "xaxis": "x2",
         "y": [
          0.867,
          1.244,
          0.665,
          0.665
         ],
         "y0": " ",
         "yaxis": "y2"
        },
        {
         "alignmentgroup": "True",
         "boxpoints": "outliers",
         "hovertemplate": "Date=%{x}<br>Combination=Channel 2 vs channel3<br>Ratios=%{y}<extra></extra>",
         "legendgroup": "2022-03-16 (n = 4)",
         "marker": {
          "color": "#00cc96"
         },
         "name": "2022-03-16 (n = 4)",
         "notched": false,
         "offsetgroup": "2022-03-16",
         "orientation": "v",
         "showlegend": false,
         "type": "box",
         "x": [
          "2022-03-16",
          "2022-03-16",
          "2022-03-16",
          "2022-03-16"
         ],
         "x0": " ",
         "xaxis": "x",
         "y": [
          0.631,
          0.665,
          0.665,
          0.631
         ],
         "y0": " ",
         "yaxis": "y"
        },
        {
         "alignmentgroup": "True",
         "boxpoints": "outliers",
         "hovertemplate": "Date=%{x}<br>Combination=Channel 0 vs channel1<br>Ratios=%{y}<extra></extra>",
         "legendgroup": "2022-06-15 (n = 4)",
         "marker": {
          "color": "#ab63fa"
         },
         "name": "2022-06-15 (n = 4)",
         "notched": false,
         "offsetgroup": "2022-06-15",
         "orientation": "v",
         "showlegend": true,
         "type": "box",
         "x": [
          "2022-06-15",
          "2022-06-15",
          "2022-06-15",
          "2022-06-15"
         ],
         "x0": " ",
         "xaxis": "x6",
         "y": [
          0.47,
          0.241,
          0.47,
          0.297
         ],
         "y0": " ",
         "yaxis": "y6"
        },
        {
         "alignmentgroup": "True",
         "boxpoints": "outliers",
         "hovertemplate": "Date=%{x}<br>Combination=Channel 0 vs channel2<br>Ratios=%{y}<extra></extra>",
         "legendgroup": "2022-06-15 (n = 4)",
         "marker": {
          "color": "#ab63fa"
         },
         "name": "2022-06-15 (n = 4)",
         "notched": false,
         "offsetgroup": "2022-06-15",
         "orientation": "v",
         "showlegend": false,
         "type": "box",
         "x": [
          "2022-06-15",
          "2022-06-15",
          "2022-06-15",
          "2022-06-15"
         ],
         "x0": " ",
         "xaxis": "x5",
         "y": [
          0.21,
          1.31,
          0.21,
          0.21
         ],
         "y0": " ",
         "yaxis": "y5"
        },
        {
         "alignmentgroup": "True",
         "boxpoints": "outliers",
         "hovertemplate": "Date=%{x}<br>Combination=Channel 0 vs channel3<br>Ratios=%{y}<extra></extra>",
         "legendgroup": "2022-06-15 (n = 4)",
         "marker": {
          "color": "#ab63fa"
         },
         "name": "2022-06-15 (n = 4)",
         "notched": false,
         "offsetgroup": "2022-06-15",
         "orientation": "v",
         "showlegend": false,
         "type": "box",
         "x": [
          "2022-06-15",
          "2022-06-15",
          "2022-06-15",
          "2022-06-15"
         ],
         "x0": " ",
         "xaxis": "x4",
         "y": [
          0.421,
          1.333,
          0.47,
          0.421
         ],
         "y0": " ",
         "yaxis": "y4"
        },
        {
         "alignmentgroup": "True",
         "boxpoints": "outliers",
         "hovertemplate": "Date=%{x}<br>Combination=Channel 1 vs channel2<br>Ratios=%{y}<extra></extra>",
         "legendgroup": "2022-06-15 (n = 4)",
         "marker": {
          "color": "#ab63fa"
         },
         "name": "2022-06-15 (n = 4)",
         "notched": false,
         "offsetgroup": "2022-06-15",
         "orientation": "v",
         "showlegend": false,
         "type": "box",
         "x": [
          "2022-06-15",
          "2022-06-15",
          "2022-06-15",
          "2022-06-15"
         ],
         "x0": " ",
         "xaxis": "x3",
         "y": [
          0.297,
          1.214,
          0.421,
          0.21
         ],
         "y0": " ",
         "yaxis": "y3"
        },
        {
         "alignmentgroup": "True",
         "boxpoints": "outliers",
         "hovertemplate": "Date=%{x}<br>Combination=Channel 1 vs channel3<br>Ratios=%{y}<extra></extra>",
         "legendgroup": "2022-06-15 (n = 4)",
         "marker": {
          "color": "#ab63fa"
         },
         "name": "2022-06-15 (n = 4)",
         "notched": false,
         "offsetgroup": "2022-06-15",
         "orientation": "v",
         "showlegend": false,
         "type": "box",
         "x": [
          "2022-06-15",
          "2022-06-15",
          "2022-06-15",
          "2022-06-15"
         ],
         "x0": " ",
         "xaxis": "x2",
         "y": [
          0.867,
          1.244,
          0.665,
          0.665
         ],
         "y0": " ",
         "yaxis": "y2"
        },
        {
         "alignmentgroup": "True",
         "boxpoints": "outliers",
         "hovertemplate": "Date=%{x}<br>Combination=Channel 2 vs channel3<br>Ratios=%{y}<extra></extra>",
         "legendgroup": "2022-06-15 (n = 4)",
         "marker": {
          "color": "#ab63fa"
         },
         "name": "2022-06-15 (n = 4)",
         "notched": false,
         "offsetgroup": "2022-06-15",
         "orientation": "v",
         "showlegend": false,
         "type": "box",
         "x": [
          "2022-06-15",
          "2022-06-15",
          "2022-06-15",
          "2022-06-15"
         ],
         "x0": " ",
         "xaxis": "x",
         "y": [
          0.631,
          0.665,
          0.665,
          0.631
         ],
         "y0": " ",
         "yaxis": "y"
        },
        {
         "alignmentgroup": "True",
         "boxpoints": "outliers",
         "hovertemplate": "Date=%{x}<br>Combination=Channel 0 vs channel1<br>Ratios=%{y}<extra></extra>",
         "legendgroup": "2022-07-01 (n = 4)",
         "marker": {
          "color": "#FFA15A"
         },
         "name": "2022-07-01 (n = 4)",
         "notched": false,
         "offsetgroup": "2022-07-01",
         "orientation": "v",
         "showlegend": true,
         "type": "box",
         "x": [
          "2022-07-01",
          "2022-07-01",
          "2022-07-01",
          "2022-07-01"
         ],
         "x0": " ",
         "xaxis": "x6",
         "y": [
          0.47,
          0.241,
          0.47,
          0.297
         ],
         "y0": " ",
         "yaxis": "y6"
        },
        {
         "alignmentgroup": "True",
         "boxpoints": "outliers",
         "hovertemplate": "Date=%{x}<br>Combination=Channel 0 vs channel2<br>Ratios=%{y}<extra></extra>",
         "legendgroup": "2022-07-01 (n = 4)",
         "marker": {
          "color": "#FFA15A"
         },
         "name": "2022-07-01 (n = 4)",
         "notched": false,
         "offsetgroup": "2022-07-01",
         "orientation": "v",
         "showlegend": false,
         "type": "box",
         "x": [
          "2022-07-01",
          "2022-07-01",
          "2022-07-01",
          "2022-07-01"
         ],
         "x0": " ",
         "xaxis": "x5",
         "y": [
          0.21,
          1.31,
          0.21,
          0.21
         ],
         "y0": " ",
         "yaxis": "y5"
        },
        {
         "alignmentgroup": "True",
         "boxpoints": "outliers",
         "hovertemplate": "Date=%{x}<br>Combination=Channel 0 vs channel3<br>Ratios=%{y}<extra></extra>",
         "legendgroup": "2022-07-01 (n = 4)",
         "marker": {
          "color": "#FFA15A"
         },
         "name": "2022-07-01 (n = 4)",
         "notched": false,
         "offsetgroup": "2022-07-01",
         "orientation": "v",
         "showlegend": false,
         "type": "box",
         "x": [
          "2022-07-01",
          "2022-07-01",
          "2022-07-01",
          "2022-07-01"
         ],
         "x0": " ",
         "xaxis": "x4",
         "y": [
          0.421,
          1.333,
          0.47,
          0.421
         ],
         "y0": " ",
         "yaxis": "y4"
        },
        {
         "alignmentgroup": "True",
         "boxpoints": "outliers",
         "hovertemplate": "Date=%{x}<br>Combination=Channel 1 vs channel2<br>Ratios=%{y}<extra></extra>",
         "legendgroup": "2022-07-01 (n = 4)",
         "marker": {
          "color": "#FFA15A"
         },
         "name": "2022-07-01 (n = 4)",
         "notched": false,
         "offsetgroup": "2022-07-01",
         "orientation": "v",
         "showlegend": false,
         "type": "box",
         "x": [
          "2022-07-01",
          "2022-07-01",
          "2022-07-01",
          "2022-07-01"
         ],
         "x0": " ",
         "xaxis": "x3",
         "y": [
          0.297,
          1.214,
          0.421,
          0.21
         ],
         "y0": " ",
         "yaxis": "y3"
        },
        {
         "alignmentgroup": "True",
         "boxpoints": "outliers",
         "hovertemplate": "Date=%{x}<br>Combination=Channel 1 vs channel3<br>Ratios=%{y}<extra></extra>",
         "legendgroup": "2022-07-01 (n = 4)",
         "marker": {
          "color": "#FFA15A"
         },
         "name": "2022-07-01 (n = 4)",
         "notched": false,
         "offsetgroup": "2022-07-01",
         "orientation": "v",
         "showlegend": false,
         "type": "box",
         "x": [
          "2022-07-01",
          "2022-07-01",
          "2022-07-01",
          "2022-07-01"
         ],
         "x0": " ",
         "xaxis": "x2",
         "y": [
          0.867,
          1.244,
          0.665,
          0.665
         ],
         "y0": " ",
         "yaxis": "y2"
        },
        {
         "alignmentgroup": "True",
         "boxpoints": "outliers",
         "hovertemplate": "Date=%{x}<br>Combination=Channel 2 vs channel3<br>Ratios=%{y}<extra></extra>",
         "legendgroup": "2022-07-01 (n = 4)",
         "marker": {
          "color": "#FFA15A"
         },
         "name": "2022-07-01 (n = 4)",
         "notched": false,
         "offsetgroup": "2022-07-01",
         "orientation": "v",
         "showlegend": false,
         "type": "box",
         "x": [
          "2022-07-01",
          "2022-07-01",
          "2022-07-01",
          "2022-07-01"
         ],
         "x0": " ",
         "xaxis": "x",
         "y": [
          0.631,
          0.665,
          0.665,
          0.631
         ],
         "y0": " ",
         "yaxis": "y"
        },
        {
         "line": {
          "color": "#000000"
         },
         "mode": "lines+markers",
         "showlegend": false,
         "type": "scatter",
         "x": [
          "2021-06-15",
          "2021-10-15",
          "2022-03-16",
          "2022-06-15",
          "2022-07-01"
         ],
         "xaxis": "x6",
         "y": [
          0.38349999999999995,
          0.38349999999999995,
          0.38349999999999995,
          0.38349999999999995,
          0.38349999999999995
         ],
         "yaxis": "y6"
        },
        {
         "line": {
          "color": "#000000"
         },
         "mode": "lines+markers",
         "showlegend": false,
         "type": "scatter",
         "x": [
          "2021-06-15",
          "2021-10-15",
          "2022-03-16",
          "2022-06-15",
          "2022-07-01"
         ],
         "xaxis": "x5",
         "y": [
          0.21,
          0.21,
          0.21,
          0.21,
          0.21
         ],
         "yaxis": "y5"
        },
        {
         "line": {
          "color": "#000000"
         },
         "mode": "lines+markers",
         "showlegend": false,
         "type": "scatter",
         "x": [
          "2021-06-15",
          "2021-10-15",
          "2022-03-16",
          "2022-06-15",
          "2022-07-01"
         ],
         "xaxis": "x4",
         "y": [
          0.4455,
          0.4455,
          0.4455,
          0.4455,
          0.4455
         ],
         "yaxis": "y4"
        },
        {
         "line": {
          "color": "#000000"
         },
         "mode": "lines+markers",
         "showlegend": false,
         "type": "scatter",
         "x": [
          "2021-06-15",
          "2021-10-15",
          "2022-03-16",
          "2022-06-15",
          "2022-07-01"
         ],
         "xaxis": "x3",
         "y": [
          0.359,
          0.359,
          0.359,
          0.359,
          0.359
         ],
         "yaxis": "y3"
        },
        {
         "line": {
          "color": "#000000"
         },
         "mode": "lines+markers",
         "showlegend": false,
         "type": "scatter",
         "x": [
          "2021-06-15",
          "2021-10-15",
          "2022-03-16",
          "2022-06-15",
          "2022-07-01"
         ],
         "xaxis": "x2",
         "y": [
          0.766,
          0.766,
          0.766,
          0.766,
          0.766
         ],
         "yaxis": "y2"
        },
        {
         "line": {
          "color": "#000000"
         },
         "mode": "lines+markers",
         "showlegend": false,
         "type": "scatter",
         "x": [
          "2021-06-15",
          "2021-10-15",
          "2022-03-16",
          "2022-06-15",
          "2022-07-01"
         ],
         "xaxis": "x",
         "y": [
          0.648,
          0.648,
          0.648,
          0.648,
          0.648
         ],
         "yaxis": "y"
        }
       ],
       "layout": {
        "annotations": [
         {
          "showarrow": false,
          "text": "Combination=Channel 2 vs channel3",
          "textangle": 90,
          "x": 0.98,
          "xanchor": "left",
          "xref": "paper",
          "y": 0.07083333333333333,
          "yanchor": "middle",
          "yref": "paper"
         },
         {
          "showarrow": false,
          "text": "Combination=Channel 1 vs channel3",
          "textangle": 90,
          "x": 0.98,
          "xanchor": "left",
          "xref": "paper",
          "y": 0.2425,
          "yanchor": "middle",
          "yref": "paper"
         },
         {
          "showarrow": false,
          "text": "Combination=Channel 1 vs channel2",
          "textangle": 90,
          "x": 0.98,
          "xanchor": "left",
          "xref": "paper",
          "y": 0.4141666666666667,
          "yanchor": "middle",
          "yref": "paper"
         },
         {
          "showarrow": false,
          "text": "Combination=Channel 0 vs channel3",
          "textangle": 90,
          "x": 0.98,
          "xanchor": "left",
          "xref": "paper",
          "y": 0.5858333333333334,
          "yanchor": "middle",
          "yref": "paper"
         },
         {
          "showarrow": false,
          "text": "Combination=Channel 0 vs channel2",
          "textangle": 90,
          "x": 0.98,
          "xanchor": "left",
          "xref": "paper",
          "y": 0.7575000000000001,
          "yanchor": "middle",
          "yref": "paper"
         },
         {
          "showarrow": false,
          "text": "Combination=Channel 0 vs channel1",
          "textangle": 90,
          "x": 0.98,
          "xanchor": "left",
          "xref": "paper",
          "y": 0.9291666666666667,
          "yanchor": "middle",
          "yref": "paper"
         },
         {
          "arrowhead": 1,
          "font": {
           "size": 30
          },
          "showarrow": false,
          "text": "<sup><sup><b>ns</b></sup></sup>",
          "x": "2021-10-15",
          "xref": "x",
          "y": 0.47,
          "yref": "y6"
         },
         {
          "arrowhead": 1,
          "font": {
           "size": 30
          },
          "showarrow": false,
          "text": "<sup><sup><b>ns</b></sup></sup>",
          "x": "2022-03-16",
          "xref": "x",
          "y": 0.47,
          "yref": "y6"
         },
         {
          "arrowhead": 1,
          "font": {
           "size": 30
          },
          "showarrow": false,
          "text": "<sup><sup><b>ns</b></sup></sup>",
          "x": "2022-06-15",
          "xref": "x",
          "y": 0.47,
          "yref": "y6"
         },
         {
          "arrowhead": 1,
          "font": {
           "size": 30
          },
          "showarrow": false,
          "text": "<sup><sup><b>ns</b></sup></sup>",
          "x": "2022-07-01",
          "xref": "x",
          "y": 0.47,
          "yref": "y6"
         },
         {
          "arrowhead": 1,
          "font": {
           "size": 30
          },
          "showarrow": false,
          "text": "<sup><sup><b>ns</b></sup></sup>",
          "x": "2021-10-15",
          "xref": "x",
          "y": 1.31,
          "yref": "y5"
         },
         {
          "arrowhead": 1,
          "font": {
           "size": 30
          },
          "showarrow": false,
          "text": "<sup><sup><b>ns</b></sup></sup>",
          "x": "2022-03-16",
          "xref": "x",
          "y": 1.31,
          "yref": "y5"
         },
         {
          "arrowhead": 1,
          "font": {
           "size": 30
          },
          "showarrow": false,
          "text": "<sup><sup><b>ns</b></sup></sup>",
          "x": "2022-06-15",
          "xref": "x",
          "y": 1.31,
          "yref": "y5"
         },
         {
          "arrowhead": 1,
          "font": {
           "size": 30
          },
          "showarrow": false,
          "text": "<sup><sup><b>ns</b></sup></sup>",
          "x": "2022-07-01",
          "xref": "x",
          "y": 1.31,
          "yref": "y5"
         },
         {
          "arrowhead": 1,
          "font": {
           "size": 30
          },
          "showarrow": false,
          "text": "<sup><sup><b>ns</b></sup></sup>",
          "x": "2021-10-15",
          "xref": "x",
          "y": 1.333,
          "yref": "y4"
         },
         {
          "arrowhead": 1,
          "font": {
           "size": 30
          },
          "showarrow": false,
          "text": "<sup><sup><b>ns</b></sup></sup>",
          "x": "2022-03-16",
          "xref": "x",
          "y": 1.333,
          "yref": "y4"
         },
         {
          "arrowhead": 1,
          "font": {
           "size": 30
          },
          "showarrow": false,
          "text": "<sup><sup><b>ns</b></sup></sup>",
          "x": "2022-06-15",
          "xref": "x",
          "y": 1.333,
          "yref": "y4"
         },
         {
          "arrowhead": 1,
          "font": {
           "size": 30
          },
          "showarrow": false,
          "text": "<sup><sup><b>ns</b></sup></sup>",
          "x": "2022-07-01",
          "xref": "x",
          "y": 1.333,
          "yref": "y4"
         },
         {
          "arrowhead": 1,
          "font": {
           "size": 30
          },
          "showarrow": false,
          "text": "<sup><sup><b>ns</b></sup></sup>",
          "x": "2021-10-15",
          "xref": "x",
          "y": 1.214,
          "yref": "y3"
         },
         {
          "arrowhead": 1,
          "font": {
           "size": 30
          },
          "showarrow": false,
          "text": "<sup><sup><b>ns</b></sup></sup>",
          "x": "2022-03-16",
          "xref": "x",
          "y": 1.214,
          "yref": "y3"
         },
         {
          "arrowhead": 1,
          "font": {
           "size": 30
          },
          "showarrow": false,
          "text": "<sup><sup><b>ns</b></sup></sup>",
          "x": "2022-06-15",
          "xref": "x",
          "y": 1.214,
          "yref": "y3"
         },
         {
          "arrowhead": 1,
          "font": {
           "size": 30
          },
          "showarrow": false,
          "text": "<sup><sup><b>ns</b></sup></sup>",
          "x": "2022-07-01",
          "xref": "x",
          "y": 1.214,
          "yref": "y3"
         },
         {
          "arrowhead": 1,
          "font": {
           "size": 30
          },
          "showarrow": false,
          "text": "<sup><sup><b>ns</b></sup></sup>",
          "x": "2021-10-15",
          "xref": "x",
          "y": 1.244,
          "yref": "y2"
         },
         {
          "arrowhead": 1,
          "font": {
           "size": 30
          },
          "showarrow": false,
          "text": "<sup><sup><b>ns</b></sup></sup>",
          "x": "2022-03-16",
          "xref": "x",
          "y": 1.244,
          "yref": "y2"
         },
         {
          "arrowhead": 1,
          "font": {
           "size": 30
          },
          "showarrow": false,
          "text": "<sup><sup><b>ns</b></sup></sup>",
          "x": "2022-06-15",
          "xref": "x",
          "y": 1.244,
          "yref": "y2"
         },
         {
          "arrowhead": 1,
          "font": {
           "size": 30
          },
          "showarrow": false,
          "text": "<sup><sup><b>ns</b></sup></sup>",
          "x": "2022-07-01",
          "xref": "x",
          "y": 1.244,
          "yref": "y2"
         },
         {
          "arrowhead": 1,
          "font": {
           "size": 30
          },
          "showarrow": false,
          "text": "<sup><sup><b>ns</b></sup></sup>",
          "x": "2021-10-15",
          "xref": "x",
          "y": 0.665,
          "yref": "y"
         },
         {
          "arrowhead": 1,
          "font": {
           "size": 30
          },
          "showarrow": false,
          "text": "<sup><sup><b>ns</b></sup></sup>",
          "x": "2022-03-16",
          "xref": "x",
          "y": 0.665,
          "yref": "y"
         },
         {
          "arrowhead": 1,
          "font": {
           "size": 30
          },
          "showarrow": false,
          "text": "<sup><sup><b>ns</b></sup></sup>",
          "x": "2022-06-15",
          "xref": "x",
          "y": 0.665,
          "yref": "y"
         },
         {
          "arrowhead": 1,
          "font": {
           "size": 30
          },
          "showarrow": false,
          "text": "<sup><sup><b>ns</b></sup></sup>",
          "x": "2022-07-01",
          "xref": "x",
          "y": 0.665,
          "yref": "y"
         }
        ],
        "boxmode": "overlay",
        "height": 2000,
        "legend": {
         "title": {
          "text": "Date"
         },
         "tracegroupgap": 0
        },
        "showlegend": true,
        "template": {
         "data": {
          "bar": [
           {
            "error_x": {
             "color": "#2a3f5f"
            },
            "error_y": {
             "color": "#2a3f5f"
            },
            "marker": {
             "line": {
              "color": "#E5ECF6",
              "width": 0.5
             },
             "pattern": {
              "fillmode": "overlay",
              "size": 10,
              "solidity": 0.2
             }
            },
            "type": "bar"
           }
          ],
          "barpolar": [
           {
            "marker": {
             "line": {
              "color": "#E5ECF6",
              "width": 0.5
             },
             "pattern": {
              "fillmode": "overlay",
              "size": 10,
              "solidity": 0.2
             }
            },
            "type": "barpolar"
           }
          ],
          "carpet": [
           {
            "aaxis": {
             "endlinecolor": "#2a3f5f",
             "gridcolor": "white",
             "linecolor": "white",
             "minorgridcolor": "white",
             "startlinecolor": "#2a3f5f"
            },
            "baxis": {
             "endlinecolor": "#2a3f5f",
             "gridcolor": "white",
             "linecolor": "white",
             "minorgridcolor": "white",
             "startlinecolor": "#2a3f5f"
            },
            "type": "carpet"
           }
          ],
          "choropleth": [
           {
            "colorbar": {
             "outlinewidth": 0,
             "ticks": ""
            },
            "type": "choropleth"
           }
          ],
          "contour": [
           {
            "colorbar": {
             "outlinewidth": 0,
             "ticks": ""
            },
            "colorscale": [
             [
              0,
              "#0d0887"
             ],
             [
              0.1111111111111111,
              "#46039f"
             ],
             [
              0.2222222222222222,
              "#7201a8"
             ],
             [
              0.3333333333333333,
              "#9c179e"
             ],
             [
              0.4444444444444444,
              "#bd3786"
             ],
             [
              0.5555555555555556,
              "#d8576b"
             ],
             [
              0.6666666666666666,
              "#ed7953"
             ],
             [
              0.7777777777777778,
              "#fb9f3a"
             ],
             [
              0.8888888888888888,
              "#fdca26"
             ],
             [
              1,
              "#f0f921"
             ]
            ],
            "type": "contour"
           }
          ],
          "contourcarpet": [
           {
            "colorbar": {
             "outlinewidth": 0,
             "ticks": ""
            },
            "type": "contourcarpet"
           }
          ],
          "heatmap": [
           {
            "colorbar": {
             "outlinewidth": 0,
             "ticks": ""
            },
            "colorscale": [
             [
              0,
              "#0d0887"
             ],
             [
              0.1111111111111111,
              "#46039f"
             ],
             [
              0.2222222222222222,
              "#7201a8"
             ],
             [
              0.3333333333333333,
              "#9c179e"
             ],
             [
              0.4444444444444444,
              "#bd3786"
             ],
             [
              0.5555555555555556,
              "#d8576b"
             ],
             [
              0.6666666666666666,
              "#ed7953"
             ],
             [
              0.7777777777777778,
              "#fb9f3a"
             ],
             [
              0.8888888888888888,
              "#fdca26"
             ],
             [
              1,
              "#f0f921"
             ]
            ],
            "type": "heatmap"
           }
          ],
          "heatmapgl": [
           {
            "colorbar": {
             "outlinewidth": 0,
             "ticks": ""
            },
            "colorscale": [
             [
              0,
              "#0d0887"
             ],
             [
              0.1111111111111111,
              "#46039f"
             ],
             [
              0.2222222222222222,
              "#7201a8"
             ],
             [
              0.3333333333333333,
              "#9c179e"
             ],
             [
              0.4444444444444444,
              "#bd3786"
             ],
             [
              0.5555555555555556,
              "#d8576b"
             ],
             [
              0.6666666666666666,
              "#ed7953"
             ],
             [
              0.7777777777777778,
              "#fb9f3a"
             ],
             [
              0.8888888888888888,
              "#fdca26"
             ],
             [
              1,
              "#f0f921"
             ]
            ],
            "type": "heatmapgl"
           }
          ],
          "histogram": [
           {
            "marker": {
             "pattern": {
              "fillmode": "overlay",
              "size": 10,
              "solidity": 0.2
             }
            },
            "type": "histogram"
           }
          ],
          "histogram2d": [
           {
            "colorbar": {
             "outlinewidth": 0,
             "ticks": ""
            },
            "colorscale": [
             [
              0,
              "#0d0887"
             ],
             [
              0.1111111111111111,
              "#46039f"
             ],
             [
              0.2222222222222222,
              "#7201a8"
             ],
             [
              0.3333333333333333,
              "#9c179e"
             ],
             [
              0.4444444444444444,
              "#bd3786"
             ],
             [
              0.5555555555555556,
              "#d8576b"
             ],
             [
              0.6666666666666666,
              "#ed7953"
             ],
             [
              0.7777777777777778,
              "#fb9f3a"
             ],
             [
              0.8888888888888888,
              "#fdca26"
             ],
             [
              1,
              "#f0f921"
             ]
            ],
            "type": "histogram2d"
           }
          ],
          "histogram2dcontour": [
           {
            "colorbar": {
             "outlinewidth": 0,
             "ticks": ""
            },
            "colorscale": [
             [
              0,
              "#0d0887"
             ],
             [
              0.1111111111111111,
              "#46039f"
             ],
             [
              0.2222222222222222,
              "#7201a8"
             ],
             [
              0.3333333333333333,
              "#9c179e"
             ],
             [
              0.4444444444444444,
              "#bd3786"
             ],
             [
              0.5555555555555556,
              "#d8576b"
             ],
             [
              0.6666666666666666,
              "#ed7953"
             ],
             [
              0.7777777777777778,
              "#fb9f3a"
             ],
             [
              0.8888888888888888,
              "#fdca26"
             ],
             [
              1,
              "#f0f921"
             ]
            ],
            "type": "histogram2dcontour"
           }
          ],
          "mesh3d": [
           {
            "colorbar": {
             "outlinewidth": 0,
             "ticks": ""
            },
            "type": "mesh3d"
           }
          ],
          "parcoords": [
           {
            "line": {
             "colorbar": {
              "outlinewidth": 0,
              "ticks": ""
             }
            },
            "type": "parcoords"
           }
          ],
          "pie": [
           {
            "automargin": true,
            "type": "pie"
           }
          ],
          "scatter": [
           {
            "marker": {
             "colorbar": {
              "outlinewidth": 0,
              "ticks": ""
             }
            },
            "type": "scatter"
           }
          ],
          "scatter3d": [
           {
            "line": {
             "colorbar": {
              "outlinewidth": 0,
              "ticks": ""
             }
            },
            "marker": {
             "colorbar": {
              "outlinewidth": 0,
              "ticks": ""
             }
            },
            "type": "scatter3d"
           }
          ],
          "scattercarpet": [
           {
            "marker": {
             "colorbar": {
              "outlinewidth": 0,
              "ticks": ""
             }
            },
            "type": "scattercarpet"
           }
          ],
          "scattergeo": [
           {
            "marker": {
             "colorbar": {
              "outlinewidth": 0,
              "ticks": ""
             }
            },
            "type": "scattergeo"
           }
          ],
          "scattergl": [
           {
            "marker": {
             "colorbar": {
              "outlinewidth": 0,
              "ticks": ""
             }
            },
            "type": "scattergl"
           }
          ],
          "scattermapbox": [
           {
            "marker": {
             "colorbar": {
              "outlinewidth": 0,
              "ticks": ""
             }
            },
            "type": "scattermapbox"
           }
          ],
          "scatterpolar": [
           {
            "marker": {
             "colorbar": {
              "outlinewidth": 0,
              "ticks": ""
             }
            },
            "type": "scatterpolar"
           }
          ],
          "scatterpolargl": [
           {
            "marker": {
             "colorbar": {
              "outlinewidth": 0,
              "ticks": ""
             }
            },
            "type": "scatterpolargl"
           }
          ],
          "scatterternary": [
           {
            "marker": {
             "colorbar": {
              "outlinewidth": 0,
              "ticks": ""
             }
            },
            "type": "scatterternary"
           }
          ],
          "surface": [
           {
            "colorbar": {
             "outlinewidth": 0,
             "ticks": ""
            },
            "colorscale": [
             [
              0,
              "#0d0887"
             ],
             [
              0.1111111111111111,
              "#46039f"
             ],
             [
              0.2222222222222222,
              "#7201a8"
             ],
             [
              0.3333333333333333,
              "#9c179e"
             ],
             [
              0.4444444444444444,
              "#bd3786"
             ],
             [
              0.5555555555555556,
              "#d8576b"
             ],
             [
              0.6666666666666666,
              "#ed7953"
             ],
             [
              0.7777777777777778,
              "#fb9f3a"
             ],
             [
              0.8888888888888888,
              "#fdca26"
             ],
             [
              1,
              "#f0f921"
             ]
            ],
            "type": "surface"
           }
          ],
          "table": [
           {
            "cells": {
             "fill": {
              "color": "#EBF0F8"
             },
             "line": {
              "color": "white"
             }
            },
            "header": {
             "fill": {
              "color": "#C8D4E3"
             },
             "line": {
              "color": "white"
             }
            },
            "type": "table"
           }
          ]
         },
         "layout": {
          "annotationdefaults": {
           "arrowcolor": "#2a3f5f",
           "arrowhead": 0,
           "arrowwidth": 1
          },
          "autotypenumbers": "strict",
          "coloraxis": {
           "colorbar": {
            "outlinewidth": 0,
            "ticks": ""
           }
          },
          "colorscale": {
           "diverging": [
            [
             0,
             "#8e0152"
            ],
            [
             0.1,
             "#c51b7d"
            ],
            [
             0.2,
             "#de77ae"
            ],
            [
             0.3,
             "#f1b6da"
            ],
            [
             0.4,
             "#fde0ef"
            ],
            [
             0.5,
             "#f7f7f7"
            ],
            [
             0.6,
             "#e6f5d0"
            ],
            [
             0.7,
             "#b8e186"
            ],
            [
             0.8,
             "#7fbc41"
            ],
            [
             0.9,
             "#4d9221"
            ],
            [
             1,
             "#276419"
            ]
           ],
           "sequential": [
            [
             0,
             "#0d0887"
            ],
            [
             0.1111111111111111,
             "#46039f"
            ],
            [
             0.2222222222222222,
             "#7201a8"
            ],
            [
             0.3333333333333333,
             "#9c179e"
            ],
            [
             0.4444444444444444,
             "#bd3786"
            ],
            [
             0.5555555555555556,
             "#d8576b"
            ],
            [
             0.6666666666666666,
             "#ed7953"
            ],
            [
             0.7777777777777778,
             "#fb9f3a"
            ],
            [
             0.8888888888888888,
             "#fdca26"
            ],
            [
             1,
             "#f0f921"
            ]
           ],
           "sequentialminus": [
            [
             0,
             "#0d0887"
            ],
            [
             0.1111111111111111,
             "#46039f"
            ],
            [
             0.2222222222222222,
             "#7201a8"
            ],
            [
             0.3333333333333333,
             "#9c179e"
            ],
            [
             0.4444444444444444,
             "#bd3786"
            ],
            [
             0.5555555555555556,
             "#d8576b"
            ],
            [
             0.6666666666666666,
             "#ed7953"
            ],
            [
             0.7777777777777778,
             "#fb9f3a"
            ],
            [
             0.8888888888888888,
             "#fdca26"
            ],
            [
             1,
             "#f0f921"
            ]
           ]
          },
          "colorway": [
           "#636efa",
           "#EF553B",
           "#00cc96",
           "#ab63fa",
           "#FFA15A",
           "#19d3f3",
           "#FF6692",
           "#B6E880",
           "#FF97FF",
           "#FECB52"
          ],
          "font": {
           "color": "#2a3f5f"
          },
          "geo": {
           "bgcolor": "white",
           "lakecolor": "white",
           "landcolor": "#E5ECF6",
           "showlakes": true,
           "showland": true,
           "subunitcolor": "white"
          },
          "hoverlabel": {
           "align": "left"
          },
          "hovermode": "closest",
          "mapbox": {
           "style": "light"
          },
          "paper_bgcolor": "white",
          "plot_bgcolor": "#E5ECF6",
          "polar": {
           "angularaxis": {
            "gridcolor": "white",
            "linecolor": "white",
            "ticks": ""
           },
           "bgcolor": "#E5ECF6",
           "radialaxis": {
            "gridcolor": "white",
            "linecolor": "white",
            "ticks": ""
           }
          },
          "scene": {
           "xaxis": {
            "backgroundcolor": "#E5ECF6",
            "gridcolor": "white",
            "gridwidth": 2,
            "linecolor": "white",
            "showbackground": true,
            "ticks": "",
            "zerolinecolor": "white"
           },
           "yaxis": {
            "backgroundcolor": "#E5ECF6",
            "gridcolor": "white",
            "gridwidth": 2,
            "linecolor": "white",
            "showbackground": true,
            "ticks": "",
            "zerolinecolor": "white"
           },
           "zaxis": {
            "backgroundcolor": "#E5ECF6",
            "gridcolor": "white",
            "gridwidth": 2,
            "linecolor": "white",
            "showbackground": true,
            "ticks": "",
            "zerolinecolor": "white"
           }
          },
          "shapedefaults": {
           "line": {
            "color": "#2a3f5f"
           }
          },
          "ternary": {
           "aaxis": {
            "gridcolor": "white",
            "linecolor": "white",
            "ticks": ""
           },
           "baxis": {
            "gridcolor": "white",
            "linecolor": "white",
            "ticks": ""
           },
           "bgcolor": "#E5ECF6",
           "caxis": {
            "gridcolor": "white",
            "linecolor": "white",
            "ticks": ""
           }
          },
          "title": {
           "x": 0.05
          },
          "xaxis": {
           "automargin": true,
           "gridcolor": "white",
           "linecolor": "white",
           "ticks": "",
           "title": {
            "standoff": 15
           },
           "zerolinecolor": "white",
           "zerolinewidth": 2
          },
          "yaxis": {
           "automargin": true,
           "gridcolor": "white",
           "linecolor": "white",
           "ticks": "",
           "title": {
            "standoff": 15
           },
           "zerolinecolor": "white",
           "zerolinewidth": 2
          }
         }
        },
        "title": {
         "text": "WildField : Apotome_x63           Ratios Box plot           PICT-BDD           (Update : 2022-07-05)<br><sub><b>Statistical T-Tests are carried out between a date and the date immediately preceding it</b></sub>",
         "x": 0.5
        },
        "width": 900,
        "xaxis": {
         "anchor": "y",
         "autorange": true,
         "categoryarray": [
          "2021-06-15",
          "2021-10-15",
          "2022-03-16",
          "2022-06-15",
          "2022-07-01"
         ],
         "categoryorder": "array",
         "domain": [
          0,
          0.98
         ],
         "range": [
          "2021-05-22 00:27:04.0325",
          "2022-07-24 23:32:55.9675"
         ],
         "title": {
          "text": "Date"
         },
         "type": "date"
        },
        "xaxis2": {
         "anchor": "y2",
         "autorange": true,
         "domain": [
          0,
          0.98
         ],
         "matches": "x",
         "range": [
          "2021-05-22 00:27:04.0325",
          "2022-07-24 23:32:55.9675"
         ],
         "showticklabels": false,
         "type": "date"
        },
        "xaxis3": {
         "anchor": "y3",
         "autorange": true,
         "domain": [
          0,
          0.98
         ],
         "matches": "x",
         "range": [
          "2021-05-22 00:27:04.0325",
          "2022-07-24 23:32:55.9675"
         ],
         "showticklabels": false,
         "type": "date"
        },
        "xaxis4": {
         "anchor": "y4",
         "autorange": true,
         "domain": [
          0,
          0.98
         ],
         "matches": "x",
         "range": [
          "2021-05-22 00:27:04.0325",
          "2022-07-24 23:32:55.9675"
         ],
         "showticklabels": false,
         "type": "date"
        },
        "xaxis5": {
         "anchor": "y5",
         "autorange": true,
         "domain": [
          0,
          0.98
         ],
         "matches": "x",
         "range": [
          "2021-05-22 00:27:04.0325",
          "2022-07-24 23:32:55.9675"
         ],
         "showticklabels": false,
         "type": "date"
        },
        "xaxis6": {
         "anchor": "y6",
         "autorange": true,
         "domain": [
          0,
          0.98
         ],
         "matches": "x",
         "range": [
          "2021-05-22 00:27:04.0325",
          "2022-07-24 23:32:55.9675"
         ],
         "showticklabels": false,
         "type": "date"
        },
        "yaxis": {
         "anchor": "x",
         "autorange": true,
         "domain": [
          0,
          0.14166666666666666
         ],
         "range": [
          0.6290161430241769,
          0.6686932825406405
         ],
         "title": {
          "text": "Ratios"
         },
         "type": "linear"
        },
        "yaxis2": {
         "anchor": "x2",
         "autorange": true,
         "domain": [
          0.17166666666666666,
          0.31333333333333335
         ],
         "range": [
          0.6312160826764229,
          1.3068944291479652
         ],
         "title": {
          "text": "Ratios"
         },
         "type": "linear"
        },
        "yaxis3": {
         "anchor": "x3",
         "autorange": true,
         "domain": [
          0.3433333333333333,
          0.485
         ],
         "range": [
          0.15141787047863312,
          1.3230604609059706
         ],
         "title": {
          "text": "Ratios"
         },
         "type": "linear"
        },
        "yaxis4": {
         "anchor": "x4",
         "autorange": true,
         "domain": [
          0.515,
          0.6566666666666667
         ],
         "range": [
          0.3677859540602723,
          1.4320668728548258
         ],
         "title": {
          "text": "Ratios"
         },
         "type": "linear"
        },
        "yaxis5": {
         "anchor": "x5",
         "autorange": true,
         "domain": [
          0.6866666666666666,
          0.8283333333333334
         ],
         "range": [
          0.12571576564478376,
          1.4315516249088747
         ],
         "title": {
          "text": "Ratios"
         },
         "type": "linear"
        },
        "yaxis6": {
         "anchor": "x6",
         "autorange": true,
         "domain": [
          0.8583333333333333,
          1
         ],
         "range": [
          0.22763813978048503,
          0.4948753441707841
         ],
         "title": {
          "text": "Ratios"
         },
         "type": "linear"
        }
       }
      },
      "image/png": "[encoded data removed]",
      "text/html": [
       "<div>                            <div id=\"200343b6-0fc3-477b-8c03-291ff24cd178\" class=\"plotly-graph-div\" style=\"height:2000px; width:900px;\"></div>            <script type=\"text/javascript\">                require([\"plotly\"], function(Plotly) {                    window.PLOTLYENV=window.PLOTLYENV || {};                                    if (document.getElementById(\"200343b6-0fc3-477b-8c03-291ff24cd178\")) {                    Plotly.newPlot(                        \"200343b6-0fc3-477b-8c03-291ff24cd178\",                        [{\"alignmentgroup\":\"True\",\"boxpoints\":\"outliers\",\"hovertemplate\":\"Date=%{x}<br>Combination=Channel 0 vs channel1<br>Ratios=%{y}<extra></extra>\",\"legendgroup\":\"2021-06-15 (n = 4)\",\"marker\":{\"color\":\"#636efa\"},\"name\":\"2021-06-15 (n = 4)\",\"notched\":false,\"offsetgroup\":\"2021-06-15\",\"orientation\":\"v\",\"showlegend\":true,\"type\":\"box\",\"x\":[\"2021-06-15\",\"2021-06-15\",\"2021-06-15\",\"2021-06-15\"],\"x0\":\" \",\"xaxis\":\"x6\",\"y\":[0.47,0.241,0.47,0.297],\"y0\":\" \",\"yaxis\":\"y6\"},{\"alignmentgroup\":\"True\",\"boxpoints\":\"outliers\",\"hovertemplate\":\"Date=%{x}<br>Combination=Channel 0 vs channel2<br>Ratios=%{y}<extra></extra>\",\"legendgroup\":\"2021-06-15 (n = 4)\",\"marker\":{\"color\":\"#636efa\"},\"name\":\"2021-06-15 (n = 4)\",\"notched\":false,\"offsetgroup\":\"2021-06-15\",\"orientation\":\"v\",\"showlegend\":false,\"type\":\"box\",\"x\":[\"2021-06-15\",\"2021-06-15\",\"2021-06-15\",\"2021-06-15\"],\"x0\":\" \",\"xaxis\":\"x5\",\"y\":[0.21,1.31,0.21,0.21],\"y0\":\" \",\"yaxis\":\"y5\"},{\"alignmentgroup\":\"True\",\"boxpoints\":\"outliers\",\"hovertemplate\":\"Date=%{x}<br>Combination=Channel 0 vs channel3<br>Ratios=%{y}<extra></extra>\",\"legendgroup\":\"2021-06-15 (n = 4)\",\"marker\":{\"color\":\"#636efa\"},\"name\":\"2021-06-15 (n = 4)\",\"notched\":false,\"offsetgroup\":\"2021-06-15\",\"orientation\":\"v\",\"showlegend\":false,\"type\":\"box\",\"x\":[\"2021-06-15\",\"2021-06-15\",\"2021-06-15\",\"2021-06-15\"],\"x0\":\" \",\"xaxis\":\"x4\",\"y\":[0.421,1.333,0.47,0.421],\"y0\":\" \",\"yaxis\":\"y4\"},{\"alignmentgroup\":\"True\",\"boxpoints\":\"outliers\",\"hovertemplate\":\"Date=%{x}<br>Combination=Channel 1 vs channel2<br>Ratios=%{y}<extra></extra>\",\"legendgroup\":\"2021-06-15 (n = 4)\",\"marker\":{\"color\":\"#636efa\"},\"name\":\"2021-06-15 (n = 4)\",\"notched\":false,\"offsetgroup\":\"2021-06-15\",\"orientation\":\"v\",\"showlegend\":false,\"type\":\"box\",\"x\":[\"2021-06-15\",\"2021-06-15\",\"2021-06-15\",\"2021-06-15\"],\"x0\":\" \",\"xaxis\":\"x3\",\"y\":[0.297,1.214,0.421,0.21],\"y0\":\" \",\"yaxis\":\"y3\"},{\"alignmentgroup\":\"True\",\"boxpoints\":\"outliers\",\"hovertemplate\":\"Date=%{x}<br>Combination=Channel 1 vs channel3<br>Ratios=%{y}<extra></extra>\",\"legendgroup\":\"2021-06-15 (n = 4)\",\"marker\":{\"color\":\"#636efa\"},\"name\":\"2021-06-15 (n = 4)\",\"notched\":false,\"offsetgroup\":\"2021-06-15\",\"orientation\":\"v\",\"showlegend\":false,\"type\":\"box\",\"x\":[\"2021-06-15\",\"2021-06-15\",\"2021-06-15\",\"2021-06-15\"],\"x0\":\" \",\"xaxis\":\"x2\",\"y\":[0.867,1.244,0.665,0.665],\"y0\":\" \",\"yaxis\":\"y2\"},{\"alignmentgroup\":\"True\",\"boxpoints\":\"outliers\",\"hovertemplate\":\"Date=%{x}<br>Combination=Channel 2 vs channel3<br>Ratios=%{y}<extra></extra>\",\"legendgroup\":\"2021-06-15 (n = 4)\",\"marker\":{\"color\":\"#636efa\"},\"name\":\"2021-06-15 (n = 4)\",\"notched\":false,\"offsetgroup\":\"2021-06-15\",\"orientation\":\"v\",\"showlegend\":false,\"type\":\"box\",\"x\":[\"2021-06-15\",\"2021-06-15\",\"2021-06-15\",\"2021-06-15\"],\"x0\":\" \",\"xaxis\":\"x\",\"y\":[0.631,0.665,0.665,0.631],\"y0\":\" \",\"yaxis\":\"y\"},{\"alignmentgroup\":\"True\",\"boxpoints\":\"outliers\",\"hovertemplate\":\"Date=%{x}<br>Combination=Channel 0 vs channel1<br>Ratios=%{y}<extra></extra>\",\"legendgroup\":\"2021-10-15 (n = 4)\",\"marker\":{\"color\":\"#EF553B\"},\"name\":\"2021-10-15 (n = 4)\",\"notched\":false,\"offsetgroup\":\"2021-10-15\",\"orientation\":\"v\",\"showlegend\":true,\"type\":\"box\",\"x\":[\"2021-10-15\",\"2021-10-15\",\"2021-10-15\",\"2021-10-15\"],\"x0\":\" \",\"xaxis\":\"x6\",\"y\":[0.47,0.241,0.47,0.297],\"y0\":\" \",\"yaxis\":\"y6\"},{\"alignmentgroup\":\"True\",\"boxpoints\":\"outliers\",\"hovertemplate\":\"Date=%{x}<br>Combination=Channel 0 vs channel2<br>Ratios=%{y}<extra></extra>\",\"legendgroup\":\"2021-10-15 (n = 4)\",\"marker\":{\"color\":\"#EF553B\"},\"name\":\"2021-10-15 (n = 4)\",\"notched\":false,\"offsetgroup\":\"2021-10-15\",\"orientation\":\"v\",\"showlegend\":false,\"type\":\"box\",\"x\":[\"2021-10-15\",\"2021-10-15\",\"2021-10-15\",\"2021-10-15\"],\"x0\":\" \",\"xaxis\":\"x5\",\"y\":[0.21,1.31,0.21,0.21],\"y0\":\" \",\"yaxis\":\"y5\"},{\"alignmentgroup\":\"True\",\"boxpoints\":\"outliers\",\"hovertemplate\":\"Date=%{x}<br>Combination=Channel 0 vs channel3<br>Ratios=%{y}<extra></extra>\",\"legendgroup\":\"2021-10-15 (n = 4)\",\"marker\":{\"color\":\"#EF553B\"},\"name\":\"2021-10-15 (n = 4)\",\"notched\":false,\"offsetgroup\":\"2021-10-15\",\"orientation\":\"v\",\"showlegend\":false,\"type\":\"box\",\"x\":[\"2021-10-15\",\"2021-10-15\",\"2021-10-15\",\"2021-10-15\"],\"x0\":\" \",\"xaxis\":\"x4\",\"y\":[0.421,1.333,0.47,0.421],\"y0\":\" \",\"yaxis\":\"y4\"},{\"alignmentgroup\":\"True\",\"boxpoints\":\"outliers\",\"hovertemplate\":\"Date=%{x}<br>Combination=Channel 1 vs channel2<br>Ratios=%{y}<extra></extra>\",\"legendgroup\":\"2021-10-15 (n = 4)\",\"marker\":{\"color\":\"#EF553B\"},\"name\":\"2021-10-15 (n = 4)\",\"notched\":false,\"offsetgroup\":\"2021-10-15\",\"orientation\":\"v\",\"showlegend\":false,\"type\":\"box\",\"x\":[\"2021-10-15\",\"2021-10-15\",\"2021-10-15\",\"2021-10-15\"],\"x0\":\" \",\"xaxis\":\"x3\",\"y\":[0.297,1.214,0.421,0.21],\"y0\":\" \",\"yaxis\":\"y3\"},{\"alignmentgroup\":\"True\",\"boxpoints\":\"outliers\",\"hovertemplate\":\"Date=%{x}<br>Combination=Channel 1 vs channel3<br>Ratios=%{y}<extra></extra>\",\"legendgroup\":\"2021-10-15 (n = 4)\",\"marker\":{\"color\":\"#EF553B\"},\"name\":\"2021-10-15 (n = 4)\",\"notched\":false,\"offsetgroup\":\"2021-10-15\",\"orientation\":\"v\",\"showlegend\":false,\"type\":\"box\",\"x\":[\"2021-10-15\",\"2021-10-15\",\"2021-10-15\",\"2021-10-15\"],\"x0\":\" \",\"xaxis\":\"x2\",\"y\":[0.867,1.244,0.665,0.665],\"y0\":\" \",\"yaxis\":\"y2\"},{\"alignmentgroup\":\"True\",\"boxpoints\":\"outliers\",\"hovertemplate\":\"Date=%{x}<br>Combination=Channel 2 vs channel3<br>Ratios=%{y}<extra></extra>\",\"legendgroup\":\"2021-10-15 (n = 4)\",\"marker\":{\"color\":\"#EF553B\"},\"name\":\"2021-10-15 (n = 4)\",\"notched\":false,\"offsetgroup\":\"2021-10-15\",\"orientation\":\"v\",\"showlegend\":false,\"type\":\"box\",\"x\":[\"2021-10-15\",\"2021-10-15\",\"2021-10-15\",\"2021-10-15\"],\"x0\":\" \",\"xaxis\":\"x\",\"y\":[0.631,0.665,0.665,0.631],\"y0\":\" \",\"yaxis\":\"y\"},{\"alignmentgroup\":\"True\",\"boxpoints\":\"outliers\",\"hovertemplate\":\"Date=%{x}<br>Combination=Channel 0 vs channel1<br>Ratios=%{y}<extra></extra>\",\"legendgroup\":\"2022-03-16 (n = 4)\",\"marker\":{\"color\":\"#00cc96\"},\"name\":\"2022-03-16 (n = 4)\",\"notched\":false,\"offsetgroup\":\"2022-03-16\",\"orientation\":\"v\",\"showlegend\":true,\"type\":\"box\",\"x\":[\"2022-03-16\",\"2022-03-16\",\"2022-03-16\",\"2022-03-16\"],\"x0\":\" \",\"xaxis\":\"x6\",\"y\":[0.47,0.241,0.47,0.297],\"y0\":\" \",\"yaxis\":\"y6\"},{\"alignmentgroup\":\"True\",\"boxpoints\":\"outliers\",\"hovertemplate\":\"Date=%{x}<br>Combination=Channel 0 vs channel2<br>Ratios=%{y}<extra></extra>\",\"legendgroup\":\"2022-03-16 (n = 4)\",\"marker\":{\"color\":\"#00cc96\"},\"name\":\"2022-03-16 (n = 4)\",\"notched\":false,\"offsetgroup\":\"2022-03-16\",\"orientation\":\"v\",\"showlegend\":false,\"type\":\"box\",\"x\":[\"2022-03-16\",\"2022-03-16\",\"2022-03-16\",\"2022-03-16\"],\"x0\":\" \",\"xaxis\":\"x5\",\"y\":[0.21,1.31,0.21,0.21],\"y0\":\" \",\"yaxis\":\"y5\"},{\"alignmentgroup\":\"True\",\"boxpoints\":\"outliers\",\"hovertemplate\":\"Date=%{x}<br>Combination=Channel 0 vs channel3<br>Ratios=%{y}<extra></extra>\",\"legendgroup\":\"2022-03-16 (n = 4)\",\"marker\":{\"color\":\"#00cc96\"},\"name\":\"2022-03-16 (n = 4)\",\"notched\":false,\"offsetgroup\":\"2022-03-16\",\"orientation\":\"v\",\"showlegend\":false,\"type\":\"box\",\"x\":[\"2022-03-16\",\"2022-03-16\",\"2022-03-16\",\"2022-03-16\"],\"x0\":\" \",\"xaxis\":\"x4\",\"y\":[0.421,1.333,0.47,0.421],\"y0\":\" \",\"yaxis\":\"y4\"},{\"alignmentgroup\":\"True\",\"boxpoints\":\"outliers\",\"hovertemplate\":\"Date=%{x}<br>Combination=Channel 1 vs channel2<br>Ratios=%{y}<extra></extra>\",\"legendgroup\":\"2022-03-16 (n = 4)\",\"marker\":{\"color\":\"#00cc96\"},\"name\":\"2022-03-16 (n = 4)\",\"notched\":false,\"offsetgroup\":\"2022-03-16\",\"orientation\":\"v\",\"showlegend\":false,\"type\":\"box\",\"x\":[\"2022-03-16\",\"2022-03-16\",\"2022-03-16\",\"2022-03-16\"],\"x0\":\" \",\"xaxis\":\"x3\",\"y\":[0.297,1.214,0.421,0.21],\"y0\":\" \",\"yaxis\":\"y3\"},{\"alignmentgroup\":\"True\",\"boxpoints\":\"outliers\",\"hovertemplate\":\"Date=%{x}<br>Combination=Channel 1 vs channel3<br>Ratios=%{y}<extra></extra>\",\"legendgroup\":\"2022-03-16 (n = 4)\",\"marker\":{\"color\":\"#00cc96\"},\"name\":\"2022-03-16 (n = 4)\",\"notched\":false,\"offsetgroup\":\"2022-03-16\",\"orientation\":\"v\",\"showlegend\":false,\"type\":\"box\",\"x\":[\"2022-03-16\",\"2022-03-16\",\"2022-03-16\",\"2022-03-16\"],\"x0\":\" \",\"xaxis\":\"x2\",\"y\":[0.867,1.244,0.665,0.665],\"y0\":\" \",\"yaxis\":\"y2\"},{\"alignmentgroup\":\"True\",\"boxpoints\":\"outliers\",\"hovertemplate\":\"Date=%{x}<br>Combination=Channel 2 vs channel3<br>Ratios=%{y}<extra></extra>\",\"legendgroup\":\"2022-03-16 (n = 4)\",\"marker\":{\"color\":\"#00cc96\"},\"name\":\"2022-03-16 (n = 4)\",\"notched\":false,\"offsetgroup\":\"2022-03-16\",\"orientation\":\"v\",\"showlegend\":false,\"type\":\"box\",\"x\":[\"2022-03-16\",\"2022-03-16\",\"2022-03-16\",\"2022-03-16\"],\"x0\":\" \",\"xaxis\":\"x\",\"y\":[0.631,0.665,0.665,0.631],\"y0\":\" \",\"yaxis\":\"y\"},{\"alignmentgroup\":\"True\",\"boxpoints\":\"outliers\",\"hovertemplate\":\"Date=%{x}<br>Combination=Channel 0 vs channel1<br>Ratios=%{y}<extra></extra>\",\"legendgroup\":\"2022-06-15 (n = 4)\",\"marker\":{\"color\":\"#ab63fa\"},\"name\":\"2022-06-15 (n = 4)\",\"notched\":false,\"offsetgroup\":\"2022-06-15\",\"orientation\":\"v\",\"showlegend\":true,\"type\":\"box\",\"x\":[\"2022-06-15\",\"2022-06-15\",\"2022-06-15\",\"2022-06-15\"],\"x0\":\" \",\"xaxis\":\"x6\",\"y\":[0.47,0.241,0.47,0.297],\"y0\":\" \",\"yaxis\":\"y6\"},{\"alignmentgroup\":\"True\",\"boxpoints\":\"outliers\",\"hovertemplate\":\"Date=%{x}<br>Combination=Channel 0 vs channel2<br>Ratios=%{y}<extra></extra>\",\"legendgroup\":\"2022-06-15 (n = 4)\",\"marker\":{\"color\":\"#ab63fa\"},\"name\":\"2022-06-15 (n = 4)\",\"notched\":false,\"offsetgroup\":\"2022-06-15\",\"orientation\":\"v\",\"showlegend\":false,\"type\":\"box\",\"x\":[\"2022-06-15\",\"2022-06-15\",\"2022-06-15\",\"2022-06-15\"],\"x0\":\" \",\"xaxis\":\"x5\",\"y\":[0.21,1.31,0.21,0.21],\"y0\":\" \",\"yaxis\":\"y5\"},{\"alignmentgroup\":\"True\",\"boxpoints\":\"outliers\",\"hovertemplate\":\"Date=%{x}<br>Combination=Channel 0 vs channel3<br>Ratios=%{y}<extra></extra>\",\"legendgroup\":\"2022-06-15 (n = 4)\",\"marker\":{\"color\":\"#ab63fa\"},\"name\":\"2022-06-15 (n = 4)\",\"notched\":false,\"offsetgroup\":\"2022-06-15\",\"orientation\":\"v\",\"showlegend\":false,\"type\":\"box\",\"x\":[\"2022-06-15\",\"2022-06-15\",\"2022-06-15\",\"2022-06-15\"],\"x0\":\" \",\"xaxis\":\"x4\",\"y\":[0.421,1.333,0.47,0.421],\"y0\":\" \",\"yaxis\":\"y4\"},{\"alignmentgroup\":\"True\",\"boxpoints\":\"outliers\",\"hovertemplate\":\"Date=%{x}<br>Combination=Channel 1 vs channel2<br>Ratios=%{y}<extra></extra>\",\"legendgroup\":\"2022-06-15 (n = 4)\",\"marker\":{\"color\":\"#ab63fa\"},\"name\":\"2022-06-15 (n = 4)\",\"notched\":false,\"offsetgroup\":\"2022-06-15\",\"orientation\":\"v\",\"showlegend\":false,\"type\":\"box\",\"x\":[\"2022-06-15\",\"2022-06-15\",\"2022-06-15\",\"2022-06-15\"],\"x0\":\" \",\"xaxis\":\"x3\",\"y\":[0.297,1.214,0.421,0.21],\"y0\":\" \",\"yaxis\":\"y3\"},{\"alignmentgroup\":\"True\",\"boxpoints\":\"outliers\",\"hovertemplate\":\"Date=%{x}<br>Combination=Channel 1 vs channel3<br>Ratios=%{y}<extra></extra>\",\"legendgroup\":\"2022-06-15 (n = 4)\",\"marker\":{\"color\":\"#ab63fa\"},\"name\":\"2022-06-15 (n = 4)\",\"notched\":false,\"offsetgroup\":\"2022-06-15\",\"orientation\":\"v\",\"showlegend\":false,\"type\":\"box\",\"x\":[\"2022-06-15\",\"2022-06-15\",\"2022-06-15\",\"2022-06-15\"],\"x0\":\" \",\"xaxis\":\"x2\",\"y\":[0.867,1.244,0.665,0.665],\"y0\":\" \",\"yaxis\":\"y2\"},{\"alignmentgroup\":\"True\",\"boxpoints\":\"outliers\",\"hovertemplate\":\"Date=%{x}<br>Combination=Channel 2 vs channel3<br>Ratios=%{y}<extra></extra>\",\"legendgroup\":\"2022-06-15 (n = 4)\",\"marker\":{\"color\":\"#ab63fa\"},\"name\":\"2022-06-15 (n = 4)\",\"notched\":false,\"offsetgroup\":\"2022-06-15\",\"orientation\":\"v\",\"showlegend\":false,\"type\":\"box\",\"x\":[\"2022-06-15\",\"2022-06-15\",\"2022-06-15\",\"2022-06-15\"],\"x0\":\" \",\"xaxis\":\"x\",\"y\":[0.631,0.665,0.665,0.631],\"y0\":\" \",\"yaxis\":\"y\"},{\"alignmentgroup\":\"True\",\"boxpoints\":\"outliers\",\"hovertemplate\":\"Date=%{x}<br>Combination=Channel 0 vs channel1<br>Ratios=%{y}<extra></extra>\",\"legendgroup\":\"2022-07-01 (n = 4)\",\"marker\":{\"color\":\"#FFA15A\"},\"name\":\"2022-07-01 (n = 4)\",\"notched\":false,\"offsetgroup\":\"2022-07-01\",\"orientation\":\"v\",\"showlegend\":true,\"type\":\"box\",\"x\":[\"2022-07-01\",\"2022-07-01\",\"2022-07-01\",\"2022-07-01\"],\"x0\":\" \",\"xaxis\":\"x6\",\"y\":[0.47,0.241,0.47,0.297],\"y0\":\" \",\"yaxis\":\"y6\"},{\"alignmentgroup\":\"True\",\"boxpoints\":\"outliers\",\"hovertemplate\":\"Date=%{x}<br>Combination=Channel 0 vs channel2<br>Ratios=%{y}<extra></extra>\",\"legendgroup\":\"2022-07-01 (n = 4)\",\"marker\":{\"color\":\"#FFA15A\"},\"name\":\"2022-07-01 (n = 4)\",\"notched\":false,\"offsetgroup\":\"2022-07-01\",\"orientation\":\"v\",\"showlegend\":false,\"type\":\"box\",\"x\":[\"2022-07-01\",\"2022-07-01\",\"2022-07-01\",\"2022-07-01\"],\"x0\":\" \",\"xaxis\":\"x5\",\"y\":[0.21,1.31,0.21,0.21],\"y0\":\" \",\"yaxis\":\"y5\"},{\"alignmentgroup\":\"True\",\"boxpoints\":\"outliers\",\"hovertemplate\":\"Date=%{x}<br>Combination=Channel 0 vs channel3<br>Ratios=%{y}<extra></extra>\",\"legendgroup\":\"2022-07-01 (n = 4)\",\"marker\":{\"color\":\"#FFA15A\"},\"name\":\"2022-07-01 (n = 4)\",\"notched\":false,\"offsetgroup\":\"2022-07-01\",\"orientation\":\"v\",\"showlegend\":false,\"type\":\"box\",\"x\":[\"2022-07-01\",\"2022-07-01\",\"2022-07-01\",\"2022-07-01\"],\"x0\":\" \",\"xaxis\":\"x4\",\"y\":[0.421,1.333,0.47,0.421],\"y0\":\" \",\"yaxis\":\"y4\"},{\"alignmentgroup\":\"True\",\"boxpoints\":\"outliers\",\"hovertemplate\":\"Date=%{x}<br>Combination=Channel 1 vs channel2<br>Ratios=%{y}<extra></extra>\",\"legendgroup\":\"2022-07-01 (n = 4)\",\"marker\":{\"color\":\"#FFA15A\"},\"name\":\"2022-07-01 (n = 4)\",\"notched\":false,\"offsetgroup\":\"2022-07-01\",\"orientation\":\"v\",\"showlegend\":false,\"type\":\"box\",\"x\":[\"2022-07-01\",\"2022-07-01\",\"2022-07-01\",\"2022-07-01\"],\"x0\":\" \",\"xaxis\":\"x3\",\"y\":[0.297,1.214,0.421,0.21],\"y0\":\" \",\"yaxis\":\"y3\"},{\"alignmentgroup\":\"True\",\"boxpoints\":\"outliers\",\"hovertemplate\":\"Date=%{x}<br>Combination=Channel 1 vs channel3<br>Ratios=%{y}<extra></extra>\",\"legendgroup\":\"2022-07-01 (n = 4)\",\"marker\":{\"color\":\"#FFA15A\"},\"name\":\"2022-07-01 (n = 4)\",\"notched\":false,\"offsetgroup\":\"2022-07-01\",\"orientation\":\"v\",\"showlegend\":false,\"type\":\"box\",\"x\":[\"2022-07-01\",\"2022-07-01\",\"2022-07-01\",\"2022-07-01\"],\"x0\":\" \",\"xaxis\":\"x2\",\"y\":[0.867,1.244,0.665,0.665],\"y0\":\" \",\"yaxis\":\"y2\"},{\"alignmentgroup\":\"True\",\"boxpoints\":\"outliers\",\"hovertemplate\":\"Date=%{x}<br>Combination=Channel 2 vs channel3<br>Ratios=%{y}<extra></extra>\",\"legendgroup\":\"2022-07-01 (n = 4)\",\"marker\":{\"color\":\"#FFA15A\"},\"name\":\"2022-07-01 (n = 4)\",\"notched\":false,\"offsetgroup\":\"2022-07-01\",\"orientation\":\"v\",\"showlegend\":false,\"type\":\"box\",\"x\":[\"2022-07-01\",\"2022-07-01\",\"2022-07-01\",\"2022-07-01\"],\"x0\":\" \",\"xaxis\":\"x\",\"y\":[0.631,0.665,0.665,0.631],\"y0\":\" \",\"yaxis\":\"y\"},{\"line\":{\"color\":\"#000000\"},\"mode\":\"lines+markers\",\"showlegend\":false,\"type\":\"scatter\",\"x\":[\"2021-06-15\",\"2021-10-15\",\"2022-03-16\",\"2022-06-15\",\"2022-07-01\"],\"xaxis\":\"x6\",\"y\":[0.38349999999999995,0.38349999999999995,0.38349999999999995,0.38349999999999995,0.38349999999999995],\"yaxis\":\"y6\"},{\"line\":{\"color\":\"#000000\"},\"mode\":\"lines+markers\",\"showlegend\":false,\"type\":\"scatter\",\"x\":[\"2021-06-15\",\"2021-10-15\",\"2022-03-16\",\"2022-06-15\",\"2022-07-01\"],\"xaxis\":\"x5\",\"y\":[0.21,0.21,0.21,0.21,0.21],\"yaxis\":\"y5\"},{\"line\":{\"color\":\"#000000\"},\"mode\":\"lines+markers\",\"showlegend\":false,\"type\":\"scatter\",\"x\":[\"2021-06-15\",\"2021-10-15\",\"2022-03-16\",\"2022-06-15\",\"2022-07-01\"],\"xaxis\":\"x4\",\"y\":[0.4455,0.4455,0.4455,0.4455,0.4455],\"yaxis\":\"y4\"},{\"line\":{\"color\":\"#000000\"},\"mode\":\"lines+markers\",\"showlegend\":false,\"type\":\"scatter\",\"x\":[\"2021-06-15\",\"2021-10-15\",\"2022-03-16\",\"2022-06-15\",\"2022-07-01\"],\"xaxis\":\"x3\",\"y\":[0.359,0.359,0.359,0.359,0.359],\"yaxis\":\"y3\"},{\"line\":{\"color\":\"#000000\"},\"mode\":\"lines+markers\",\"showlegend\":false,\"type\":\"scatter\",\"x\":[\"2021-06-15\",\"2021-10-15\",\"2022-03-16\",\"2022-06-15\",\"2022-07-01\"],\"xaxis\":\"x2\",\"y\":[0.766,0.766,0.766,0.766,0.766],\"yaxis\":\"y2\"},{\"line\":{\"color\":\"#000000\"},\"mode\":\"lines+markers\",\"showlegend\":false,\"type\":\"scatter\",\"x\":[\"2021-06-15\",\"2021-10-15\",\"2022-03-16\",\"2022-06-15\",\"2022-07-01\"],\"xaxis\":\"x\",\"y\":[0.648,0.648,0.648,0.648,0.648],\"yaxis\":\"y\"}],                        {\"annotations\":[{\"showarrow\":false,\"text\":\"Combination=Channel 2 vs channel3\",\"textangle\":90,\"x\":0.98,\"xanchor\":\"left\",\"xref\":\"paper\",\"y\":0.07083333333333333,\"yanchor\":\"middle\",\"yref\":\"paper\"},{\"showarrow\":false,\"text\":\"Combination=Channel 1 vs channel3\",\"textangle\":90,\"x\":0.98,\"xanchor\":\"left\",\"xref\":\"paper\",\"y\":0.2425,\"yanchor\":\"middle\",\"yref\":\"paper\"},{\"showarrow\":false,\"text\":\"Combination=Channel 1 vs channel2\",\"textangle\":90,\"x\":0.98,\"xanchor\":\"left\",\"xref\":\"paper\",\"y\":0.4141666666666667,\"yanchor\":\"middle\",\"yref\":\"paper\"},{\"showarrow\":false,\"text\":\"Combination=Channel 0 vs channel3\",\"textangle\":90,\"x\":0.98,\"xanchor\":\"left\",\"xref\":\"paper\",\"y\":0.5858333333333334,\"yanchor\":\"middle\",\"yref\":\"paper\"},{\"showarrow\":false,\"text\":\"Combination=Channel 0 vs channel2\",\"textangle\":90,\"x\":0.98,\"xanchor\":\"left\",\"xref\":\"paper\",\"y\":0.7575000000000001,\"yanchor\":\"middle\",\"yref\":\"paper\"},{\"showarrow\":false,\"text\":\"Combination=Channel 0 vs channel1\",\"textangle\":90,\"x\":0.98,\"xanchor\":\"left\",\"xref\":\"paper\",\"y\":0.9291666666666667,\"yanchor\":\"middle\",\"yref\":\"paper\"},{\"arrowhead\":1,\"font\":{\"size\":30},\"showarrow\":false,\"text\":\"<sup><sup><b>ns</b></sup></sup>\",\"x\":\"2021-10-15\",\"xref\":\"x\",\"y\":0.47,\"yref\":\"y6\"},{\"arrowhead\":1,\"font\":{\"size\":30},\"showarrow\":false,\"text\":\"<sup><sup><b>ns</b></sup></sup>\",\"x\":\"2022-03-16\",\"xref\":\"x\",\"y\":0.47,\"yref\":\"y6\"},{\"arrowhead\":1,\"font\":{\"size\":30},\"showarrow\":false,\"text\":\"<sup><sup><b>ns</b></sup></sup>\",\"x\":\"2022-06-15\",\"xref\":\"x\",\"y\":0.47,\"yref\":\"y6\"},{\"arrowhead\":1,\"font\":{\"size\":30},\"showarrow\":false,\"text\":\"<sup><sup><b>ns</b></sup></sup>\",\"x\":\"2022-07-01\",\"xref\":\"x\",\"y\":0.47,\"yref\":\"y6\"},{\"arrowhead\":1,\"font\":{\"size\":30},\"showarrow\":false,\"text\":\"<sup><sup><b>ns</b></sup></sup>\",\"x\":\"2021-10-15\",\"xref\":\"x\",\"y\":1.31,\"yref\":\"y5\"},{\"arrowhead\":1,\"font\":{\"size\":30},\"showarrow\":false,\"text\":\"<sup><sup><b>ns</b></sup></sup>\",\"x\":\"2022-03-16\",\"xref\":\"x\",\"y\":1.31,\"yref\":\"y5\"},{\"arrowhead\":1,\"font\":{\"size\":30},\"showarrow\":false,\"text\":\"<sup><sup><b>ns</b></sup></sup>\",\"x\":\"2022-06-15\",\"xref\":\"x\",\"y\":1.31,\"yref\":\"y5\"},{\"arrowhead\":1,\"font\":{\"size\":30},\"showarrow\":false,\"text\":\"<sup><sup><b>ns</b></sup></sup>\",\"x\":\"2022-07-01\",\"xref\":\"x\",\"y\":1.31,\"yref\":\"y5\"},{\"arrowhead\":1,\"font\":{\"size\":30},\"showarrow\":false,\"text\":\"<sup><sup><b>ns</b></sup></sup>\",\"x\":\"2021-10-15\",\"xref\":\"x\",\"y\":1.333,\"yref\":\"y4\"},{\"arrowhead\":1,\"font\":{\"size\":30},\"showarrow\":false,\"text\":\"<sup><sup><b>ns</b></sup></sup>\",\"x\":\"2022-03-16\",\"xref\":\"x\",\"y\":1.333,\"yref\":\"y4\"},{\"arrowhead\":1,\"font\":{\"size\":30},\"showarrow\":false,\"text\":\"<sup><sup><b>ns</b></sup></sup>\",\"x\":\"2022-06-15\",\"xref\":\"x\",\"y\":1.333,\"yref\":\"y4\"},{\"arrowhead\":1,\"font\":{\"size\":30},\"showarrow\":false,\"text\":\"<sup><sup><b>ns</b></sup></sup>\",\"x\":\"2022-07-01\",\"xref\":\"x\",\"y\":1.333,\"yref\":\"y4\"},{\"arrowhead\":1,\"font\":{\"size\":30},\"showarrow\":false,\"text\":\"<sup><sup><b>ns</b></sup></sup>\",\"x\":\"2021-10-15\",\"xref\":\"x\",\"y\":1.214,\"yref\":\"y3\"},{\"arrowhead\":1,\"font\":{\"size\":30},\"showarrow\":false,\"text\":\"<sup><sup><b>ns</b></sup></sup>\",\"x\":\"2022-03-16\",\"xref\":\"x\",\"y\":1.214,\"yref\":\"y3\"},{\"arrowhead\":1,\"font\":{\"size\":30},\"showarrow\":false,\"text\":\"<sup><sup><b>ns</b></sup></sup>\",\"x\":\"2022-06-15\",\"xref\":\"x\",\"y\":1.214,\"yref\":\"y3\"},{\"arrowhead\":1,\"font\":{\"size\":30},\"showarrow\":false,\"text\":\"<sup><sup><b>ns</b></sup></sup>\",\"x\":\"2022-07-01\",\"xref\":\"x\",\"y\":1.214,\"yref\":\"y3\"},{\"arrowhead\":1,\"font\":{\"size\":30},\"showarrow\":false,\"text\":\"<sup><sup><b>ns</b></sup></sup>\",\"x\":\"2021-10-15\",\"xref\":\"x\",\"y\":1.244,\"yref\":\"y2\"},{\"arrowhead\":1,\"font\":{\"size\":30},\"showarrow\":false,\"text\":\"<sup><sup><b>ns</b></sup></sup>\",\"x\":\"2022-03-16\",\"xref\":\"x\",\"y\":1.244,\"yref\":\"y2\"},{\"arrowhead\":1,\"font\":{\"size\":30},\"showarrow\":false,\"text\":\"<sup><sup><b>ns</b></sup></sup>\",\"x\":\"2022-06-15\",\"xref\":\"x\",\"y\":1.244,\"yref\":\"y2\"},{\"arrowhead\":1,\"font\":{\"size\":30},\"showarrow\":false,\"text\":\"<sup><sup><b>ns</b></sup></sup>\",\"x\":\"2022-07-01\",\"xref\":\"x\",\"y\":1.244,\"yref\":\"y2\"},{\"arrowhead\":1,\"font\":{\"size\":30},\"showarrow\":false,\"text\":\"<sup><sup><b>ns</b></sup></sup>\",\"x\":\"2021-10-15\",\"xref\":\"x\",\"y\":0.665,\"yref\":\"y\"},{\"arrowhead\":1,\"font\":{\"size\":30},\"showarrow\":false,\"text\":\"<sup><sup><b>ns</b></sup></sup>\",\"x\":\"2022-03-16\",\"xref\":\"x\",\"y\":0.665,\"yref\":\"y\"},{\"arrowhead\":1,\"font\":{\"size\":30},\"showarrow\":false,\"text\":\"<sup><sup><b>ns</b></sup></sup>\",\"x\":\"2022-06-15\",\"xref\":\"x\",\"y\":0.665,\"yref\":\"y\"},{\"arrowhead\":1,\"font\":{\"size\":30},\"showarrow\":false,\"text\":\"<sup><sup><b>ns</b></sup></sup>\",\"x\":\"2022-07-01\",\"xref\":\"x\",\"y\":0.665,\"yref\":\"y\"}],\"boxmode\":\"overlay\",\"height\":2000,\"legend\":{\"title\":{\"text\":\"Date\"},\"tracegroupgap\":0},\"showlegend\":true,\"template\":{\"data\":{\"bar\":[{\"error_x\":{\"color\":\"#2a3f5f\"},\"error_y\":{\"color\":\"#2a3f5f\"},\"marker\":{\"line\":{\"color\":\"#E5ECF6\",\"width\":0.5},\"pattern\":{\"fillmode\":\"overlay\",\"size\":10,\"solidity\":0.2}},\"type\":\"bar\"}],\"barpolar\":[{\"marker\":{\"line\":{\"color\":\"#E5ECF6\",\"width\":0.5},\"pattern\":{\"fillmode\":\"overlay\",\"size\":10,\"solidity\":0.2}},\"type\":\"barpolar\"}],\"carpet\":[{\"aaxis\":{\"endlinecolor\":\"#2a3f5f\",\"gridcolor\":\"white\",\"linecolor\":\"white\",\"minorgridcolor\":\"white\",\"startlinecolor\":\"#2a3f5f\"},\"baxis\":{\"endlinecolor\":\"#2a3f5f\",\"gridcolor\":\"white\",\"linecolor\":\"white\",\"minorgridcolor\":\"white\",\"startlinecolor\":\"#2a3f5f\"},\"type\":\"carpet\"}],\"choropleth\":[{\"colorbar\":{\"outlinewidth\":0,\"ticks\":\"\"},\"type\":\"choropleth\"}],\"contour\":[{\"colorbar\":{\"outlinewidth\":0,\"ticks\":\"\"},\"colorscale\":[[0.0,\"#0d0887\"],[0.1111111111111111,\"#46039f\"],[0.2222222222222222,\"#7201a8\"],[0.3333333333333333,\"#9c179e\"],[0.4444444444444444,\"#bd3786\"],[0.5555555555555556,\"#d8576b\"],[0.6666666666666666,\"#ed7953\"],[0.7777777777777778,\"#fb9f3a\"],[0.8888888888888888,\"#fdca26\"],[1.0,\"#f0f921\"]],\"type\":\"contour\"}],\"contourcarpet\":[{\"colorbar\":{\"outlinewidth\":0,\"ticks\":\"\"},\"type\":\"contourcarpet\"}],\"heatmap\":[{\"colorbar\":{\"outlinewidth\":0,\"ticks\":\"\"},\"colorscale\":[[0.0,\"#0d0887\"],[0.1111111111111111,\"#46039f\"],[0.2222222222222222,\"#7201a8\"],[0.3333333333333333,\"#9c179e\"],[0.4444444444444444,\"#bd3786\"],[0.5555555555555556,\"#d8576b\"],[0.6666666666666666,\"#ed7953\"],[0.7777777777777778,\"#fb9f3a\"],[0.8888888888888888,\"#fdca26\"],[1.0,\"#f0f921\"]],\"type\":\"heatmap\"}],\"heatmapgl\":[{\"colorbar\":{\"outlinewidth\":0,\"ticks\":\"\"},\"colorscale\":[[0.0,\"#0d0887\"],[0.1111111111111111,\"#46039f\"],[0.2222222222222222,\"#7201a8\"],[0.3333333333333333,\"#9c179e\"],[0.4444444444444444,\"#bd3786\"],[0.5555555555555556,\"#d8576b\"],[0.6666666666666666,\"#ed7953\"],[0.7777777777777778,\"#fb9f3a\"],[0.8888888888888888,\"#fdca26\"],[1.0,\"#f0f921\"]],\"type\":\"heatmapgl\"}],\"histogram\":[{\"marker\":{\"pattern\":{\"fillmode\":\"overlay\",\"size\":10,\"solidity\":0.2}},\"type\":\"histogram\"}],\"histogram2d\":[{\"colorbar\":{\"outlinewidth\":0,\"ticks\":\"\"},\"colorscale\":[[0.0,\"#0d0887\"],[0.1111111111111111,\"#46039f\"],[0.2222222222222222,\"#7201a8\"],[0.3333333333333333,\"#9c179e\"],[0.4444444444444444,\"#bd3786\"],[0.5555555555555556,\"#d8576b\"],[0.6666666666666666,\"#ed7953\"],[0.7777777777777778,\"#fb9f3a\"],[0.8888888888888888,\"#fdca26\"],[1.0,\"#f0f921\"]],\"type\":\"histogram2d\"}],\"histogram2dcontour\":[{\"colorbar\":{\"outlinewidth\":0,\"ticks\":\"\"},\"colorscale\":[[0.0,\"#0d0887\"],[0.1111111111111111,\"#46039f\"],[0.2222222222222222,\"#7201a8\"],[0.3333333333333333,\"#9c179e\"],[0.4444444444444444,\"#bd3786\"],[0.5555555555555556,\"#d8576b\"],[0.6666666666666666,\"#ed7953\"],[0.7777777777777778,\"#fb9f3a\"],[0.8888888888888888,\"#fdca26\"],[1.0,\"#f0f921\"]],\"type\":\"histogram2dcontour\"}],\"mesh3d\":[{\"colorbar\":{\"outlinewidth\":0,\"ticks\":\"\"},\"type\":\"mesh3d\"}],\"parcoords\":[{\"line\":{\"colorbar\":{\"outlinewidth\":0,\"ticks\":\"\"}},\"type\":\"parcoords\"}],\"pie\":[{\"automargin\":true,\"type\":\"pie\"}],\"scatter\":[{\"marker\":{\"colorbar\":{\"outlinewidth\":0,\"ticks\":\"\"}},\"type\":\"scatter\"}],\"scatter3d\":[{\"line\":{\"colorbar\":{\"outlinewidth\":0,\"ticks\":\"\"}},\"marker\":{\"colorbar\":{\"outlinewidth\":0,\"ticks\":\"\"}},\"type\":\"scatter3d\"}],\"scattercarpet\":[{\"marker\":{\"colorbar\":{\"outlinewidth\":0,\"ticks\":\"\"}},\"type\":\"scattercarpet\"}],\"scattergeo\":[{\"marker\":{\"colorbar\":{\"outlinewidth\":0,\"ticks\":\"\"}},\"type\":\"scattergeo\"}],\"scattergl\":[{\"marker\":{\"colorbar\":{\"outlinewidth\":0,\"ticks\":\"\"}},\"type\":\"scattergl\"}],\"scattermapbox\":[{\"marker\":{\"colorbar\":{\"outlinewidth\":0,\"ticks\":\"\"}},\"type\":\"scattermapbox\"}],\"scatterpolar\":[{\"marker\":{\"colorbar\":{\"outlinewidth\":0,\"ticks\":\"\"}},\"type\":\"scatterpolar\"}],\"scatterpolargl\":[{\"marker\":{\"colorbar\":{\"outlinewidth\":0,\"ticks\":\"\"}},\"type\":\"scatterpolargl\"}],\"scatterternary\":[{\"marker\":{\"colorbar\":{\"outlinewidth\":0,\"ticks\":\"\"}},\"type\":\"scatterternary\"}],\"surface\":[{\"colorbar\":{\"outlinewidth\":0,\"ticks\":\"\"},\"colorscale\":[[0.0,\"#0d0887\"],[0.1111111111111111,\"#46039f\"],[0.2222222222222222,\"#7201a8\"],[0.3333333333333333,\"#9c179e\"],[0.4444444444444444,\"#bd3786\"],[0.5555555555555556,\"#d8576b\"],[0.6666666666666666,\"#ed7953\"],[0.7777777777777778,\"#fb9f3a\"],[0.8888888888888888,\"#fdca26\"],[1.0,\"#f0f921\"]],\"type\":\"surface\"}],\"table\":[{\"cells\":{\"fill\":{\"color\":\"#EBF0F8\"},\"line\":{\"color\":\"white\"}},\"header\":{\"fill\":{\"color\":\"#C8D4E3\"},\"line\":{\"color\":\"white\"}},\"type\":\"table\"}]},\"layout\":{\"annotationdefaults\":{\"arrowcolor\":\"#2a3f5f\",\"arrowhead\":0,\"arrowwidth\":1},\"autotypenumbers\":\"strict\",\"coloraxis\":{\"colorbar\":{\"outlinewidth\":0,\"ticks\":\"\"}},\"colorscale\":{\"diverging\":[[0,\"#8e0152\"],[0.1,\"#c51b7d\"],[0.2,\"#de77ae\"],[0.3,\"#f1b6da\"],[0.4,\"#fde0ef\"],[0.5,\"#f7f7f7\"],[0.6,\"#e6f5d0\"],[0.7,\"#b8e186\"],[0.8,\"#7fbc41\"],[0.9,\"#4d9221\"],[1,\"#276419\"]],\"sequential\":[[0.0,\"#0d0887\"],[0.1111111111111111,\"#46039f\"],[0.2222222222222222,\"#7201a8\"],[0.3333333333333333,\"#9c179e\"],[0.4444444444444444,\"#bd3786\"],[0.5555555555555556,\"#d8576b\"],[0.6666666666666666,\"#ed7953\"],[0.7777777777777778,\"#fb9f3a\"],[0.8888888888888888,\"#fdca26\"],[1.0,\"#f0f921\"]],\"sequentialminus\":[[0.0,\"#0d0887\"],[0.1111111111111111,\"#46039f\"],[0.2222222222222222,\"#7201a8\"],[0.3333333333333333,\"#9c179e\"],[0.4444444444444444,\"#bd3786\"],[0.5555555555555556,\"#d8576b\"],[0.6666666666666666,\"#ed7953\"],[0.7777777777777778,\"#fb9f3a\"],[0.8888888888888888,\"#fdca26\"],[1.0,\"#f0f921\"]]},\"colorway\":[\"#636efa\",\"#EF553B\",\"#00cc96\",\"#ab63fa\",\"#FFA15A\",\"#19d3f3\",\"#FF6692\",\"#B6E880\",\"#FF97FF\",\"#FECB52\"],\"font\":{\"color\":\"#2a3f5f\"},\"geo\":{\"bgcolor\":\"white\",\"lakecolor\":\"white\",\"landcolor\":\"#E5ECF6\",\"showlakes\":true,\"showland\":true,\"subunitcolor\":\"white\"},\"hoverlabel\":{\"align\":\"left\"},\"hovermode\":\"closest\",\"mapbox\":{\"style\":\"light\"},\"paper_bgcolor\":\"white\",\"plot_bgcolor\":\"#E5ECF6\",\"polar\":{\"angularaxis\":{\"gridcolor\":\"white\",\"linecolor\":\"white\",\"ticks\":\"\"},\"bgcolor\":\"#E5ECF6\",\"radialaxis\":{\"gridcolor\":\"white\",\"linecolor\":\"white\",\"ticks\":\"\"}},\"scene\":{\"xaxis\":{\"backgroundcolor\":\"#E5ECF6\",\"gridcolor\":\"white\",\"gridwidth\":2,\"linecolor\":\"white\",\"showbackground\":true,\"ticks\":\"\",\"zerolinecolor\":\"white\"},\"yaxis\":{\"backgroundcolor\":\"#E5ECF6\",\"gridcolor\":\"white\",\"gridwidth\":2,\"linecolor\":\"white\",\"showbackground\":true,\"ticks\":\"\",\"zerolinecolor\":\"white\"},\"zaxis\":{\"backgroundcolor\":\"#E5ECF6\",\"gridcolor\":\"white\",\"gridwidth\":2,\"linecolor\":\"white\",\"showbackground\":true,\"ticks\":\"\",\"zerolinecolor\":\"white\"}},\"shapedefaults\":{\"line\":{\"color\":\"#2a3f5f\"}},\"ternary\":{\"aaxis\":{\"gridcolor\":\"white\",\"linecolor\":\"white\",\"ticks\":\"\"},\"baxis\":{\"gridcolor\":\"white\",\"linecolor\":\"white\",\"ticks\":\"\"},\"bgcolor\":\"#E5ECF6\",\"caxis\":{\"gridcolor\":\"white\",\"linecolor\":\"white\",\"ticks\":\"\"}},\"title\":{\"x\":0.05},\"xaxis\":{\"automargin\":true,\"gridcolor\":\"white\",\"linecolor\":\"white\",\"ticks\":\"\",\"title\":{\"standoff\":15},\"zerolinecolor\":\"white\",\"zerolinewidth\":2},\"yaxis\":{\"automargin\":true,\"gridcolor\":\"white\",\"linecolor\":\"white\",\"ticks\":\"\",\"title\":{\"standoff\":15},\"zerolinecolor\":\"white\",\"zerolinewidth\":2}}},\"title\":{\"text\":\"WildField : Apotome_x63           Ratios Box plot           PICT-BDD           (Update : 2022-07-05)<br><sub><b>Statistical T-Tests are carried out between a date and the date immediately preceding it</b></sub>\",\"x\":0.5},\"width\":900,\"xaxis\":{\"anchor\":\"y\",\"categoryarray\":[\"2021-06-15\",\"2021-10-15\",\"2022-03-16\",\"2022-06-15\",\"2022-07-01\"],\"categoryorder\":\"array\",\"domain\":[0.0,0.98],\"title\":{\"text\":\"Date\"}},\"xaxis2\":{\"anchor\":\"y2\",\"domain\":[0.0,0.98],\"matches\":\"x\",\"showticklabels\":false},\"xaxis3\":{\"anchor\":\"y3\",\"domain\":[0.0,0.98],\"matches\":\"x\",\"showticklabels\":false},\"xaxis4\":{\"anchor\":\"y4\",\"domain\":[0.0,0.98],\"matches\":\"x\",\"showticklabels\":false},\"xaxis5\":{\"anchor\":\"y5\",\"domain\":[0.0,0.98],\"matches\":\"x\",\"showticklabels\":false},\"xaxis6\":{\"anchor\":\"y6\",\"domain\":[0.0,0.98],\"matches\":\"x\",\"showticklabels\":false},\"yaxis\":{\"anchor\":\"x\",\"domain\":[0.0,0.14166666666666666],\"title\":{\"text\":\"Ratios\"}},\"yaxis2\":{\"anchor\":\"x2\",\"domain\":[0.17166666666666666,0.31333333333333335],\"title\":{\"text\":\"Ratios\"}},\"yaxis3\":{\"anchor\":\"x3\",\"domain\":[0.3433333333333333,0.485],\"title\":{\"text\":\"Ratios\"}},\"yaxis4\":{\"anchor\":\"x4\",\"domain\":[0.515,0.6566666666666667],\"title\":{\"text\":\"Ratios\"}},\"yaxis5\":{\"anchor\":\"x5\",\"domain\":[0.6866666666666666,0.8283333333333334],\"title\":{\"text\":\"Ratios\"}},\"yaxis6\":{\"anchor\":\"x6\",\"domain\":[0.8583333333333333,1.0],\"title\":{\"text\":\"Ratios\"}}},                        {\"responsive\": true}                    ).then(function(){\n",
       "                            \n",
       "var gd = document.getElementById('200343b6-0fc3-477b-8c03-291ff24cd178');\n",
       "var x = new MutationObserver(function (mutations, observer) {{\n",
       "        var display = window.getComputedStyle(gd).display;\n",
       "        if (!display || display === 'none') {{\n",
       "            console.log([gd, 'removed!']);\n",
       "            Plotly.purge(gd);\n",
       "            observer.disconnect();\n",
       "        }}\n",
       "}});\n",
       "\n",
       "// Listen for the removal of the full notebook cells\n",
       "var notebookContainer = gd.closest('#notebook-container');\n",
       "if (notebookContainer) {{\n",
       "    x.observe(notebookContainer, {childList: true});\n",
       "}}\n",
       "\n",
       "// Listen for the clearing of the current output cell\n",
       "var outputEl = gd.closest('.output');\n",
       "if (outputEl) {{\n",
       "    x.observe(outputEl, {childList: true});\n",
       "}}\n",
       "\n",
       "                        })                };                });            </script>        </div>"
      ]
     },
     "metadata": {},
     "output_type": "display_data"
    },
    {
     "name": "stdout",
     "output_type": "stream",
     "text": [
      "\n",
      "\n",
      "20220705_PLOT_RESULT_(3).pdf is created\n",
      "PATH : /home/pictbdd/metroloj_analysis/data_test/coregistration/WildField\n"
     ]
    }
   ],
   "source": [
    "master = tk.Tk()\n",
    "master.geometry(\"400x200\")\n",
    "master.title('What analyze do you want to treat ?')\n",
    "\n",
    "v = tk.StringVar(master)\n",
    "\n",
    "def ShowChoice():\n",
    "    global which_button_is_selected\n",
    "    which_button_is_selected = v.get()\n",
    "\n",
    "values = {\"Resolution\" : \"1\",\n",
    "          \"Coregistration\" : \"2\",\n",
    "          \"Field Homogeneity\" : \"3\",\n",
    "          \"Laser Power\" : \"4\"}\n",
    "\n",
    "tk.Label(master, \n",
    "         text=\"\"\"Choose your plot :\"\"\",\n",
    "         justify = tk.LEFT,\n",
    "         padx = 20).pack()\n",
    "\n",
    "\n",
    "for (text, value) in values.items():\n",
    "    tk.Radiobutton(master, text = text, variable = v, value = value, indicator = 0, background = \"light blue\", command=ShowChoice).pack(fill = tk.X, ipady = 5, anchor=tk.W)\n",
    "\n",
    "\n",
    "button = tk.Button(\n",
    "    master,\n",
    "    text=\"Get Selected\",\n",
    "    command=master.quit)\n",
    "\n",
    "button.pack(fill=tk.X, padx=5, pady=5)\n",
    "\n",
    "\n",
    "\n",
    "\n",
    "\n",
    "master.mainloop()\n",
    "master.destroy()\n",
    "\n",
    "if which_button_is_selected == '1': # Résolution part\n",
    "    print('OK PSF')\n",
    "    \n",
    "    Input_folder = pa.select_folder() # Select input folder\n",
    "    print('\\n')\n",
    "    Processed_folder = pa.processed_path(Input_folder[0], Input_folder[1]) # Find MetroloJ_QC Processed folder\n",
    "    DF = pa.convert_to_df(Processed_folder, Input_folder[1], Input_folder[2], Input_folder[3], Input_folder[4], Input_folder[0]) # Creat dataframe containing all data\n",
    "    # DF[0] => dataframe for XYZ data\n",
    "    # DF[1] => dataframe for SBR data\n",
    "    DF_XYZ_stat = pa.XYZ_stats(DF[0]) # Stat for XYZ data\n",
    "    DF_SBR_stat = pa.SBR_stats(DF[1]) # Stat for SBR data\n",
    "    print('\\n')\n",
    "    param_selected = pa.select_param() # Select analyze parameters to plot\n",
    "    pa.display_selected_plot(param_selected[1], param_selected[0], DF[0], DF[1], DF_XYZ_stat, DF_SBR_stat[0], Input_folder[0], DF_SBR_stat[1])\n",
    "    \n",
    "\n",
    "\n",
    "    \n",
    "elif which_button_is_selected == '2': # Coregistration part\n",
    "    print('OK Coreg')\n",
    "    \n",
    "    Input_folder = ca.select_folder() # Select input folder\n",
    "    print('\\n')\n",
    "    Processed_folder = ca.processed_path(Input_folder[0], Input_folder[1]) # Find MetroloJ_QC Processed folder\n",
    "    DF = ca.convert_to_df(Processed_folder, Input_folder[1], Input_folder[2], Input_folder[3], Input_folder[4], Input_folder[0]) # Creat dataframe containing all data\n",
    "    DF_stat = ca.coreg_stats(DF[0], DF[1]) # Dataframe for all stat\n",
    "    print('\\n')\n",
    "    param_selected = ca.select_param() # Select analyze parameters to plot\n",
    "    date_liste = DF[1]['Date'].tolist()\n",
    "    ca.display_selected_plot(param_selected[1], param_selected[0], DF[0], DF_stat[0], Input_folder[0], DF_stat[1], DF[2], date_liste)\n",
    "    "
   ]
  }
 ],
 "metadata": {
  "kernelspec": {
   "display_name": "Python 3 (ipykernel)",
   "language": "python",
   "name": "python3"
  },
  "language_info": {
   "codemirror_mode": {
    "name": "ipython",
    "version": 3
   },
   "file_extension": ".py",
   "mimetype": "text/x-python",
   "name": "python",
   "nbconvert_exporter": "python",
   "pygments_lexer": "ipython3",
   "version": "3.9.7"
  }
 },
 "nbformat": 4,
 "nbformat_minor": 5
}
