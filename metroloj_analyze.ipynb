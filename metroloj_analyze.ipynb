{
 "cells": [
  {
   "cell_type": "markdown",
   "id": "229984b0-103f-49b8-9e38-77ff70cdae5b",
   "metadata": {},
   "source": [
    "<img src=\"images/MetroloJA_logo_white.png\">"
   ]
  },
  {
   "cell_type": "code",
   "execution_count": 1,
   "id": "4545f268-7a4e-441f-b0f2-1bb09387b9f3",
   "metadata": {
    "tags": []
   },
   "outputs": [],
   "source": [
    "# Import\n",
    "from metroloja_lib import coreg_analyze as ca\n",
    "from metroloja_lib import psf_analyze as pa\n",
    "import tkinter as tk\n",
    "import os\n",
    "import zipfile\n",
    "\n",
    "from IPython.display import display, Markdown, clear_output\n",
    "# widget packages\n",
    "import ipywidgets as widgets\n",
    "from IPython.display import display\n",
    "from ipyfilechooser import FileChooser"
   ]
  },
  {
   "cell_type": "code",
   "execution_count": 2,
   "id": "541537f3",
   "metadata": {},
   "outputs": [
    {
     "data": {
      "application/vnd.jupyter.widget-view+json": {
       "model_id": "4c1d1745598b47e8b6f710c7fb93962a",
       "version_major": 2,
       "version_minor": 0
      },
      "text/plain": [
       "FileChooser(path='/home/jovyan', filename='', title='<b>Select your input zip file</b>', show_hidden=False, se…"
      ]
     },
     "metadata": {},
     "output_type": "display_data"
    }
   ],
   "source": [
    "starting_directory = '.'\n",
    "chooser = FileChooser(starting_directory)\n",
    "chooser.title = '<b>Select your input file</b>'\n",
    "display(chooser)"
   ]
  },
  {
   "cell_type": "code",
   "execution_count": 3,
   "id": "c017016d",
   "metadata": {},
   "outputs": [
    {
     "ename": "FileNotFoundError",
     "evalue": "[Errno 2] No such file or directory: ''",
     "output_type": "error",
     "traceback": [
      "\u001b[0;31m---------------------------------------------------------------------------\u001b[0m",
      "\u001b[0;31mFileNotFoundError\u001b[0m                         Traceback (most recent call last)",
      "\u001b[0;32m/tmp/ipykernel_320/484008507.py\u001b[0m in \u001b[0;36m<module>\u001b[0;34m\u001b[0m\n\u001b[1;32m      4\u001b[0m \u001b[0;34m\u001b[0m\u001b[0m\n\u001b[1;32m      5\u001b[0m \u001b[0;32mimport\u001b[0m \u001b[0mzipfile\u001b[0m\u001b[0;34m\u001b[0m\u001b[0;34m\u001b[0m\u001b[0m\n\u001b[0;32m----> 6\u001b[0;31m \u001b[0;32mwith\u001b[0m \u001b[0mzipfile\u001b[0m\u001b[0;34m.\u001b[0m\u001b[0mZipFile\u001b[0m\u001b[0;34m(\u001b[0m\u001b[0mchooser\u001b[0m\u001b[0;34m.\u001b[0m\u001b[0mselected_filename\u001b[0m\u001b[0;34m,\u001b[0m \u001b[0;34m'r'\u001b[0m\u001b[0;34m)\u001b[0m \u001b[0;32mas\u001b[0m \u001b[0mzip_ref\u001b[0m\u001b[0;34m:\u001b[0m\u001b[0;34m\u001b[0m\u001b[0;34m\u001b[0m\u001b[0m\n\u001b[0m\u001b[1;32m      7\u001b[0m     \u001b[0mzip_ref\u001b[0m\u001b[0;34m.\u001b[0m\u001b[0mextractall\u001b[0m\u001b[0;34m(\u001b[0m\u001b[0;34m'.'\u001b[0m\u001b[0;34m)\u001b[0m\u001b[0;34m\u001b[0m\u001b[0;34m\u001b[0m\u001b[0m\n\u001b[1;32m      8\u001b[0m \u001b[0;34m\u001b[0m\u001b[0m\n",
      "\u001b[0;32m/srv/conda/envs/notebook/lib/python3.7/zipfile.py\u001b[0m in \u001b[0;36m__init__\u001b[0;34m(self, file, mode, compression, allowZip64, compresslevel)\u001b[0m\n\u001b[1;32m   1238\u001b[0m             \u001b[0;32mwhile\u001b[0m \u001b[0;32mTrue\u001b[0m\u001b[0;34m:\u001b[0m\u001b[0;34m\u001b[0m\u001b[0;34m\u001b[0m\u001b[0m\n\u001b[1;32m   1239\u001b[0m                 \u001b[0;32mtry\u001b[0m\u001b[0;34m:\u001b[0m\u001b[0;34m\u001b[0m\u001b[0;34m\u001b[0m\u001b[0m\n\u001b[0;32m-> 1240\u001b[0;31m                     \u001b[0mself\u001b[0m\u001b[0;34m.\u001b[0m\u001b[0mfp\u001b[0m \u001b[0;34m=\u001b[0m \u001b[0mio\u001b[0m\u001b[0;34m.\u001b[0m\u001b[0mopen\u001b[0m\u001b[0;34m(\u001b[0m\u001b[0mfile\u001b[0m\u001b[0;34m,\u001b[0m \u001b[0mfilemode\u001b[0m\u001b[0;34m)\u001b[0m\u001b[0;34m\u001b[0m\u001b[0;34m\u001b[0m\u001b[0m\n\u001b[0m\u001b[1;32m   1241\u001b[0m                 \u001b[0;32mexcept\u001b[0m \u001b[0mOSError\u001b[0m\u001b[0;34m:\u001b[0m\u001b[0;34m\u001b[0m\u001b[0;34m\u001b[0m\u001b[0m\n\u001b[1;32m   1242\u001b[0m                     \u001b[0;32mif\u001b[0m \u001b[0mfilemode\u001b[0m \u001b[0;32min\u001b[0m \u001b[0mmodeDict\u001b[0m\u001b[0;34m:\u001b[0m\u001b[0;34m\u001b[0m\u001b[0;34m\u001b[0m\u001b[0m\n",
      "\u001b[0;31mFileNotFoundError\u001b[0m: [Errno 2] No such file or directory: ''"
     ]
    }
   ],
   "source": [
    "global folder_path\n",
    "folder_path = os.path.splitext(chooser.selected)[0]\n",
    "\n",
    "if chooser.selected_filename.is_file():\n",
    "    with zipfile.ZipFile(chooser.selected_filename, 'r') as zip_ref:\n",
    "        zip_ref.extractall('.')\n",
    "\n",
    "    os.remove(chooser.selected_filename)"
   ]
  },
  {
   "cell_type": "code",
   "execution_count": 6,
   "id": "17452aac",
   "metadata": {},
   "outputs": [],
   "source": [
    "def start(b):\n",
    "    a = ['Resolution','Coregistration','Laser Power','Field Homogeneity']\n",
    "    N_buttons=4\n",
    "    buttons_analyze_type=[widgets.Button(description = i) for i in a]\n",
    "    outputs=widgets.HBox([items for items in buttons_analyze_type])\n",
    "    display(outputs)\n",
    "    \n",
    "    \n",
    "    button_measurement_choice = widgets.Button(description=\"OK!\")\n",
    "    output = widgets.Output()\n",
    "    display(button_measurement_choice, output)\n",
    "    \n",
    "    button_measurement_choice.disabled = True\n",
    "    \n",
    "    \n",
    "    \n",
    "    def on_button_clicked1(x):\n",
    "        global which_button_is_selected\n",
    "        which_button_is_selected = x.description\n",
    "        button_measurement_choice.disabled = False\n",
    "        #print(which_button_is_selected)\n",
    "    \n",
    "    \n",
    "    \n",
    "    \n",
    "    def on_button_clicked2(b):\n",
    "        with output:\n",
    "            print(f\"Analyze type : {which_button_is_selected}\")\n",
    "\n",
    "            if which_button_is_selected  != None:\n",
    "                if which_button_is_selected == 'Resolution': # Résolution part\n",
    "                    print('OK PSF')\n",
    "\n",
    "                    Input_folder = pa.select_folder(folder_path) # Select input folder\n",
    "                    print('\\n')\n",
    "                    Processed_folder = pa.processed_path(Input_folder[0], Input_folder[1]) # Find MetroloJ_QC Processed folder\n",
    "                    DF = pa.convert_to_df(Processed_folder, Input_folder[1], Input_folder[2], Input_folder[3], Input_folder[4], Input_folder[0]) # Creat dataframe containing all data\n",
    "                    # DF[0] => dataframe for XYZ data\n",
    "                    # DF[1] => dataframe for SBR data\n",
    "                    DF_XYZ_stat = pa.XYZ_stats(DF[0]) # Stat for XYZ data\n",
    "                    DF_SBR_stat = pa.SBR_stats(DF[1]) # Stat for SBR data\n",
    "\n",
    "                    button_boxplot = widgets.Button(description=\"Show Boxplot!\")\n",
    "                    output2 = widgets.Output()\n",
    "                    \n",
    "\n",
    "                    button_boxplot.disabled = True\n",
    "                    \n",
    "                    param_selected = pa.select_param(button_boxplot) # Select analyze parameters to plot\n",
    "                    \n",
    "                    def on_button_clicked3(x):\n",
    "                        pa.display_selected_plot(folder_path, DF[0], DF[1], DF_XYZ_stat, DF_SBR_stat[0], Input_folder[0], DF_SBR_stat[1])\n",
    "\n",
    "                    button_boxplot.on_click(on_button_clicked3)\n",
    "                    display(button_boxplot, output2)\n",
    "\n",
    "\n",
    "\n",
    "                elif which_button_is_selected == 'Coregistration': # Coregistration part\n",
    "                    print('OK Coreg')\n",
    "\n",
    "                    Input_folder = ca.select_folder() # Select input folder\n",
    "                    print('\\n')\n",
    "                    Processed_folder = ca.processed_path(Input_folder[0], Input_folder[1]) # Find MetroloJ_QC Processed folder\n",
    "                    DF = ca.convert_to_df(Processed_folder, Input_folder[1], Input_folder[2], Input_folder[3], Input_folder[4], Input_folder[0]) # Creat dataframe containing all data\n",
    "                    DF_stat = ca.coreg_stats(DF[0], DF[1]) # Dataframe for all stat\n",
    "                    print('\\n')\n",
    "                    param_selected = ca.select_param() # Select analyze parameters to plot\n",
    "                    print('\\n')\n",
    "                    date_list = DF[1]['Date'].tolist()\n",
    "                    ca.display_selected_plot(param_selected[1], param_selected[0], DF[0], DF_stat[0], Input_folder[0], DF_stat[1], DF[2], date_list)\n",
    "\n",
    "    \n",
    "\n",
    "    for i in range(N_buttons):\n",
    "        buttons_analyze_type[i].on_click(on_button_clicked1)\n",
    "\n",
    "\n",
    "    button_measurement_choice.on_click(on_button_clicked2)\n"
   ]
  },
  {
   "cell_type": "code",
   "execution_count": 7,
   "id": "ab044e96",
   "metadata": {},
   "outputs": [
    {
     "data": {
      "application/vnd.jupyter.widget-view+json": {
       "model_id": "63d166ef4d1348a3bd89e1c0bd3351b8",
       "version_major": 2,
       "version_minor": 0
      },
      "text/plain": [
       "HBox(children=(Button(description='Click to Start !', layout=Layout(height='80px', width='25%'), style=ButtonS…"
      ]
     },
     "metadata": {},
     "output_type": "display_data"
    },
    {
     "data": {
      "application/vnd.jupyter.widget-view+json": {
       "model_id": "fb01cbaee4794cbf8cc60fd0bc309aee",
       "version_major": 2,
       "version_minor": 0
      },
      "text/plain": [
       "Output()"
      ]
     },
     "metadata": {},
     "output_type": "display_data"
    },
    {
     "data": {
      "application/vnd.jupyter.widget-view+json": {
       "model_id": "0876978d18954fc6811382c05a79daba",
       "version_major": 2,
       "version_minor": 0
      },
      "text/plain": [
       "HBox(children=(Button(description='Resolution', style=ButtonStyle()), Button(description='Coregistration', sty…"
      ]
     },
     "metadata": {},
     "output_type": "display_data"
    },
    {
     "data": {
      "application/vnd.jupyter.widget-view+json": {
       "model_id": "105e3a19553340f9b2cf36d3b5029a35",
       "version_major": 2,
       "version_minor": 0
      },
      "text/plain": [
       "Button(description='OK!', style=ButtonStyle())"
      ]
     },
     "metadata": {},
     "output_type": "display_data"
    },
    {
     "data": {
      "application/vnd.jupyter.widget-view+json": {
       "model_id": "c4ff8f9acb3e40d3bc2efde441b75562",
       "version_major": 2,
       "version_minor": 0
      },
      "text/plain": [
       "Output()"
      ]
     },
     "metadata": {},
     "output_type": "display_data"
    }
   ],
   "source": [
    "button = widgets.Button(description=\"Click to Start !\", style=dict(font_weight='bold',\n",
    "                                                                  button_color = 'lightgreen'), \n",
    "                        layout = widgets.Layout(width = '25%', height = '80px'))\n",
    "output = widgets.Output()\n",
    "\n",
    "box_layout = widgets.Layout(display='flex', flex_flow='column',\n",
    "                            align_items='center')\n",
    "box = widgets.HBox(children=[button],layout=box_layout)\n",
    "\n",
    "display(box, output)\n",
    "\n",
    "button.on_click(start)"
   ]
  },
  {
   "cell_type": "code",
   "execution_count": null,
   "id": "a36092e9-b128-4585-acc6-7a5fd837ec92",
   "metadata": {},
   "outputs": [],
   "source": []
  }
 ],
 "metadata": {
  "kernelspec": {
   "display_name": "Python 3 (ipykernel)",
   "language": "python",
   "name": "python3"
  },
  "language_info": {
   "codemirror_mode": {
    "name": "ipython",
    "version": 3
   },
   "file_extension": ".py",
   "mimetype": "text/x-python",
   "name": "python",
   "nbconvert_exporter": "python",
   "pygments_lexer": "ipython3",
   "version": "3.9.7"
  }
 },
 "nbformat": 4,
 "nbformat_minor": 5
}
